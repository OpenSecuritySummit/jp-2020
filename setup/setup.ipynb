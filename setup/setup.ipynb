{
 "cells": [
  {
   "cell_type": "markdown",
   "metadata": {},
   "source": [
    "## setup notebook\n",
    "\n",
    "These commands will configure the current noteboook to be able to commit to the host repo"
   ]
  },
  {
   "cell_type": "code",
   "execution_count": 1,
   "metadata": {},
   "outputs": [],
   "source": [
    "import os\n",
    "import json\n",
    "from osbot_aws.apis.Secrets import Secrets\n",
    "from pbx_gs_python_utils.utils.Files import Files\n",
    "repo_name  = os.environ['repo_name']\n",
    "key_name   = 'git__{0}'.format(repo_name)\n",
    "ssh_folder = '/root/.ssh'\n",
    "data = Secrets(key_name).value_from_json_string()\n",
    "Files.folder_create(ssh_folder)\n",
    "Files.write(ssh_folder + '/id_rsa'    , data.get('private_key'))\n",
    "Files.write(ssh_folder + '/id_rsa.pub', data.get('public_key' ))\n",
    "!chmod 600 /root/.ssh/id_rsa"
   ]
  },
  {
   "cell_type": "code",
   "execution_count": 2,
   "metadata": {},
   "outputs": [
    {
     "name": "stdout",
     "output_type": "stream",
     "text": [
      "origin\tgit@github.com:pbx-gs/gs-notebook-gscs.git (fetch)\r\n",
      "origin\tgit@github.com:pbx-gs/gs-notebook-gscs.git (push)\r\n"
     ]
    }
   ],
   "source": [
    "# change remote\n",
    "!git remote set-url origin git@github.com:pbx-gs/$repo_name.git\n",
    "!git remote -v"
   ]
  },
  {
   "cell_type": "code",
   "execution_count": 3,
   "metadata": {},
   "outputs": [],
   "source": [
    "#setup user\n",
    "!echo \"github.com ssh-rsa AAAAB3NzaC1yc2EAAAABIwAAAQEAq2A7hRGmdnm9tUDbO9IDSwBK6TbQa+PXYPCPy6rbTrTtw7PHkccKrpp0yVhp5HdEIcKr6pLlVDBfOLX9QUsyCOV0wzfjIJNlGEYsdlLJizHhbn2mUjvSAHQqZETYP81eFzLQNnPHt4EVVUh7VfDESU84KezmD5QlWpXLmvU31/yMf+Se8xhHTvKSCZIFImWwoG6mbUoWf9nzpIoaSjB+weqqUUmpaaasXVal72J+UX2B+2RPW3RcT0eOzQgqlJL3RKrTJvdsjE3JEAvGq3lGHSZXy28G3skua2SmVi/w4yCE6gbODqnTWlg7+wC604ydGXA8VJiS5ap43JXiUFFAaQ==\" >> /root/.ssh/known_hosts\n",
    "!git config --global user.email \"gsbot@photobox.com\"\n",
    "!git config --global user.name \"$user\""
   ]
  },
  {
   "cell_type": "code",
   "execution_count": 4,
   "metadata": {},
   "outputs": [
    {
     "name": "stdout",
     "output_type": "stream",
     "text": [
      "Warning: Permanently added the RSA host key for IP address '140.82.118.3' to the list of known hosts.\n",
      "remote: Enumerating objects: 9, done.\u001b[K\n",
      "remote: Counting objects: 100% (9/9), done.\u001b[K\n",
      "remote: Compressing objects: 100% (2/2), done.\u001b[K\n",
      "remote: Total 5 (delta 2), reused 5 (delta 2), pack-reused 0\u001b[K\n",
      "Unpacking objects: 100% (5/5), done.\n",
      "From github.com:pbx-gs/gs-notebook-gscs\n",
      " * branch            master     -> FETCH_HEAD\n",
      "   a28118d..448bca1  master     -> origin/master\n",
      "Updating a28118d..448bca1\n",
      "Fast-forward\n",
      " notebooks/examples/Simple Python Commands.ipynb | 43 \u001b[32m+++++++++++++++++++++++++\u001b[m\n",
      " 1 file changed, 43 insertions(+)\n",
      "M\tsetup/git-utils.ipynb\n",
      "M\tsetup/local-docker.sh\n",
      "M\tsetup/setup.ipynb\n",
      "Already on 'master'\n",
      "Your branch is up to date with 'origin/master'.\n"
     ]
    }
   ],
   "source": [
    "# pulling latest changes (and double check that setup worked)\n",
    "!git pull origin master\n",
    "!git checkout master"
   ]
  },
  {
   "cell_type": "markdown",
   "metadata": {},
   "source": [
    "----"
   ]
  },
  {
   "cell_type": "markdown",
   "metadata": {},
   "source": [
    "---\n",
    "\n",
    "### Create secret\n",
    "\n",
    "this commands only needs to be executed once per repo"
   ]
  },
  {
   "cell_type": "code",
   "execution_count": null,
   "metadata": {},
   "outputs": [],
   "source": [
    "# !mkdir /root/.ssh\n",
    "# !rm /root/.ssh/id_rsa\n",
    "# !rm /root/.ssh/id_rsa.pub\n",
    "# !ssh-keygen -f /root/.ssh/id_rsa -t rsa -N ''\n",
    "\n",
    "# !echo \"github.com ssh-rsa AAAAB3NzaC1yc2EAAAABIwAAAQEAq2A7hRGmdnm9tUDbO9IDSwBK6TbQa+PXYPCPy6rbTrTtw7PHkccKrpp0yVhp5HdEIcKr6pLlVDBfOLX9QUsyCOV0wzfjIJNlGEYsdlLJizHhbn2mUjvSAHQqZETYP81eFzLQNnPHt4EVVUh7VfDESU84KezmD5QlWpXLmvU31/yMf+Se8xhHTvKSCZIFImWwoG6mbUoWf9nzpIoaSjB+weqqUUmpaaasXVal72J+UX2B+2RPW3RcT0eOzQgqlJL3RKrTJvdsjE3JEAvGq3lGHSZXy28G3skua2SmVi/w4yCE6gbODqnTWlg7+wC604ydGXA8VJiS5ap43JXiUFFAaQ==\" >> /root/.ssh/known_hosts\n",
    "\n",
    "# import os\n",
    "# import json\n",
    "# from osbot_aws.apis.Secrets import Secrets\n",
    "# from pbx_gs_python_utils.utils.Files import Files\n",
    "\n",
    "# ssh_folder  = '/root/.ssh'\n",
    "# repo_name   = os.environ['repo_name']\n",
    "# secret_key  = \"git__{0}\".format(repo_name) \n",
    "# repo_path   = \"git@github.com:pbx-gs/{0}.git\".format(repo_name)\n",
    "# public_key  = Files.contents(ssh_folder + '/id_rsa.pub'   )\n",
    "# private_key = Files.contents(ssh_folder + '/id_rsa'   )\n",
    "# data        = { \"repo_name\" : repo_name, \n",
    "#                 \"repo_url\"\t: \"https://github.com/pbx-gs/{0}.git\".format(repo_name),\n",
    "#                 \"public_key\": public_key , \n",
    "#                \"private_key\": private_key}\n",
    "# Secrets(secret_key).update(json.dumps(data))\n",
    "\n",
    "# print(public_key)\n"
   ]
  }
 ],
 "metadata": {
  "hide_input": false,
  "kernelspec": {
   "display_name": "Python 3",
   "language": "python",
   "name": "python3"
  },
  "language_info": {
   "codemirror_mode": {
    "name": "ipython",
    "version": 3
   },
   "file_extension": ".py",
   "mimetype": "text/x-python",
   "name": "python",
   "nbconvert_exporter": "python",
   "pygments_lexer": "ipython3",
   "version": "3.7.3"
  },
  "varInspector": {
   "cols": {
    "lenName": 16,
    "lenType": 16,
    "lenVar": 40
   },
   "kernels_config": {
    "python": {
     "delete_cmd_postfix": "",
     "delete_cmd_prefix": "del ",
     "library": "var_list.py",
     "varRefreshCmd": "print(var_dic_list())"
    },
    "r": {
     "delete_cmd_postfix": ") ",
     "delete_cmd_prefix": "rm(",
     "library": "var_list.r",
     "varRefreshCmd": "cat(var_dic_list()) "
    }
   },
   "types_to_exclude": [
    "module",
    "function",
    "builtin_function_or_method",
    "instance",
    "_Feature"
   ],
   "window_display": false
  }
 },
 "nbformat": 4,
 "nbformat_minor": 2
}
