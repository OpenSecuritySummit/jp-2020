{
 "cells": [
  {
   "cell_type": "markdown",
   "metadata": {},
   "source": [
    "## 1 - Data Tables of Hugo Content (using Hugo API)\n",
    "\n",
    "This notebook contain multiple views of the data we have available via the `hugo` apis (which loads up the data)\n",
    "\n",
    "#### Create the `hugo` object\n",
    "\n",
    "This bit of code needs to be executed at the top of the notebook"
   ]
  },
  {
   "cell_type": "code",
   "execution_count": 1,
   "metadata": {},
   "outputs": [],
   "source": [
    "from oss_hugo.API_Hugo_OSS import API_Hugo_OSS\n",
    "hugo = API_Hugo_OSS()"
   ]
  },
  {
   "cell_type": "markdown",
   "metadata": {},
   "source": [
    "#### Use code complete to help\n",
    "\n",
    "To Help reminding you of the commands available, type `hugo.` and press tab (i.e. `hugo` + `full stop` + `tab`), which will look like this:\n",
    "\n",
    "<img width=500 style='border:1px solid' src=https://user-images.githubusercontent.com/656739/58765210-40b1d500-8568-11e9-8608-1f045996dda6.png />"
   ]
  },
  {
   "cell_type": "code",
   "execution_count": null,
   "metadata": {},
   "outputs": [],
   "source": [
    "### Viewing all Participants"
   ]
  }
 ],
 "metadata": {
  "kernelspec": {
   "display_name": "Python 3",
   "language": "python",
   "name": "python3"
  },
  "language_info": {
   "codemirror_mode": {
    "name": "ipython",
    "version": 3
   },
   "file_extension": ".py",
   "mimetype": "text/x-python",
   "name": "python",
   "nbconvert_exporter": "python",
   "pygments_lexer": "ipython3",
   "version": "3.7.3"
  }
 },
 "nbformat": 4,
 "nbformat_minor": 2
}
