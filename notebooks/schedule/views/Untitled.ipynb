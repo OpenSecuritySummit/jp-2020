{
 "cells": [
  {
   "cell_type": "markdown",
   "metadata": {},
   "source": [
    "## 1 - Data Tables of Hugo Content (using Hugo API)\n",
    "\n",
    "This notebook contain multiple views of the data we have available via the `hugo` apis (which loads up the data)\n",
    "\n",
    "#### Create the `hugo` object\n",
    "\n",
    "This bit of code needs to be executed at the top of the notebook"
   ]
  },
  {
   "cell_type": "code",
   "execution_count": 1,
   "metadata": {},
   "outputs": [],
   "source": [
    "from oss_hugo.API_Hugo_OSS import API_Hugo_OSS\n",
    "hugo = API_Hugo_OSS()"
   ]
  },
  {
   "cell_type": "markdown",
   "metadata": {},
   "source": [
    "#### Use code complete to help\n",
    "\n",
    "To Help reminding you of the commands available, type `gh"
   ]
  }
 ],
 "metadata": {
  "kernelspec": {
   "display_name": "Python 3",
   "language": "python",
   "name": "python3"
  },
  "language_info": {
   "codemirror_mode": {
    "name": "ipython",
    "version": 3
   },
   "file_extension": ".py",
   "mimetype": "text/x-python",
   "name": "python",
   "nbconvert_exporter": "python",
   "pygments_lexer": "ipython3",
   "version": "3.7.3"
  }
 },
 "nbformat": 4,
 "nbformat_minor": 2
}
