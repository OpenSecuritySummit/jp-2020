{
 "cells": [
  {
   "cell_type": "markdown",
   "metadata": {},
   "source": [
    "## updating git submodules\n",
    "\n",
    "the oss2019 folder at the root of this noteboook is a clone of the repo https://github.com/OpenSecuritySummit/oss2019 (inserted as a submodule), which means that we need to updated it "
   ]
  },
  {
   "cell_type": "code",
   "execution_count": 5,
   "metadata": {},
   "outputs": [
    {
     "name": "stdout",
     "output_type": "stream",
     "text": [
      "Synchronizing submodule url for '../oss2019'\r\n"
     ]
    }
   ],
   "source": [
    "!git submodule sync"
   ]
  },
  {
   "cell_type": "code",
   "execution_count": null,
   "metadata": {},
   "outputs": [],
   "source": []
  }
 ],
 "metadata": {
  "kernelspec": {
   "display_name": "Python 3",
   "language": "python",
   "name": "python3"
  },
  "language_info": {
   "codemirror_mode": {
    "name": "ipython",
    "version": 3
   },
   "file_extension": ".py",
   "mimetype": "text/x-python",
   "name": "python",
   "nbconvert_exporter": "python",
   "pygments_lexer": "ipython3",
   "version": "3.7.3"
  }
 },
 "nbformat": 4,
 "nbformat_minor": 2
}
