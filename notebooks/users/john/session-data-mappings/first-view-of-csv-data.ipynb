{
 "cells": [
  {
   "cell_type": "markdown",
   "metadata": {},
   "source": [
    "## this is a first view of the CSV export \n",
    "\n",
    "From the GSheet document created by John: https://docs.google.com/spreadsheets/d/1KjYydaCgeMm-Xwh3PQEeY82MQLDlJGZ-/"
   ]
  },
  {
   "cell_type": "code",
   "execution_count": 2,
   "metadata": {},
   "outputs": [],
   "source": [
    "import osbot_jupyter"
   ]
  },
  {
   "cell_type": "code",
   "execution_count": null,
   "metadata": {},
   "outputs": [],
   "source": [
    "from osb ot_jupyter.api_notebook.Jp_GSheets import Jp_GSheets\n",
    "\n",
    "gsheets = Jp_GSheets()\n",
    "\n",
    "gsheets."
   ]
  }
 ],
 "metadata": {
  "kernelspec": {
   "display_name": "Python 3",
   "language": "python",
   "name": "python3"
  },
  "language_info": {
   "codemirror_mode": {
    "name": "ipython",
    "version": 3
   },
   "file_extension": ".py",
   "mimetype": "text/x-python",
   "name": "python",
   "nbconvert_exporter": "python",
   "pygments_lexer": "ipython3",
   "version": "3.7.3"
  }
 },
 "nbformat": 4,
 "nbformat_minor": 2
}
