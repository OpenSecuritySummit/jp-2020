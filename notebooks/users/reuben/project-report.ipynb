{
 "cells": [
  {
   "cell_type": "code",
   "execution_count": 1,
   "metadata": {},
   "outputs": [],
   "source": [
    "from osbot_jira.api.jira_server.API_Jira import API_Jira\n",
    "api_jira = API_Jira()"
   ]
  },
  {
   "cell_type": "code",
   "execution_count": 7,
   "metadata": {},
   "outputs": [],
   "source": [
    "api_jira.issue('PROJECTS-1')"
   ]
  },
  {
   "cell_type": "code",
   "execution_count": 10,
   "metadata": {},
   "outputs": [
    {
     "data": {
      "text/plain": [
       "{'BUG': <JIRA Project: key='BUG', name='BUG', id='10014'>,\n",
       " 'DESIGN': <JIRA Project: key='DESIGN', name='DESIGN', id='10004'>,\n",
       " 'ENTITY': <JIRA Project: key='ENTITY', name='ENTITY', id='10013'>,\n",
       " 'FAQ': <JIRA Project: key='FAQ', name='FAQ', id='10007'>,\n",
       " 'FEATURE': <JIRA Project: key='FEATURE', name='FEATURE', id='10003'>,\n",
       " 'ORGANIZER': <JIRA Project: key='ORGANIZER', name='ORGANIZER', id='10011'>,\n",
       " 'PERSON': <JIRA Project: key='PERSON', name='PERSON', id='10012'>,\n",
       " 'PROJECTS': <JIRA Project: key='PROJECTS', name='PROJECTS', id='10002'>,\n",
       " 'QUESTIONS': <JIRA Project: key='QUESTIONS', name='QUESTIONS', id='10005'>,\n",
       " 'SCHEDULE': <JIRA Project: key='SCHEDULE', name='SCHEDULE', id='10009'>,\n",
       " 'SESSION': <JIRA Project: key='SESSION', name='SESSION', id='10008'>,\n",
       " 'STORY': <JIRA Project: key='STORY', name='STORY', id='10006'>,\n",
       " 'TASK': <JIRA Project: key='TASK', name='TASK', id='10000'>,\n",
       " 'TRACK': <JIRA Project: key='TRACK', name='TRACK', id='10010'>}"
      ]
     },
     "execution_count": 10,
     "metadata": {},
     "output_type": "execute_result"
    }
   ],
   "source": [
    "api_"
   ]
  },
  {
   "cell_type": "code",
   "execution_count": null,
   "metadata": {},
   "outputs": [],
   "source": []
  }
 ],
 "metadata": {
  "kernelspec": {
   "display_name": "Python 3",
   "language": "python",
   "name": "python3"
  },
  "language_info": {
   "codemirror_mode": {
    "name": "ipython",
    "version": 3
   },
   "file_extension": ".py",
   "mimetype": "text/x-python",
   "name": "python",
   "nbconvert_exporter": "python",
   "pygments_lexer": "ipython3",
   "version": "3.7.3"
  }
 },
 "nbformat": 4,
 "nbformat_minor": 2
}
