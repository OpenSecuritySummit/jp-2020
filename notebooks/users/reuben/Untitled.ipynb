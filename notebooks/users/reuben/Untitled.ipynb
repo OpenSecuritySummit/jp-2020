{
 "cells": [
  {
   "cell_type": "code",
   "execution_count": null,
   "metadata": {},
   "outputs": [],
   "source": []
  },
  {
   "cell_type": "code",
   "execution_count": 4,
   "metadata": {},
   "outputs": [
    {
     "data": {
      "text/plain": [
       "{'Assignee': None,\n",
       " 'Components': [],\n",
       " 'Created': '2020-05-28T14:19:01.111+0100',\n",
       " 'Creator': 'mariel lopez',\n",
       " 'Description': '[reubena.kavalov@gmail.com|mailto:reubena.kavalov@gmail.com]',\n",
       " 'Issue Type': 'PERSON',\n",
       " 'Issue Links': {},\n",
       " 'Key': 'PERSON-7',\n",
       " 'Labels': [],\n",
       " 'Parent': None,\n",
       " 'Priority': 'Medium',\n",
       " 'Project': 'PERSON',\n",
       " 'Summary': 'Reuben Kavalov (GW-OSS-Upwork)',\n",
       " 'Status': 'Backlog',\n",
       " 'Reporter': 'mariel lopez',\n",
       " 'Updated': '2020-05-29T21:25:32.969+0100'}"
      ]
     },
     "execution_count": 4,
     "metadata": {},
     "output_type": "execute_result"
    }
   ],
   "source": [
    "api_jira = API_Jira()\n",
    "api_jira.issue('PERSON-7')"
   ]
  },
  {
   "cell_type": "code",
   "execution_count": null,
   "metadata": {},
   "outputs": [],
   "source": []
  }
 ],
 "metadata": {
  "kernelspec": {
   "display_name": "Python 3",
   "language": "python",
   "name": "python3"
  },
  "language_info": {
   "codemirror_mode": {
    "name": "ipython",
    "version": 3
   },
   "file_extension": ".py",
   "mimetype": "text/x-python",
   "name": "python",
   "nbconvert_exporter": "python",
   "pygments_lexer": "ipython3",
   "version": "3.7.3"
  }
 },
 "nbformat": 4,
 "nbformat_minor": 2
}
