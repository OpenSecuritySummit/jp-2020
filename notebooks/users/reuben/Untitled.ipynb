{
 "cells": [
  {
   "cell_type": "code",
   "execution_count": 4,
   "metadata": {},
   "outputs": [
    {
     "data": {
      "text/plain": [
       "{'Assignee': None,\n",
       " 'Components': [],\n",
       " 'Created': '2020-05-28T14:19:01.111+0100',\n",
       " 'Creator': 'mariel lopez',\n",
       " 'Description': '[reubena.kavalov@gmail.com|mailto:reubena.kavalov@gmail.com]',\n",
       " 'Issue Type': 'PERSON',\n",
       " 'Issue Links': {},\n",
       " 'Key': 'PERSON-7',\n",
       " 'Labels': [],\n",
       " 'Parent': None,\n",
       " 'Priority': 'Medium',\n",
       " 'Project': 'PERSON',\n",
       " 'Summary': 'Reuben Kavalov (GW-OSS-Upwork)',\n",
       " 'Status': 'Backlog',\n",
       " 'Reporter': 'mariel lopez',\n",
       " 'Updated': '2020-05-29T21:25:32.969+0100'}"
      ]
     },
     "execution_count": 4,
     "metadata": {},
     "output_type": "execute_result"
    }
   ],
   "source": [
    "api_jira = API_Jira()\n",
    "api_jira.issue('PERSON-7')"
   ]
  },
  {
   "cell_type": "code",
   "execution_count": 9,
   "metadata": {
    "scrolled": false
   },
   "outputs": [
    {
     "name": "stdout",
     "output_type": "stream",
     "text": [
      "searching JIRA server for PROJECT=FEATURE , starting at 0 (for a max of -1)\n",
      "searching JIRA server for PROJECT=STORY , starting at 0 (for a max of -1)\n",
      "searching JIRA server for PROJECT=TASK , starting at 0 (for a max of -1)\n"
     ]
    }
   ],
   "source": [
    "features = api_jira.search('PROJECT=FEATURE')\n",
    "stories = api_jira.search('PROJECT=STORY')\n",
    "tasks = api_jira.search('PROJECT=TASK')"
   ]
  },
  {
   "cell_type": "code",
   "execution_count": 13,
   "metadata": {},
   "outputs": [
    {
     "data": {
      "text/html": [
       "<div>\n",
       "<style scoped>\n",
       "    .dataframe tbody tr th:only-of-type {\n",
       "        vertical-align: middle;\n",
       "    }\n",
       "\n",
       "    .dataframe tbody tr th {\n",
       "        vertical-align: top;\n",
       "    }\n",
       "\n",
       "    .dataframe thead th {\n",
       "        text-align: right;\n",
       "    }\n",
       "</style>\n",
       "<table border=\"1\" class=\"dataframe\">\n",
       "  <thead>\n",
       "    <tr style=\"text-align: right;\">\n",
       "      <th></th>\n",
       "      <th>Assignee</th>\n",
       "      <th>Components</th>\n",
       "      <th>Created</th>\n",
       "      <th>Creator</th>\n",
       "      <th>Description</th>\n",
       "      <th>Issue Type</th>\n",
       "      <th>Issue Links</th>\n",
       "      <th>Key</th>\n",
       "      <th>Labels</th>\n",
       "      <th>Parent</th>\n",
       "      <th>Priority</th>\n",
       "      <th>Project</th>\n",
       "      <th>Summary</th>\n",
       "      <th>Status</th>\n",
       "      <th>Reporter</th>\n",
       "      <th>Updated</th>\n",
       "    </tr>\n",
       "  </thead>\n",
       "  <tbody>\n",
       "    <tr>\n",
       "      <th>FEATURE-4</th>\n",
       "      <td>None</td>\n",
       "      <td>[]</td>\n",
       "      <td>2020-06-03T19:52:06.024+0100</td>\n",
       "      <td>Tatevik Stepanyan</td>\n",
       "      <td>None</td>\n",
       "      <td>Feature</td>\n",
       "      <td>{'PROJECTS-1': [{'Direction': 'Inward', 'Link ...</td>\n",
       "      <td>FEATURE-4</td>\n",
       "      <td>[]</td>\n",
       "      <td>None</td>\n",
       "      <td>Medium</td>\n",
       "      <td>FEATURE</td>\n",
       "      <td>Social Media Content Management</td>\n",
       "      <td>Backlog</td>\n",
       "      <td>Tatevik Stepanyan</td>\n",
       "      <td>2020-06-03T22:51:46.860+0100</td>\n",
       "    </tr>\n",
       "    <tr>\n",
       "      <th>FEATURE-3</th>\n",
       "      <td>None</td>\n",
       "      <td>[]</td>\n",
       "      <td>2020-06-03T19:50:26.222+0100</td>\n",
       "      <td>Tatevik Stepanyan</td>\n",
       "      <td>None</td>\n",
       "      <td>Feature</td>\n",
       "      <td>{'PROJECTS-1': [{'Direction': 'Inward', 'Link ...</td>\n",
       "      <td>FEATURE-3</td>\n",
       "      <td>[]</td>\n",
       "      <td>None</td>\n",
       "      <td>Medium</td>\n",
       "      <td>FEATURE</td>\n",
       "      <td>OSS website content management</td>\n",
       "      <td>Backlog</td>\n",
       "      <td>Tatevik Stepanyan</td>\n",
       "      <td>2020-06-03T22:52:00.705+0100</td>\n",
       "    </tr>\n",
       "    <tr>\n",
       "      <th>FEATURE-2</th>\n",
       "      <td>None</td>\n",
       "      <td>[]</td>\n",
       "      <td>2020-06-03T15:38:10.058+0100</td>\n",
       "      <td>mariel lopez</td>\n",
       "      <td>None</td>\n",
       "      <td>Feature</td>\n",
       "      <td>{'BUG-10': [{'Link Type': 'has bug', 'Directio...</td>\n",
       "      <td>FEATURE-2</td>\n",
       "      <td>[]</td>\n",
       "      <td>None</td>\n",
       "      <td>Medium</td>\n",
       "      <td>FEATURE</td>\n",
       "      <td>OSS website coding</td>\n",
       "      <td>Backlog</td>\n",
       "      <td>mariel lopez</td>\n",
       "      <td>2020-06-03T22:51:30.017+0100</td>\n",
       "    </tr>\n",
       "    <tr>\n",
       "      <th>FEATURE-1</th>\n",
       "      <td>None</td>\n",
       "      <td>[]</td>\n",
       "      <td>2020-05-30T08:32:06.142+0100</td>\n",
       "      <td>Tatevik Stepanyan</td>\n",
       "      <td>None</td>\n",
       "      <td>Feature</td>\n",
       "      <td>{'PROJECTS-1': [{'Direction': 'Inward', 'Link ...</td>\n",
       "      <td>FEATURE-1</td>\n",
       "      <td>[]</td>\n",
       "      <td>None</td>\n",
       "      <td>Medium</td>\n",
       "      <td>FEATURE</td>\n",
       "      <td>OSS website design</td>\n",
       "      <td>Backlog</td>\n",
       "      <td>Tatevik Stepanyan</td>\n",
       "      <td>2020-06-03T20:32:36.068+0100</td>\n",
       "    </tr>\n",
       "  </tbody>\n",
       "</table>\n",
       "</div>"
      ],
      "text/plain": [
       "          Assignee Components                       Created  \\\n",
       "FEATURE-4     None         []  2020-06-03T19:52:06.024+0100   \n",
       "FEATURE-3     None         []  2020-06-03T19:50:26.222+0100   \n",
       "FEATURE-2     None         []  2020-06-03T15:38:10.058+0100   \n",
       "FEATURE-1     None         []  2020-05-30T08:32:06.142+0100   \n",
       "\n",
       "                     Creator Description Issue Type  \\\n",
       "FEATURE-4  Tatevik Stepanyan        None    Feature   \n",
       "FEATURE-3  Tatevik Stepanyan        None    Feature   \n",
       "FEATURE-2       mariel lopez        None    Feature   \n",
       "FEATURE-1  Tatevik Stepanyan        None    Feature   \n",
       "\n",
       "                                                 Issue Links        Key  \\\n",
       "FEATURE-4  {'PROJECTS-1': [{'Direction': 'Inward', 'Link ...  FEATURE-4   \n",
       "FEATURE-3  {'PROJECTS-1': [{'Direction': 'Inward', 'Link ...  FEATURE-3   \n",
       "FEATURE-2  {'BUG-10': [{'Link Type': 'has bug', 'Directio...  FEATURE-2   \n",
       "FEATURE-1  {'PROJECTS-1': [{'Direction': 'Inward', 'Link ...  FEATURE-1   \n",
       "\n",
       "          Labels Parent Priority  Project                          Summary  \\\n",
       "FEATURE-4     []   None   Medium  FEATURE  Social Media Content Management   \n",
       "FEATURE-3     []   None   Medium  FEATURE   OSS website content management   \n",
       "FEATURE-2     []   None   Medium  FEATURE               OSS website coding   \n",
       "FEATURE-1     []   None   Medium  FEATURE               OSS website design   \n",
       "\n",
       "            Status           Reporter                       Updated  \n",
       "FEATURE-4  Backlog  Tatevik Stepanyan  2020-06-03T22:51:46.860+0100  \n",
       "FEATURE-3  Backlog  Tatevik Stepanyan  2020-06-03T22:52:00.705+0100  \n",
       "FEATURE-2  Backlog       mariel lopez  2020-06-03T22:51:30.017+0100  \n",
       "FEATURE-1  Backlog  Tatevik Stepanyan  2020-06-03T20:32:36.068+0100  "
      ]
     },
     "execution_count": 13,
     "metadata": {},
     "output_type": "execute_result"
    }
   ],
   "source": [
    "pd.DataFrame(features).T[['']]"
   ]
  },
  {
   "cell_type": "code",
   "execution_count": null,
   "metadata": {},
   "outputs": [],
   "source": []
  }
 ],
 "metadata": {
  "kernelspec": {
   "display_name": "Python 3",
   "language": "python",
   "name": "python3"
  },
  "language_info": {
   "codemirror_mode": {
    "name": "ipython",
    "version": 3
   },
   "file_extension": ".py",
   "mimetype": "text/x-python",
   "name": "python",
   "nbconvert_exporter": "python",
   "pygments_lexer": "ipython3",
   "version": "3.7.3"
  }
 },
 "nbformat": 4,
 "nbformat_minor": 2
}
