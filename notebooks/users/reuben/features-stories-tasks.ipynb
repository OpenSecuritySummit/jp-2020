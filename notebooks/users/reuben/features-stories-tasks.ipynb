{
 "cells": [
  {
   "cell_type": "code",
   "execution_count": null,
   "metadata": {
    "scrolled": false
   },
   "outputs": [
    {
     "name": "stdout",
     "output_type": "stream",
     "text": [
      "searching JIRA server for PROJECT=FEATURE , starting at 0 (for a max of -1)\n",
      "searching JIRA server for PROJECT=STORY , starting at 0 (for a max of -1)\n",
      "searching JIRA server for PROJECT=TASK , starting at 0 (for a max of -1)\n"
     ]
    }
   ],
   "source": [
    "api_jira = API_Jira()\n",
    "features = api_jira.search('PROJECT=FEATURE')\n",
    "stories = api_jira.search('PROJECT=STORY')\n",
    "tasks = api_jira.search('PROJECT=TASK')\n",
    "\n",
    "pd.set_option('display.max_rows', 999999)\n",
    "\n",
    "print('\\n\\n')\n",
    "\n",
    "print('FEATURES:')\n",
    "display(pd.DataFrame(features).T[['Summary','Status','Creator']])\n",
    "print('STORIES:')\n",
    "display(pd.DataFrame(stories).T[['Summary','Status','Creator']])\n",
    "print('TASKS:')\n",
    "display(pd.DataFrame(tasks).T[['Summary','Status','Creator']])"
   ]
  },
  {
   "cell_type": "code",
   "execution_count": null,
   "metadata": {},
   "outputs": [],
   "source": []
  }
 ],
 "metadata": {
  "kernelspec": {
   "display_name": "Python 3",
   "language": "python",
   "name": "python3"
  },
  "language_info": {
   "codemirror_mode": {
    "name": "ipython",
    "version": 3
   },
   "file_extension": ".py",
   "mimetype": "text/x-python",
   "name": "python",
   "nbconvert_exporter": "python",
   "pygments_lexer": "ipython3",
   "version": "3.7.3"
  }
 },
 "nbformat": 4,
 "nbformat_minor": 2
}
