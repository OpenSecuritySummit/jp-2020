{
 "cells": [
  {
   "cell_type": "code",
   "execution_count": 1,
   "metadata": {},
   "outputs": [],
   "source": [
    "from oss_hugo.API_Hugo_OSS import API_Hugo_OSS\n",
    "hugo = API_Hugo_OSS()"
   ]
  },
  {
   "cell_type": "code",
   "execution_count": 7,
   "metadata": {
    "scrolled": false
   },
   "outputs": [
    {
     "data": {
      "text/plain": [
       "{'errorMessage': \"'NoneType' object has no attribute 'get'\",\n",
       " 'errorType': 'AttributeError',\n",
       " 'stackTrace': [['/var/task/oss_admin/lambdas/gsheet_public_data.py',\n",
       "   8,\n",
       "   'run',\n",
       "   'return gsheet_data.export_data_for_lambda()'],\n",
       "  ['/var/task/oss_admin/OSS_GSheets.py',\n",
       "   56,\n",
       "   'export_data_for_lambda',\n",
       "   'for participant in self.data_attendees():'],\n",
       "  ['/var/task/oss_admin/OSS_GSheets.py',\n",
       "   25,\n",
       "   'data_attendees',\n",
       "   \"return self.sheet_data('Attendees')\"],\n",
       "  ['/var/task/oss_admin/OSS_GSheets.py',\n",
       "   20,\n",
       "   'sheet_data',\n",
       "   'return self.gsheets.get_values_as_objects(self.file_id, sheet_name)'],\n",
       "  ['/var/task/osbot_gsuite/apis/GSheets.py',\n",
       "   112,\n",
       "   'get_values_as_objects',\n",
       "   'columns = self.get_values(file_id, range_selector)'],\n",
       "  ['/var/task/osbot_gsuite/apis/GSheets.py',\n",
       "   99,\n",
       "   'get_values',\n",
       "   \"return result.get('values')\"]]}"
      ]
     },
     "execution_count": 7,
     "metadata": {},
     "output_type": "execute_result"
    }
   ],
   "source": [
    "hugo."
   ]
  },
  {
   "cell_type": "code",
   "execution_count": null,
   "metadata": {},
   "outputs": [],
   "source": []
  }
 ],
 "metadata": {
  "kernelspec": {
   "display_name": "Python 3",
   "language": "python",
   "name": "python3"
  },
  "language_info": {
   "codemirror_mode": {
    "name": "ipython",
    "version": 3
   },
   "file_extension": ".py",
   "mimetype": "text/x-python",
   "name": "python",
   "nbconvert_exporter": "python",
   "pygments_lexer": "ipython3",
   "version": "3.7.3"
  }
 },
 "nbformat": 4,
 "nbformat_minor": 2
}
