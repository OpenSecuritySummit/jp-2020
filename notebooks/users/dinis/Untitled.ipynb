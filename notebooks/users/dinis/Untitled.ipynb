{
 "cells": [
  {
   "cell_type": "code",
   "execution_count": 3,
   "metadata": {},
   "outputs": [],
   "source": [
    "from osbot_aws.apis.Lambda import Lambda\n",
    "\n",
    "aws_lambda = Lambda('osbot_browser.lambdas.lambda_browser')\n",
    "payload = {\"params\": [\"render\", \"examples/wardley_map/cup-of-tea.html\"],\n",
    "           'data': {}}\n",
    "aws_lambda.invoke(payload)"
   ]
  },
  {
   "cell_type": "code",
   "execution_count": 6,
   "metadata": {},
   "outputs": [],
   "source": [
    "aws_lambda = Lambda('osbot_browser.lambdas.lambda_browser')\n",
    "payload = {\"params\": [\"screenshot\", \"https://www.google.com\"],\n",
    "           'data': {}}\n",
    "aws_lambda.invoke(payload)"
   ]
  },
  {
   "cell_type": "code",
   "execution_count": 3,
   "metadata": {},
   "outputs": [],
   "source": [
    "from osbot_aws.apis.Lambda import Lambda\n",
    "aws_lambda = Lambda('osbot_browser.lambdas.lambda_browser')\n",
    "payload = {\"params\": [\"version\"],\n",
    "           'data': {}}\n",
    "aws_lambda.invoke(payload)"
   ]
  },
  {
   "cell_type": "code",
   "execution_count": null,
   "metadata": {},
   "outputs": [],
   "source": []
  }
 ],
 "metadata": {
  "kernelspec": {
   "display_name": "Python 3",
   "language": "python",
   "name": "python3"
  },
  "language_info": {
   "codemirror_mode": {
    "name": "ipython",
    "version": 3
   },
   "file_extension": ".py",
   "mimetype": "text/x-python",
   "name": "python",
   "nbconvert_exporter": "python",
   "pygments_lexer": "ipython3",
   "version": "3.7.3"
  }
 },
 "nbformat": 4,
 "nbformat_minor": 2
}
