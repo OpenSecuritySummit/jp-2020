{
 "cells": [
  {
   "cell_type": "markdown",
   "metadata": {},
   "source": [
    "## Test in 2020"
   ]
  },
  {
   "cell_type": "code",
   "execution_count": 1,
   "metadata": {},
   "outputs": [],
   "source": [
    "from osbot_jira.api.jira_server.API_Jira import API_Jira\n",
    "\n",
    "api_jira = API_Jira()\n"
   ]
  },
  {
   "cell_type": "code",
   "execution_count": 2,
   "metadata": {},
   "outputs": [
    {
     "data": {
      "text/plain": [
       "{'AC': <JIRA Project: key='AC', name='Action', id='10026'>,\n",
       " 'BUG': <JIRA Project: key='BUG', name='BUG', id='10014'>,\n",
       " 'DLSCMV': <JIRA Project: key='DLSCMV', name='Daily Live Session Chat messages and Videos', id='10016'>,\n",
       " 'DESIGN': <JIRA Project: key='DESIGN', name='DESIGN', id='10004'>,\n",
       " 'ENTITY': <JIRA Project: key='ENTITY', name='ENTITY', id='10013'>,\n",
       " 'FACT': <JIRA Project: key='FACT', name='FACT', id='10028'>,\n",
       " 'FAQ': <JIRA Project: key='FAQ', name='FAQ', id='10007'>,\n",
       " 'FEATURE': <JIRA Project: key='FEATURE', name='FEATURE', id='10003'>,\n",
       " 'IN': <JIRA Project: key='IN', name='Incident', id='10027'>,\n",
       " 'ORGANIZER': <JIRA Project: key='ORGANIZER', name='ORGANIZER', id='10011'>,\n",
       " 'PAG': <JIRA Project: key='PAG', name='Pages', id='10022'>,\n",
       " 'PART': <JIRA Project: key='PART', name='Participants', id='10024'>,\n",
       " 'PERSON': <JIRA Project: key='PERSON', name='PERSON', id='10012'>,\n",
       " 'PLAYB': <JIRA Project: key='PLAYB', name='Playbook', id='10025'>,\n",
       " 'PROJECTS': <JIRA Project: key='PROJECTS', name='PROJECTS', id='10002'>,\n",
       " 'QUESTION': <JIRA Project: key='QUESTION', name='QUESTION', id='10005'>,\n",
       " 'RISK': <JIRA Project: key='RISK', name='Risk', id='10018'>,\n",
       " 'SCHEDULE': <JIRA Project: key='SCHEDULE', name='SCHEDULE', id='10009'>,\n",
       " 'SMM': <JIRA Project: key='SMM', name='Social Media Management', id='10017'>,\n",
       " 'SQUAD': <JIRA Project: key='SQUAD', name='Squad', id='10020'>,\n",
       " 'STORY': <JIRA Project: key='STORY', name='STORY', id='10006'>,\n",
       " 'TASK': <JIRA Project: key='TASK', name='TASK', id='10000'>,\n",
       " 'TEAM': <JIRA Project: key='TEAM', name='Team', id='10021'>,\n",
       " 'TOP': <JIRA Project: key='TOP', name='TOPICS', id='10023'>,\n",
       " 'TRACK': <JIRA Project: key='TRACK', name='TRACK', id='10010'>,\n",
       " 'SESSION': <JIRA Project: key='SESSION', name='TRAINING SESSION', id='10008'>,\n",
       " 'VUN': <JIRA Project: key='VUN', name='Vunerabilities', id='10019'>,\n",
       " 'WS': <JIRA Project: key='WS', name='WORKING-SESSION', id='10015'>}"
      ]
     },
     "execution_count": 2,
     "metadata": {},
     "output_type": "execute_result"
    }
   ],
   "source": [
    "api_jira.projects()"
   ]
  },
  {
   "cell_type": "code",
   "execution_count": 13,
   "metadata": {},
   "outputs": [
    {
     "data": {
      "text/plain": [
       "{'Assignee': None,\n",
       " 'Components': [],\n",
       " 'Created': '2020-05-28T09:33:02.657+0100',\n",
       " 'Creator': 'alona reyes',\n",
       " 'Description': None,\n",
       " 'Issue Type': 'Bug',\n",
       " 'Issue Links': {'PROJECTS-1': [{'Direction': 'Inward',\n",
       "    'Link Type': 'is bug of',\n",
       "    'Issue Type': 'Task',\n",
       "    'Id': '10096',\n",
       "    'Key': 'PROJECTS-1',\n",
       "    'Status': 'Backlog',\n",
       "    'Summary': 'OSS WEBSITE'}]},\n",
       " 'Key': 'BUG-1',\n",
       " 'Labels': [],\n",
       " 'Parent': None,\n",
       " 'Priority': 'Medium',\n",
       " 'Project': 'BUG',\n",
       " 'Summary': ' The session list for participants is not showing on the correct format',\n",
       " 'Status': 'Backlog',\n",
       " 'Reporter': 'alona reyes',\n",
       " 'Updated': '2020-05-31T20:55:56.431+0100'}"
      ]
     },
     "execution_count": 13,
     "metadata": {},
     "output_type": "execute_result"
    }
   ],
   "source": [
    "api_jira.issue('BUG-1')"
   ]
  },
  {
   "cell_type": "code",
   "execution_count": null,
   "metadata": {},
   "outputs": [],
   "source": []
  },
  {
   "cell_type": "code",
   "execution_count": 16,
   "metadata": {},
   "outputs": [],
   "source": [
    "from playbook import PlaybookToAction"
   ]
  },
  {
   "cell_type": "code",
   "execution_count": null,
   "metadata": {},
   "outputs": [],
   "source": []
  },
  {
   "cell_type": "code",
   "execution_count": null,
   "metadata": {},
   "outputs": [],
   "source": []
  },
  {
   "cell_type": "code",
   "execution_count": 2,
   "metadata": {},
   "outputs": [
    {
     "data": {
      "application/vnd.jupyter.widget-view+json": {
       "model_id": "a3b7e48515d24189a2fa8a9ac4341221",
       "version_major": 2,
       "version_minor": 0
      },
      "text/plain": [
       "VBox(children=(HBox(children=(Text(value='TASK-1', description='Issue Id:'), Button(description='Load Data', i…"
      ]
     },
     "metadata": {},
     "output_type": "display_data"
    }
   ],
   "source": [
    "edit_issue('TASK-1')"
   ]
  },
  {
   "cell_type": "code",
   "execution_count": 17,
   "metadata": {},
   "outputs": [
    {
     "data": {
      "text/plain": [
       "{}"
      ]
     },
     "execution_count": 17,
     "metadata": {},
     "output_type": "execute_result"
    }
   ],
   "source": [
    "api_issues().issue('TASK-1')"
   ]
  },
  {
   "cell_type": "code",
   "execution_count": null,
   "metadata": {},
   "outputs": [],
   "source": []
  }
 ],
 "metadata": {
  "kernelspec": {
   "display_name": "Python 3",
   "language": "python",
   "name": "python3"
  },
  "language_info": {
   "codemirror_mode": {
    "name": "ipython",
    "version": 3
   },
   "file_extension": ".py",
   "mimetype": "text/x-python",
   "name": "python",
   "nbconvert_exporter": "python",
   "pygments_lexer": "ipython3",
   "version": "3.7.3"
  }
 },
 "nbformat": 4,
 "nbformat_minor": 2
}
