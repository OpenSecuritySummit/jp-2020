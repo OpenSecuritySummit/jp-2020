{
 "cells": [
  {
   "cell_type": "markdown",
   "metadata": {},
   "source": [
    "## Test in 2020"
   ]
  },
  {
   "cell_type": "code",
   "execution_count": 7,
   "metadata": {},
   "outputs": [],
   "source": [
    "from osbot_jira.api.jira_server.API_Jira import API_Jira\n",
    "\n",
    "api_jira = API_Jira()\n"
   ]
  },
  {
   "cell_type": "code",
   "execution_count": 9,
   "metadata": {},
   "outputs": [],
   "source": [
    "api_jira.jira_server_details();"
   ]
  },
  {
   "cell_type": "code",
   "execution_count": 16,
   "metadata": {},
   "outputs": [
    {
     "data": {
      "text/plain": [
       "{'BUG': <JIRA Project: key='BUG', name='BUG', id='10014'>,\n",
       " 'DESIGN': <JIRA Project: key='DESIGN', name='DESIGN', id='10004'>,\n",
       " 'ENTITY': <JIRA Project: key='ENTITY', name='ENTITY', id='10013'>,\n",
       " 'FAQ': <JIRA Project: key='FAQ', name='FAQ', id='10007'>,\n",
       " 'FEATURE': <JIRA Project: key='FEATURE', name='FEATURE', id='10003'>,\n",
       " 'ORGANIZER': <JIRA Project: key='ORGANIZER', name='ORGANIZER', id='10011'>,\n",
       " 'PERSON': <JIRA Project: key='PERSON', name='PERSON', id='10012'>,\n",
       " 'PROJECTS': <JIRA Project: key='PROJECTS', name='PROJECTS', id='10002'>,\n",
       " 'QUESTIONS': <JIRA Project: key='QUESTIONS', name='QUESTIONS', id='10005'>,\n",
       " 'SCHEDULE': <JIRA Project: key='SCHEDULE', name='SCHEDULE', id='10009'>,\n",
       " 'SESSION': <JIRA Project: key='SESSION', name='SESSION', id='10008'>,\n",
       " 'STORY': <JIRA Project: key='STORY', name='STORY', id='10006'>,\n",
       " 'TASK': <JIRA Project: key='TASK', name='TASK', id='10000'>,\n",
       " 'TRACK': <JIRA Project: key='TRACK', name='TRACK', id='10010'>}"
      ]
     },
     "execution_count": 16,
     "metadata": {},
     "output_type": "execute_result"
    }
   ],
   "source": [
    "api_jira.projects()"
   ]
  },
  {
   "cell_type": "code",
   "execution_count": 6,
   "metadata": {},
   "outputs": [
    {
     "name": "stdout",
     "output_type": "stream",
     "text": [
      "here\n"
     ]
    }
   ],
   "source": [
    "import os\n",
    "import sys ;\n",
    "sys.path.append('/home/jovyan/GW-Bot')\n",
    "sys.path.append('/home/jovyan/OSBot-AWS')\n",
    "sys.path.append('/home/jovyan/OSBot-Utils')\n",
    "\n",
    "from osbot_utils.utils.Process import Process\n",
    "from gw_bot.helpers.Lambda_Helpers import slack_message\n",
    "\n",
    "def log_message(message):\n",
    "    slack_message(message, [], 'GDL2EC3EE', 'T7F3AUXGV')\n",
    "\n",
    "def hook(os_path, model, contents_manager):\n",
    "    git_dir = os.environ.get('CODEBUILD_SRC_DIR')\n",
    "    print(git_dir)\n",
    "    if git_dir is None:\n",
    "        git_dir = '/home/jovyan/work'\n",
    "    Process.run('git', cwd=git_dir, params=['add', '-A'])\n",
    "    git_status = Process.run('git', cwd=git_dir, params=['status']).get('stdout')\n",
    "    print(git_status)\n",
    "    Process.run('git', cwd=git_dir, params=['commit', '-m', 'auto saved (changes in notebook)'])\n",
    "    Process.run('git', cwd=git_dir, params=['pull','--no-edit','origin', 'master'])\n",
    "    git_result = Process.run('git', cwd=git_dir, params=['push', 'origin','master']).get('stderr')\n",
    "    print(git_result)\n",
    "    if 'rejected' in git_result:\n",
    "        log_message(':red_circle: on `{0}`, saved to git\\n```{1}```\\n{2}'.format(os.environ['repo_name'],git_status, git_result))\n",
    "print('here')"
   ]
  },
  {
   "cell_type": "code",
   "execution_count": 9,
   "metadata": {},
   "outputs": [
    {
     "name": "stdout",
     "output_type": "stream",
     "text": [
      "/codebuild/output/src653206769/src/github.com/OpenSecuritySummit/jp-2020\n",
      "On branch master\n",
      "nothing to commit, working tree clean\n",
      "\n",
      "Everything up-to-date\n",
      "\n"
     ]
    }
   ],
   "source": [
    "hook(None, None,None)"
   ]
  },
  {
   "cell_type": "code",
   "execution_count": 14,
   "metadata": {},
   "outputs": [
    {
     "ename": "ModuleNotFoundError",
     "evalue": "No module named 'playbooks'",
     "output_type": "error",
     "traceback": [
      "\u001b[0;31m---------------------------------------------------------------------------\u001b[0m",
      "\u001b[0;31mModuleNotFoundError\u001b[0m                       Traceback (most recent call last)",
      "\u001b[0;32m<ipython-input-14-1e0e77a7a6af>\u001b[0m in \u001b[0;36m<module>\u001b[0;34m\u001b[0m\n\u001b[0;32m----> 1\u001b[0;31m \u001b[0;32mfrom\u001b[0m \u001b[0mplaybooks\u001b[0m \u001b[0;32mimport\u001b[0m \u001b[0mPlaybookToAction\u001b[0m\u001b[0;34m\u001b[0m\u001b[0;34m\u001b[0m\u001b[0m\n\u001b[0m",
      "\u001b[0;31mModuleNotFoundError\u001b[0m: No module named 'playbooks'"
     ]
    }
   ],
   "source": [
    "from playbooks import PlaybookToAction"
   ]
  },
  {
   "cell_type": "code",
   "execution_count": 1,
   "metadata": {},
   "outputs": [
    {
     "data": {
      "text/plain": [
       "['/codebuild/output/src558851574/src/github.com/OpenSecuritySummit/jp-2020/notebooks/users/dinis',\n",
       " '/opt/conda/lib/python37.zip',\n",
       " '/opt/conda/lib/python3.7',\n",
       " '/opt/conda/lib/python3.7/lib-dynload',\n",
       " '',\n",
       " '/opt/conda/lib/python3.7/site-packages',\n",
       " '/opt/conda/lib/python3.7/site-packages/IPython/extensions',\n",
       " '/home/jovyan/.ipython',\n",
       " '/home/jovyan/GW-Bot',\n",
       " '/home/jovyan/OSBot-AWS',\n",
       " '/home/jovyan/OSBot-Utils',\n",
       " '/home/jovyan/OSBot-jira',\n",
       " '/home/jovyan/OSBot-browser',\n",
       " '/home/jovyan/OSBot-Jupyter',\n",
       " './api',\n",
       " '../api',\n",
       " '../../api',\n",
       " '../../../api',\n",
       " '../../../../api']"
      ]
     },
     "execution_count": 1,
     "metadata": {},
     "output_type": "execute_result"
    }
   ],
   "source": [
    "import sys\n",
    "sys.path"
   ]
  },
  {
   "cell_type": "code",
   "execution_count": 1,
   "metadata": {},
   "outputs": [],
   "source": [
    "from utils import *"
   ]
  },
  {
   "cell_type": "code",
   "execution_count": 4,
   "metadata": {},
   "outputs": [
    {
     "ename": "NameError",
     "evalue": "name 'utils' is not defined",
     "output_type": "error",
     "traceback": [
      "\u001b[0;31m---------------------------------------------------------------------------\u001b[0m",
      "\u001b[0;31mNameError\u001b[0m                                 Traceback (most recent call last)",
      "\u001b[0;32m<ipython-input-4-161bece6c1ba>\u001b[0m in \u001b[0;36m<module>\u001b[0;34m\u001b[0m\n\u001b[0;32m----> 1\u001b[0;31m \u001b[0mutils\u001b[0m\u001b[0;34m\u001b[0m\u001b[0;34m\u001b[0m\u001b[0m\n\u001b[0m",
      "\u001b[0;31mNameError\u001b[0m: name 'utils' is not defined"
     ]
    }
   ],
   "source": [
    "api"
   ]
  },
  {
   "cell_type": "code",
   "execution_count": null,
   "metadata": {},
   "outputs": [],
   "source": []
  }
 ],
 "metadata": {
  "kernelspec": {
   "display_name": "Python 3",
   "language": "python",
   "name": "python3"
  },
  "language_info": {
   "codemirror_mode": {
    "name": "ipython",
    "version": 3
   },
   "file_extension": ".py",
   "mimetype": "text/x-python",
   "name": "python",
   "nbconvert_exporter": "python",
   "pygments_lexer": "ipython3",
   "version": "3.7.3"
  }
 },
 "nbformat": 4,
 "nbformat_minor": 2
}
