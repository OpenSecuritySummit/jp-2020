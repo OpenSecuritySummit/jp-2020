{
 "cells": [
  {
   "cell_type": "markdown",
   "metadata": {},
   "source": [
    "### Accessing OSS Hugo and GSheet APIs"
   ]
  },
  {
   "cell_type": "code",
   "execution_count": null,
   "metadata": {},
   "outputs": [],
   "source": []
  },
  {
   "cell_type": "code",
   "execution_count": null,
   "metadata": {},
   "outputs": [],
   "source": []
  },
  {
   "cell_type": "code",
   "execution_count": 1,
   "metadata": {},
   "outputs": [],
   "source": [
    "from oss_hugo.API_Hugo_OSS import API_Hugo_OSS\n",
    "hugo = API_Hugo_OSS()"
   ]
  },
  {
   "cell_type": "code",
   "execution_count": 2,
   "metadata": {},
   "outputs": [
    {
     "data": {
      "text/plain": [
       "dict_keys(['Rebecca Ditchburn', 'Andy Cleveland', 'Kim Wuyts', 'OSS Bot', 'Brian Lawrence', 'Xavier Delgado', 'Harold Blankenship', 'Luis Saiz', 'Fahad Ahmed', 'Sarah Clark', 'Gabor Pek', 'Tanja Peeters', 'Mustafa Kasmani', 'Deepak Subramanian', 'Scott Hayward', 'DSC-5', 'DSC-6', 'Nick Drage', 'Chris Dobson', 'James Osborn', 'Lars Svensson', 'Emma Fang', 'Marco Mancini', 'Dan Ashby', 'Dave Snowden', 'Florian Buetow', 'Adrian Taylor', 'Steven van der Baan', 'EJ Quinn', 'Colin Lobley', 'Yan Kravchenko', 'Brett Crawley', 'Sean Turner', 'Hardik Parekh', 'William Devos', 'Jean-Jacques MOIROUX', 'Sara Davis', 'Zsolt Kalman', 'Pedro Dantas', 'Hwee Ching Neo', 'Ashleigh Eastway', 'Robert Grace', 'Azzeddine Ramrami', 'David English', 'Dominik de Smit', 'Ashraf Aboukass', 'Michael Duff', 'Simon Wardley', 'Sven Schleier', 'Gaetano Alboreto', 'Jeroen Beckers', 'Emily Berman', 'Peter Hicks', 'Paulino Calderon', 'Colin Domoney', 'Phil Winstanley', 'Wouter de Meijer', 'Geoff Hill', 'Lauren Chiesa', 'Jill McDonald', 'Jim Newman', 'Sean Siford', 'Louise Bayliss', 'Cybil Colaco', 'George Glass', 'Pat Duarte', 'Daniel Kefer', 'Sebastian Arriada', 'Michael Madsen', 'Alicia Barnes', 'Tom Ling', 'Zuhal Vargun', '/codebuild/output/src076808483/src/github.com/OpenSecuritySummit/jp-tests/notebooks/oss2019/content/participant/_template.md', 'Artem Vasiuk', 'Brian Johnson', 'Mike McCamon', 'Foteini Karantoni', 'Nessim Kisserli', 'Jay Mbolda Yamdjeu', 'Felix Kariuki', 'Tony Richards', 'Martin Rock-Evans', 'David Jensen', 'Francisco Novo', 'Roberto Pérez', 'John Ellingsworth', 'Rafael Jimenez', 'Claudio Camerino', 'Irene Michlin', 'Roger Comastorres', 'Philippe De Ryck', 'John DiLeo', 'Pravinder Arora', 'Karen Navas', 'Chris Cooper', 'Jon Hawes', 'Christoph Jung', 'David James-Roll', 'Sonya Moisset', 'Yasmin Martin', 'Maeve Scarry', 'Tash Norris', 'Jemma Davis', 'James Wharton', 'Simon Pavillon', 'Dinis Cruz', 'Chris Allen', 'Jeroen Willemsen', 'Khaled Fattal', 'Jannik Hollenbach', 'Bjoern Kimminich', 'Sherif Mansour', 'David Cervigni', 'Sam Stepanyan', 'Andra Lezza', 'Felipe Zipitria', 'Carlos Holguera', 'Jim Manico', 'Simon Bennetts', 'Didar Gelici', 'Arpit Agrawal', 'Adrian Winckles', 'Steven Wierckx', 'Sebastien Deleersnyder', 'Bart De Win', 'Ben Scofield', 'Mario Platt', 'Phil Huggins', 'Paul Davies'])"
      ]
     },
     "execution_count": 2,
     "metadata": {},
     "output_type": "execute_result"
    }
   ],
   "source": [
    "hugo.participants_oss().keys()"
   ]
  },
  {
   "cell_type": "code",
   "execution_count": 21,
   "metadata": {},
   "outputs": [],
   "source": [
    "data['repo_url'] = 'https://github.com/OpenSecuritySummit/jp-samm.git'"
   ]
  },
  {
   "cell_type": "code",
   "execution_count": 22,
   "metadata": {},
   "outputs": [
    {
     "data": {
      "text/plain": [
       "True"
      ]
     },
     "execution_count": 22,
     "metadata": {},
     "output_type": "execute_result"
    }
   ],
   "source": [
    "Secrets('git__jp-samm').update_to_json_string(data)"
   ]
  },
  {
   "cell_type": "code",
   "execution_count": 3,
   "metadata": {},
   "outputs": [
    {
     "data": {
      "text/plain": [
       "['/codebuild/output/src076808483/src/github.com/OpenSecuritySummit/jp-tests/notebooks/users/dinis',\n",
       " '/opt/conda/lib/python37.zip',\n",
       " '/opt/conda/lib/python3.7',\n",
       " '/opt/conda/lib/python3.7/lib-dynload',\n",
       " '',\n",
       " '/opt/conda/lib/python3.7/site-packages',\n",
       " '/opt/conda/lib/python3.7/site-packages/IPython/extensions',\n",
       " '/home/jovyan/.ipython',\n",
       " './api',\n",
       " '../api',\n",
       " '../../api',\n",
       " '../../../api',\n",
       " '../../../../api',\n",
       " '../oss2019/notebooks/api',\n",
       " '../../oss2019/notebooks/api',\n",
       " '../../../oss2019/notebooks/api',\n",
       " '../../../../oss2019/notebooks/api']"
      ]
     },
     "execution_count": 3,
     "metadata": {},
     "output_type": "execute_result"
    }
   ],
   "source": [
    "import sys\n",
    "sys.path"
   ]
  },
  {
   "cell_type": "code",
   "execution_count": null,
   "metadata": {},
   "outputs": [],
   "source": []
  }
 ],
 "metadata": {
  "kernelspec": {
   "display_name": "Python 3",
   "language": "python",
   "name": "python3"
  },
  "language_info": {
   "codemirror_mode": {
    "name": "ipython",
    "version": 3
   },
   "file_extension": ".py",
   "mimetype": "text/x-python",
   "name": "python",
   "nbconvert_exporter": "python",
   "pygments_lexer": "ipython3",
   "version": "3.7.3"
  }
 },
 "nbformat": 4,
 "nbformat_minor": 2
}
