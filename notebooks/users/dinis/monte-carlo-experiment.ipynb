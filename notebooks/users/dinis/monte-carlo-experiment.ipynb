{
 "cells": [
  {
   "cell_type": "markdown",
   "metadata": {},
   "source": [
    "## Monte Carlo experiment\n",
    "\n",
    "This is first pass at making a code sample with a Monte Carlo simulation work"
   ]
  },
  {
   "cell_type": "markdown",
   "metadata": {},
   "source": [
    "### Install missing dependencies"
   ]
  },
  {
   "cell_type": "code",
   "execution_count": null,
   "metadata": {},
   "outputs": [],
   "source": [
    "!pip install scipy"
   ]
  },
  {
   "cell_type": "markdown",
   "metadata": {},
   "source": [
    "### Original code sample "
   ]
  },
  {
   "cell_type": "code",
   "execution_count": 3,
   "metadata": {},
   "outputs": [
    {
     "name": "stdout",
     "output_type": "stream",
     "text": [
      "min_log 9.210340371976184\n",
      "max_log 10.819778284410283\n",
      "log_mean 10.015059328193233\n",
      "log_stdev 0.8047189562170498\n",
      "scale_var 22360.67977499791\n",
      "outcome type <class 'numpy.float64'>\n",
      "outcome nan\n"
     ]
    }
   ],
   "source": [
    "import numpy as np\n",
    "from scipy import stats\n",
    "\n",
    "prob = 50\n",
    "logmin = float(np.log(10000))\n",
    "logmax = float(np.log(50000))\n",
    "\n",
    "print(\"min_log %s\" % logmin)\n",
    "print(\"max_log %s\" % logmax)\n",
    "\n",
    "mean = float(np.mean([logmin, logmax]))\n",
    "\n",
    "print(\"log_mean %s\" % mean)\n",
    "standardeviation = float(np.std([logmin,logmax]))\n",
    "\n",
    "print(\"log_stdev %s\" % standardeviation)\n",
    "\n",
    "scalevar = float(np.exp(mean))\n",
    "\n",
    "print(\"scale_var %s\" % scalevar)\n",
    "\n",
    "outcome = stats.lognorm.ppf(prob, standardeviation, loc=0, scale=np.exp(mean))\n",
    "\n",
    "print(\"outcome type %s\" % type(outcome))\n",
    "print(\"outcome %s\" % outcome)"
   ]
  },
  {
   "cell_type": "markdown",
   "metadata": {},
   "source": [
    "The current problem is the `nan` result at the end of the ca"
   ]
  },
  {
   "cell_type": "code",
   "execution_count": null,
   "metadata": {},
   "outputs": [],
   "source": []
  }
 ],
 "metadata": {
  "kernelspec": {
   "display_name": "Python 3",
   "language": "python",
   "name": "python3"
  },
  "language_info": {
   "codemirror_mode": {
    "name": "ipython",
    "version": 3
   },
   "file_extension": ".py",
   "mimetype": "text/x-python",
   "name": "python",
   "nbconvert_exporter": "python",
   "pygments_lexer": "ipython3",
   "version": "3.7.3"
  }
 },
 "nbformat": 4,
 "nbformat_minor": 2
}
