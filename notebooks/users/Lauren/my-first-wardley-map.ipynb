{
 "cells": [
  {
   "cell_type": "markdown",
   "metadata": {},
   "source": [
    "# A Wardley Map for an artifact repository\n",
    "\n",
    "### User need: As a developer, I want to investigate if a library/package from my organisation's artifact repository is available.\n",
    "\n",
    "A Wardley map starts with a user need as defined above. The diagram below was my first Wardley map having spent hours on it on the first night of the Open Security Summit. I was buzzing from this new way of thinking so clearly got a bit carried away on this first attempt.\n",
    "\n",
    "I had to convince myself that it was sensible to go to sleep and leave this map to be discussed in the morning although I kept thinking of extra nodes I could add.\n",
    "\n",
    "Anyway, here's the first attempt:"
   ]
  },
  {
   "cell_type": "markdown",
   "metadata": {},
   "source": [
    "![wardley-speciem-version3(no genesis)](https://user-images.githubusercontent.com/50445147/58881165-84741e00-86d1-11e9-9bba-ae084c9432e6.jpg)\n",
    "\n"
   ]
  },
  {
   "cell_type": "markdown",
   "metadata": {},
   "source": [
    "After some discussion (which i absolutely think is what the true value of Wardley maps depends on), I recognised that I merged a few too many user needs so I've now seperated the diagram above into multiple diagrams.\n",
    "\n",
    "The map needs to focus only on the user's need to explore the artifact repository rather than upload to"
   ]
  },
  {
   "cell_type": "markdown",
   "metadata": {},
   "source": [
    "## Dissecting the first attempt.\n",
    "\n",
    "So the first thing I did was remove nodes that referred to how to access Artifactory as this can be shown independently on a graph with the user need: I need to access the Artifactory GUI.\n",
    "\n",
    "![wardley-speciem dio](https://user-images.githubusercontent.com/50445147/58919659-cb403300-8726-11e9-86d0-e21e7f43fe31.png)\n"
   ]
  },
  {
   "cell_type": "code",
   "execution_count": null,
   "metadata": {},
   "outputs": [],
   "source": []
  }
 ],
 "metadata": {
  "kernelspec": {
   "display_name": "Python 3",
   "language": "python",
   "name": "python3"
  },
  "language_info": {
   "codemirror_mode": {
    "name": "ipython",
    "version": 3
   },
   "file_extension": ".py",
   "mimetype": "text/x-python",
   "name": "python",
   "nbconvert_exporter": "python",
   "pygments_lexer": "ipython3",
   "version": "3.7.3"
  }
 },
 "nbformat": 4,
 "nbformat_minor": 2
}
