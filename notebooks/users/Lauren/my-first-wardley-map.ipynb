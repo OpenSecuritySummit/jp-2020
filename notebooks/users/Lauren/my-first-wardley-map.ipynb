{
 "cells": [
  {
   "cell_type": "markdown",
   "metadata": {},
   "source": [
    "# A Wardley Map\n",
    "\n",
    "## User need: As a developer, I want to investigate if a library/package from my organisation's artifact repository is available.\n",
    "\n",
    "A Wardley map starts with a user need as defined above. The diagram below was my first Wardley map having spent hours on the first night of the Open Security Summit"
   ]
  },
  {
   "cell_type": "markdown",
   "metadata": {},
   "source": [
    "![wardley-speciem-version3(no genesis)](https://user-images.githubusercontent.com/50445147/58881165-84741e00-86d1-11e9-9bba-ae084c9432e6.jpg)\n",
    "\n"
   ]
  },
  {
   "cell_type": "markdown",
   "metadata": {},
   "source": []
  },
  {
   "cell_type": "markdown",
   "metadata": {},
   "source": [
    "## developer uploads\n",
    "\n",
    "here is my view of ...\n",
    "\n",
    "![image](https://user-images.githubusercontent.com/50445147/58878859-28f36180-86cc-11e9-851c-9b75405b17bc.png)"
   ]
  },
  {
   "cell_type": "code",
   "execution_count": null,
   "metadata": {},
   "outputs": [],
   "source": []
  }
 ],
 "metadata": {
  "kernelspec": {
   "display_name": "Python 3",
   "language": "python",
   "name": "python3"
  },
  "language_info": {
   "codemirror_mode": {
    "name": "ipython",
    "version": 3
   },
   "file_extension": ".py",
   "mimetype": "text/x-python",
   "name": "python",
   "nbconvert_exporter": "python",
   "pygments_lexer": "ipython3",
   "version": "3.7.3"
  }
 },
 "nbformat": 4,
 "nbformat_minor": 2
}
