{
 "cells": [
  {
   "cell_type": "code",
   "execution_count": null,
   "metadata": {},
   "outputs": [],
   "source": [
    "# Making the most out of OSS\n",
    "\n",
    "Good kmorning everyone,\n",
    "\n",
    "so i want to talk to you a bit about community - this community...and how we can all get the most out of this summit.\n",
    "\n",
    "This is my first summit and I'm already lovin it and whilst some might think I'm not really in a position to comment on how\n",
    "to get the most out of this summit - as a former teacher I have quite a few comments I'd like to share about my observations of\n",
    "this summit and how we can all make the most out of it.\n",
    "\n",
    "Because actually, facilitating an inclusive environment for a year group of year 9 students for a day, isn't too different to\n",
    "facilitating an environment like this.\n",
    "\n",
    "I'm also delighted to have recently setup the first OWASP Women in Appsec Chapter in London.\n",
    "\n",
    "Funnily enough, only a few months before I decided to create the OWASP WIA chapter, I was overwhelmingly anti-women in security groups.\n",
    "However, that story I'm happy to talk a bit more about another time. The reason why I'm a particulalry interesting candidate for that\n",
    "role is due to my experience in the industry.\n",
    "\n",
    "I'm completely in awe of so many of you here and I'm delighted to be a particpant. I genuinely can't wait for the year that I\n",
    "will be able to run a session or even a track however i also recognise that\n",
    "\n",
    "\n"
   ]
  }
 ],
 "metadata": {
  "kernelspec": {
   "display_name": "Python 3",
   "language": "python",
   "name": "python3"
  },
  "language_info": {
   "codemirror_mode": {
    "name": "ipython",
    "version": 3
   },
   "file_extension": ".py",
   "mimetype": "text/x-python",
   "name": "python",
   "nbconvert_exporter": "python",
   "pygments_lexer": "ipython3",
   "version": "3.7.3"
  }
 },
 "nbformat": 4,
 "nbformat_minor": 2
}
