{
 "cells": [
  {
   "cell_type": "markdown",
   "metadata": {},
   "source": [
    "# Making the most out of OSS\n",
    "\n",
    "Good kmorning everyone,\n",
    "\n",
    "so i want to talk to you a bit about community - this community...and how we can all get the most out of this summit.\n",
    "\n",
    "This is my first summit and I'm already lovin it and whilst some might think I'm not really in a position to comment on how\n",
    "to get the most out of this summit - as a former teacher I have quite a few comments I'd like to share about my observations of\n",
    "this summit and how we can all make the most out of it.\n",
    "\n",
    "Because actually, facilitating an inclusive environment for 150 13/14 year old students for a day, isn't too different to\n",
    "facilitating an environment like this.\n",
    "\n",
    "I'm also delighted to have recently setup the first OWASP Women in Appsec Chapter in London.\n",
    "\n",
    "Funnily enough, only a few months before I decided to create the OWASP WIA chapter, I was overwhelmingly anti-women in security groups.\n",
    "Although there is an interesting story there, I won't talk about that right now but please come and talk to me if you want to know!\n",
    "\n",
    "What I do want to talk about though is why I felt it was appropriate to lead a chapter even though I'm still pretty new to the appsec community and have only been in this industry for 3 years!\n",
    "\n",
    "I figured out a way to contribute to the community/industry in a way that I can.\n",
    "\n",
    "I'm completely in awe of so many of you here and I'm delighted to be a particpant. I genuinely can't wait for the year that I\n",
    "will be able to run a session or even a track and my real aspiration is to present something interesting on a technical subject which although I already had some idea in my head of what I reckon would be interesting to the appsec community - my new found obsession with Wardley Maps might give me the platform to talk about it! \n",
    "\n",
    "Anyway the message I really want to get across is how to make the most of this summit.\n",
    "\n",
    "There are experts in the room but there are also newbies and I absolutely believe its been made pretty clear that everyone, no matter your experience, is welcome to contribute in whatever way they can whether that be this week or next week or next month - some of us need the brainspace and the time to really digest the things that we've learned this week in order to solutionise. That person's solution might appear in a few weeks time -\n",
    "\n",
    "\n",
    "\n"
   ]
  },
  {
   "cell_type": "code",
   "execution_count": null,
   "metadata": {},
   "outputs": [],
   "source": []
  }
 ],
 "metadata": {
  "kernelspec": {
   "display_name": "Python 3",
   "language": "python",
   "name": "python3"
  },
  "language_info": {
   "codemirror_mode": {
    "name": "ipython",
    "version": 3
   },
   "file_extension": ".py",
   "mimetype": "text/x-python",
   "name": "python",
   "nbconvert_exporter": "python",
   "pygments_lexer": "ipython3",
   "version": "3.7.3"
  }
 },
 "nbformat": 4,
 "nbformat_minor": 2
}
