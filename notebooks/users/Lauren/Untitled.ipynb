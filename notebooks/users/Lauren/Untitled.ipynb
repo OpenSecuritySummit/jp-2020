{
 "cells": [
  {
   "cell_type": "markdown",
   "metadata": {},
   "source": [
    "# Making the most out of OSS\n",
    "\n",
    "##objective\n",
    "\n",
    "So i want to talk to you a bit about community - this community...and how we can all get the most out of this summit, what we can do to collaborate and innovate and how each and every one of us - no matter your experience - can get involved.\n",
    "\n",
    "##chapter leader\n",
    "\n",
    "I'm going to start with telling you about how I, as someone who has been in the appsec world for a matter of months, have been able to contribute to the community.\n",
    "\n",
    "So as some of you know already I'm the Chapter Leader for OWASP Women in Appsec.\n",
    "\n",
    "On a side note and not really in scope of this talk today is that only a few months before I decided to create the OWASP WIA chapter, I was overwhelmingly anti-women in security groups. Happy to explain the sudden change in feeling at a later time!\n",
    "\n",
    "##how are you a chapter leader?\n",
    "\n",
    "Anyway, how did I possibly feel that it was appropriate for me to take an OWASP Chapter Leader position with only 8 months industry experience?\n",
    "\n",
    "Well, whilst I aspire to give a technical presentation - I'm not quite there yet in terms of anything being particularly unique or interesting for the appsec audience but i had this draw to contribute somehow and realised that there is an opportunity to support the industry by facilitating a smaller and female led owasp chapter so whilst I'm not directly presenting, my contribution is as a facilitor to provide women with a more comfortable networking environemnt and a platform where they can practice presenting to a technical audience without going straight for the 200 people strong OWASP London Chapter meetups.\n",
    "\n",
    "Anyway the message I really want to get across is how we can all get the most out of this summit as either a participant or session leader.\n",
    "\n",
    "There are experts in the room but there are also newbies and I absolutely believe its been made pretty clear that everyone, no matter your experience, is welcome to contribute in whatever way they can whether that be this week or next week or next month - some of us need the brainspace and the time to really digest the things that we've learned this week in order to solutionise. That person's solution might appear in a few weeks time - great! Get on Slack - the OSS Slack AND the OWASP Slack and share your ideas!\n",
    "\n",
    "Even though, very unfortunately, this summit is only a week it by no way means our collobaration and outcomes are confined to this week - no way! We're all just touching base right now - meeting each other, learning about new things and getting updates but the virtual OSS needs to continue for us to make real impact on Application Security.\n",
    "\n",
    "So I have three calls to action.\n",
    "\n",
    "The first one is for all of us to keep on collaborating, keep on contributing - it's up to us to keep the momentum of this week going. There are so many ways to do this - don't feel like just because you haven't been able to say something in a session, your not of value. We all think differently, some of us can think on our feet in the moment and have the confidence to voice it,, some of us need time and prefer to share ideas with the session facilitator after the session by talking to them one to one.\n",
    "\n",
    "That brings me to the next two calls to action for sessions leaders - our facilitators.\n",
    "\n",
    "- Really emphasize and welcome all the different ways people can contribute during and after each session whether that might be in person, a private message, through the Slack channel or through github. Really try and create an inclusive session so that each and every participant is empowered to contribute.\n",
    "\n",
    "- Create an inclusive environment during your sessions by thinking about how to manage the more dominant participants in the room in order to make space to hear the voice of the quieter, perhaps more introvert, participants.\n",
    "\n",
    "Who am i to give this advice? Well I used to be a Maths teacher at a pretty tough inner-city school where the most important objective was to make progress. So if we really digest those three calls to action, I reckon, in this context, thats how we make progress from this week.\n",
    "\n",
    "\n"
   ]
  },
  {
   "cell_type": "code",
   "execution_count": null,
   "metadata": {},
   "outputs": [],
   "source": []
  }
 ],
 "metadata": {
  "kernelspec": {
   "display_name": "Python 3",
   "language": "python",
   "name": "python3"
  },
  "language_info": {
   "codemirror_mode": {
    "name": "ipython",
    "version": 3
   },
   "file_extension": ".py",
   "mimetype": "text/x-python",
   "name": "python",
   "nbconvert_exporter": "python",
   "pygments_lexer": "ipython3",
   "version": "3.7.3"
  }
 },
 "nbformat": 4,
 "nbformat_minor": 2
}
