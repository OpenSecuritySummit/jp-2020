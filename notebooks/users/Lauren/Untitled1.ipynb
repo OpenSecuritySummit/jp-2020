{
 "cells": [
  {
   "cell_type": "markdown",
   "metadata": {},
   "source": [
    "\n",
    "## Tools\n",
    "\n",
    "Atlas2 - https://atlas2.wardleymaps.com/\n",
    "\n",
    "Benefits\n",
    "\n",
    "- Can pivot down to sub-maps\n",
    "- Free application\n",
    "- Access with Google credentials\n",
    "\n",
    "## Resources\n",
    "\n",
    "#### All referenced resources in the session are documented under Resources on the session page\n",
    "\n",
    "https://open-security-summit.org/tracks/wardley-maps/user-sessions/create-wardley-mappings-for-multiple-security-scenarios/\n",
    "\n",
    "- Using the Cynefin framework:\n",
    "\n",
    "https://medium.com/@chrisvmcd/mapping-maturity-create-context-specific-maturity-models-with-wardley-maps-informed-by-cynefin-37ffcd1d315\n",
    "\n",
    "- The following information was stressed as highly informative and strongly recommended:\n",
    "\n",
    "https://www.thegreenwebfoundation.org/news/plotting-a-path-to-a-greener-web-with-wardley-mapping/\n",
    "\n",
    "### Objective of session\n",
    "\n",
    "Mario created the diagram below and the focus of the session is to welcome comments on the following diagram\n",
    "\n",
    "Followed methodology of \"The Map of Mapping\"\n",
    "\n",
    "\n",
    "![image](https://user-images.githubusercontent.com/50445147/58958652-49d6b800-879b-11e9-923f-87ede3f1fc6a.png)\n",
    "\n",
    "There are two problems:\n",
    "\n",
    "- Landscape problem\n",
    "- Language problem\n",
    "\n",
    "if you find it useful use it. IF you don't don't use it! \"all maps are wrong because they are imperfect approximations\""
   ]
  },
  {
   "cell_type": "code",
   "execution_count": null,
   "metadata": {},
   "outputs": [],
   "source": []
  },
  {
   "cell_type": "code",
   "execution_count": null,
   "metadata": {},
   "outputs": [],
   "source": []
  }
 ],
 "metadata": {
  "kernelspec": {
   "display_name": "Python 3",
   "language": "python",
   "name": "python3"
  },
  "language_info": {
   "codemirror_mode": {
    "name": "ipython",
    "version": 3
   },
   "file_extension": ".py",
   "mimetype": "text/x-python",
   "name": "python",
   "nbconvert_exporter": "python",
   "pygments_lexer": "ipython3",
   "version": "3.7.3"
  }
 },
 "nbformat": 4,
 "nbformat_minor": 2
}
