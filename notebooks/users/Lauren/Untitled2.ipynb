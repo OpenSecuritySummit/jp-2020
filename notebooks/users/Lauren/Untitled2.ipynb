{
 "cells": [
  {
   "cell_type": "code",
   "execution_count": 1,
   "metadata": {},
   "outputs": [
    {
     "name": "stderr",
     "output_type": "stream",
     "text": [
      "UsageError: Line magic function `%autoreload` not found.\n"
     ]
    }
   ],
   "source": [
    "%autoreload\n",
    "from oss_bot_utils import*"
   ]
  },
  {
   "cell_type": "code",
   "execution_count": 2,
   "metadata": {},
   "outputs": [
    {
     "ename": "ModuleNotFoundError",
     "evalue": "No module named 'oss_bot_utils'",
     "output_type": "error",
     "traceback": [
      "\u001b[0;31m---------------------------------------------------------------------------\u001b[0m",
      "\u001b[0;31mModuleNotFoundError\u001b[0m                       Traceback (most recent call last)",
      "\u001b[0;32m<ipython-input-2-f74cb68ac3de>\u001b[0m in \u001b[0;36m<module>\u001b[0;34m\u001b[0m\n\u001b[1;32m     17\u001b[0m \"\"\"\n\u001b[1;32m     18\u001b[0m \u001b[0;34m\u001b[0m\u001b[0m\n\u001b[0;32m---> 19\u001b[0;31m \u001b[0;32mfrom\u001b[0m \u001b[0moss_bot_utils\u001b[0m \u001b[0;32mimport\u001b[0m \u001b[0;34m*\u001b[0m\u001b[0;34m\u001b[0m\u001b[0;34m\u001b[0m\u001b[0m\n\u001b[0m\u001b[1;32m     20\u001b[0m \u001b[0mmaps_create\u001b[0m\u001b[0;34m(\u001b[0m\u001b[0mmap_code\u001b[0m\u001b[0;34m)\u001b[0m\u001b[0;34m\u001b[0m\u001b[0;34m\u001b[0m\u001b[0m\n",
      "\u001b[0;31mModuleNotFoundError\u001b[0m: No module named 'oss_bot_utils'"
     ]
    }
   ],
   "source": [
    "map_code = \"\"\"\n",
    "add (\"Employer\"        , 3   , 1 )\n",
    "add (\"Employee\"        , 3.4 , 1 )\n",
    "add (\"Prosperity\"      , 3.2 , 2 )\n",
    "add (\"Goods\"           , 2.3 , 3 )\n",
    "add (\"Production\"      , 1.7 , 4 )\n",
    "add (\"Implements\"      , 2.6 , 5 )\n",
    "add (\"Science of Work\" , 4   , 8 )\n",
    "\n",
    "link(\"Employer\"  , \"Prosperity\"     )\n",
    "link(\"Employee\"  , \"Prosperity\"     )\n",
    "link(\"Prosperity\", \"Goods\"          )\n",
    "link(\"Goods\"     , \"Production\"     )\n",
    "link(\"Production\", \"Implements\"     )\n",
    "link(\"Production\", \"Science of Work\")\n",
    "link(\"Implements\", \"Science of Work\")\n",
    "\"\"\"\n",
    "\n",
    "from oss_bot_utils import *\n",
    "maps_create(map_code)"
   ]
  },
  {
   "cell_type": "code",
   "execution_count": null,
   "metadata": {},
   "outputs": [],
   "source": []
  }
 ],
 "metadata": {
  "kernelspec": {
   "display_name": "Python 3",
   "language": "python",
   "name": "python3"
  },
  "language_info": {
   "codemirror_mode": {
    "name": "ipython",
    "version": 3
   },
   "file_extension": ".py",
   "mimetype": "text/x-python",
   "name": "python",
   "nbconvert_exporter": "python",
   "pygments_lexer": "ipython3",
   "version": "3.7.3"
  }
 },
 "nbformat": 4,
 "nbformat_minor": 2
}
