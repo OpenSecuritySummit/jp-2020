{
 "cells": [
  {
   "cell_type": "code",
   "execution_count": null,
   "metadata": {},
   "outputs": [],
   "source": [
    "from IPython.display import display\n",
    "\n",
    "def Plotly(data=[], layout={}):\n",
    "    bundle = {}\n",
    "    bundle['application/vnd.plotly.v1+json'] = {\n",
    "        'data': data,\n",
    "        'layout': layout,\n",
    "    }\n",
    "    display(bundle, raw=True)\n",
    "\n",
    "data = [\n",
    "    {'x': [1999, 2000, 2001, 2002], 'y': [10, 15, 13, 17], 'type': 'scatter'},\n",
    "    {'x': [1999, 2000, 2001, 2002], 'y': [16, 5, 11, 9], 'type': 'scatter'}\n",
    "]\n",
    "\n",
    "layout = {\n",
    "    'title': 'Sales Growth',\n",
    "    'xaxis': {'title': 'Year', 'showgrid': False, 'zeroline': False},\n",
    "    'yaxis': {'title': 'Percent', 'showline': False}\n",
    "}\n",
    "\n",
    "Plotly(data, layout)\n"
   ]
  },
  {
   "cell_type": "code",
   "execution_count": null,
   "metadata": {},
   "outputs": [],
   "source": []
  }
 ],
 "metadata": {
  "kernelspec": {
   "display_name": "Python 3",
   "language": "python",
   "name": "python3"
  }
 },
 "nbformat": 4,
 "nbformat_minor": 2
}
