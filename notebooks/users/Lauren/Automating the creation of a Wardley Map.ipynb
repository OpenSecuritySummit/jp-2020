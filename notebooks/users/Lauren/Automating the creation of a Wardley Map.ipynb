{
 "cells": [
  {
   "cell_type": "code",
   "execution_count": null,
   "metadata": {},
   "outputs": [],
   "source": []
  },
  {
   "cell_type": "markdown",
   "metadata": {},
   "source": [
    "# Automating the creation of a Wardley Map\n",
    "\n",
    "## Improvements\n",
    "\n",
    "- Need to re-scale\n",
    "- Need to be able to modify y-axis\n",
    "\n",
    "## Original Map (created in draw.io)\n",
    "\n",
    "The map below took along time to create...it's not actually a map yet - it's just a value chain. I'm totally curious to try out the automated generation of Wardley Maps that Dinis has created so let's see how that goes.\n",
    "\n",
    "<img width=\"800\" alt=\"Capture\" src=\"https://user-images.githubusercontent.com/50445147/59312494-36e54b80-8ca5-11e9-9574-565df824a40f.PNG\">\n",
    "\n",
    "\n"
   ]
  },
  {
   "cell_type": "code",
   "execution_count": 9,
   "metadata": {},
   "outputs": [
    {
     "data": {
      "application/javascript": [
       "$('.container').width('95%')\n"
      ],
      "text/plain": [
       "<IPython.core.display.Javascript object>"
      ]
     },
     "metadata": {},
     "output_type": "display_data"
    }
   ],
   "source": [
    "%%javascript\n",
    "$('.container').width('95%')"
   ]
  },
  {
   "cell_type": "code",
   "execution_count": 6,
   "metadata": {},
   "outputs": [],
   "source": [
    "from IPython.display        import display_html, HTML, Javascript,display\n",
    "from osbot_aws.apis.Lambda import Lambda\n",
    "def maps_create(code):\n",
    "    aws_lambda = Lambda('osbot_browser.lambdas.lambda_browser')\n",
    "    params = [\"maps\", \"exec_js\"]\n",
    "    params.extend(code.split(' '))\n",
    "\n",
    "    payload = {\"params\": params,\n",
    "               'data': {}}\n",
    "    png_data = aws_lambda.invoke(payload)\n",
    "    show_png(png_data)\n",
    "\n",
    "#maps_create(map)\n",
    "def show_png(png_data,height=200):\n",
    "    html = '<img style=\"width:200%;height:800px;border:1px solid black\" align=\"left\" src=\"data:image/png;base64,{1}\"/>'.format(height,png_data)\n",
    "    display_html(html, raw=True)"
   ]
  },
  {
   "cell_type": "code",
   "execution_count": null,
   "metadata": {},
   "outputs": [],
   "source": [
    "map_code = \"\"\"\n",
    "add(\"User need: Impress PBX Group so much so that they offer me a job\", 1, 0.1)\n",
    "\n",
    "add(\"Security Knowledge\", 1, 2)\n",
    "add(\"Soft Skills\", 3, 2)\n",
    "\n",
    "add(\"Technical Skills\", 1, 4)\n",
    "add(\"Non-technical Skills\", 2.5, 4)\n",
    "add(\"Qualifications\", 4, 4)\n",
    "\n",
    "add(\"Creating Technical Documentation\", 1, 7)\n",
    "add(\"Risk Identification\", 2, 6)\n",
    "add(\"App Security\", 3, 7)\n",
    "add(\"Consulting\", 4, 7)\n",
    "\n",
    "link(\"User need: Impress PBX Group so much so that they offer me a job\", \"Security Knowledge\")\n",
    "link(\"User need: Impress PBX Group so much so that they offer me a job\", \"Soft Skills\")\n",
    "link(\"Security Knowledge\", \"Qualifications\")\n",
    "link(\"Security Knowledge\",\"Non-technical Skills\")\n",
    "link(\"Security Knowledge\",\"Technical Skills\")\n",
    "link(\"Technical Skills\",\"Creating Technical Documentation\")\n",
    "link(\"Technical Skills\",\"App Security\")\n",
    "link(\"Technical Skills\",\"Risk Identification\")\n",
    "link(\"Technical Skills\",\"Consulting\")\n",
    "\n",
    "link(\"knows spell encantation\",\"formal education\")\n",
    "link(\"knows spell encantation\",\"word of mouth spell\")\n",
    "link(\"knows spell encantation\",\"dark magic\")\n",
    "\"\"\"\n",
    "\n",
    "maps_create(map_code)"
   ]
  },
  {
   "cell_type": "code",
   "execution_count": null,
   "metadata": {},
   "outputs": [],
   "source": []
  },
  {
   "cell_type": "code",
   "execution_count": null,
   "metadata": {},
   "outputs": [],
   "source": []
  }
 ],
 "metadata": {
  "kernelspec": {
   "display_name": "Python 3",
   "language": "python",
   "name": "python3"
  },
  "language_info": {
   "codemirror_mode": {
    "name": "ipython",
    "version": 3
   },
   "file_extension": ".py",
   "mimetype": "text/x-python",
   "name": "python",
   "nbconvert_exporter": "python",
   "pygments_lexer": "ipython3",
   "version": "3.7.3"
  }
 },
 "nbformat": 4,
 "nbformat_minor": 2
}
