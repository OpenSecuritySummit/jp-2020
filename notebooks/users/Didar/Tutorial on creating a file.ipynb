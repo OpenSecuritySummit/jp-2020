{
 "cells": [
  {
   "cell_type": "markdown",
   "metadata": {},
   "source": [
    "## {Creating a notebook on a known Jupyter notebook server}\n",
    "\n",
    "First we start by looking for the active jp servers.\n",
    "Did this by asking oss_bot for them, with the command \"jp servers\" and clicked \"open\" to the server I want to work on (in my case this was 'jp-tests')\n",
    "\n",
    "<img src=\"https://github.com/didadida5555/ss/blob/master/1.%20oss_bot%20jp%20servers.PNG?raw=true\" width=\"800px\"/>\n",
    "\n",
    "It opens the server and displays the current folders.\n",
    "\n",
    "<img src=\"https://github.com/didadida5555/ss/blob/master/2.%20JP%20server%20folders.PNG?raw=true\" width=\"800px\"/>\n",
    "\n",
    "Next, selected the \"users\" folder and created a new folder under this by clicking \"New\" and selecting \"Folder\"\n",
    "\n",
    "<img src=\"https://github.com/didadida5555/ss/blob/master/3.%20Create%20folder%20under%20users.png?raw=true\" width=\"800px\"/>\n",
    "\n",
    "Rename the folder\n",
    "<img src=\"https://github.com/didadida5555/ss/blob/master/4.%20Rename%20your%20folder.png?raw=true\" width=\"800px\"/>\n",
    "\n",
    "Create a file under your folder, choose Python if you want to be able to use code or markdown. \n",
    "<img src=\"https://github.com/didadida5555/ss/blob/master/5.%20create%20file%20in%20the%20folder.png?raw=true\" width=\"800px\"/>\n",
    "\n",
    "\n",
    "Rename your file from the top banner\n",
    "<img src=\"https://github.com/didadida5555/ss/blob/master/6.%20name%20your%20file%20at%20the%20header%20banner.png?raw=true\" width=\"800px\"/>\n",
    "\n",
    "Then I am selecting \"markdown\" to be able to use markup scripts in my content\n",
    "<img src=\"https://github.com/didadida5555/ss/blob/master/7.%20select%20type.png?raw=true\" width=\"800px\"/>\n",
    "\n",
    "And then go to town with whatever content you want to create.\n",
    "\n",
    "\n",
    "Bonus - Deleting a file:\n",
    "Easy peezy\n",
    "<img src=\"https://github.com/didadida5555/ss/blob/master/b.%20delete%20the%20file.png?raw=true\" width=\"800px\"/>\n",
    "\n",
    "\n"
   ]
  }
 ],
 "metadata": {
  "kernelspec": {
   "display_name": "Python 3",
   "language": "python",
   "name": "python3"
  },
  "language_info": {
   "codemirror_mode": {
    "name": "ipython",
    "version": 3
   },
   "file_extension": ".py",
   "mimetype": "text/x-python",
   "name": "python",
   "nbconvert_exporter": "python",
   "pygments_lexer": "ipython3",
   "version": "3.7.3"
  }
 },
 "nbformat": 4,
 "nbformat_minor": 2
}
