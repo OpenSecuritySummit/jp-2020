{
 "cells": [
  {
   "cell_type": "markdown",
   "metadata": {},
   "source": [
    "First we start by looking for the active jp servers.\n",
    "Did this by asking oss_bot for them, with the command \"jp servers\" and clicked \"open\" to the server I want to work on (in my case this was 'jp-tests')\n",
    "\n",
    "<img src=\"https://github.com/didadida5555/ss/blob/master/1.%20oss_bot%20jp%20servers.PNG\" width=\"800px\"/>\n",
    "\n",
    "It opens the server and displays the current folders.\n",
    "\n",
    "<img src=\"https://github.com/didadida5555/ss/blob/master/2.%20JP%20server%20folders.PNG\" width=\"800px\"/>\n",
    "\n",
    "Next, selected the \"users\" folder and created a new folder under this by clicking \"New\" and selecting \"Folder\"\n",
    "\n",
    "<img src=\"https://github.com/didadida5555/ss/blob/master/3.%20Create%20folder%20under%20users.png\" width=\"800px\"/>"
   ]
  }
 ],
 "metadata": {
  "kernelspec": {
   "display_name": "Python 3",
   "language": "python",
   "name": "python3"
  },
  "language_info": {
   "codemirror_mode": {
    "name": "ipython",
    "version": 3
   },
   "file_extension": ".py",
   "mimetype": "text/x-python",
   "name": "python",
   "nbconvert_exporter": "python",
   "pygments_lexer": "ipython3",
   "version": "3.7.3"
  }
 },
 "nbformat": 4,
 "nbformat_minor": 2
}
