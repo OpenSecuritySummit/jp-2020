{
 "cells": [
  {
   "cell_type": "markdown",
   "metadata": {},
   "source": [
    "//Outcomes from Third Party Due Diligence session\n",
    "\n",
    "## Why\n",
    "+ Every company has their own third party due diligence methods. Mostly a mix of questionnaires, open source investigations, sometimes onsite assessments. This is not efficient in today's world as poor vendors are forced to spend 100s of hours each year filling in questionniares with same or similar questions over and over again.\n",
    "\n",
    "## What\n",
    "+ I believe we should have a restricted opensource platform where the members would agree on a framework and scoring system for third party due diligence from cyber perspective. (later may be expanded in other compliance areas too)\n",
    "+ This should perform the evaluation, follow-up assessments annually (or at major changes like M&As), tracking for resoltuions of the findings..\n",
    "+ Things to consider:\n",
    "+ Are we assessing the corporate controls of the vendor or their solution's security, or both?\n",
    "+ What framework or frameworks best suited for this? MITRE, NIST, ISO??\n",
    "+ Scores on maturity, flags on category of information classification that is recommended to be shared with the vendor (i.e. do not share non-public information with this vendor until they remediate findigns A, B, C)\n",
    "+ Funding for the activites - should we form a consortium like what FS-ISAC does for threat intelligence?\n",
    "+ If the third party is critical outsourcing partner, would the standard evaluation be sufficient, or should there be additional things to consider.\n",
    "\n",
    "## Outcomes\n",
    "+ Hard to tell, this session will be a good start on shaping the future of this activity.\n",
    "\n",
    "## Who\n",
    "+ In last ten years, every job I had included third party assurance work and I kept sending similar questionnaires to same vendors over and over. This needs to be improved and in this era of open sourcing everything, I believe we can do better if we came up with a shared model for third party due diligence."
   ]
  }
 ],
 "metadata": {
  "kernelspec": {
   "display_name": "Python 3",
   "language": "python",
   "name": "python3"
  },
  "language_info": {
   "codemirror_mode": {
    "name": "ipython",
    "version": 3
   },
   "file_extension": ".py",
   "mimetype": "text/x-python",
   "name": "python",
   "nbconvert_exporter": "python",
   "pygments_lexer": "ipython3",
   "version": "3.7.3"
  }
 },
 "nbformat": 4,
 "nbformat_minor": 2
}
