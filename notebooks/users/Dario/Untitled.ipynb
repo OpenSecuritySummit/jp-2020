{
 "cells": [
  {
   "cell_type": "code",
   "execution_count": 4,
   "metadata": {},
   "outputs": [],
   "source": [
    "import numpy as np\n",
    "import pandas as pd"
   ]
  },
  {
   "cell_type": "code",
   "execution_count": 2,
   "metadata": {},
   "outputs": [
    {
     "data": {
      "text/html": [
       "<style type=\"text/css\">\n",
       "table.dataframe td, table.dataframe th {\n",
       "    border: 1px  black solid !important;\n",
       "  color: black !important;\n",
       "}\n",
       "</style>\n"
      ],
      "text/plain": [
       "<IPython.core.display.HTML object>"
      ]
     },
     "metadata": {},
     "output_type": "display_data"
    }
   ],
   "source": [
    "%%HTML\n",
    "<style type=\"text/css\">\n",
    "table.dataframe td, table.dataframe th {\n",
    "    border: 1px  black solid !important;\n",
    "  color: black !important;\n",
    "}\n",
    "</style>"
   ]
  },
  {
   "cell_type": "code",
   "execution_count": 5,
   "metadata": {},
   "outputs": [],
   "source": [
    "pd.set_option('display.max_columns', 9999)\n",
    "pd.set_option('display.max_rows', 9999)\n",
    "pd.set_option('display.max_colwidth', -1)"
   ]
  },
  {
   "cell_type": "code",
   "execution_count": null,
   "metadata": {},
   "outputs": [],
   "source": [
    "source         = 'CHECKLIST-20'\n",
    "depth          = 6\n",
    "link_types     = 'requires,has task,has story,is assigned to,has feature'\n",
    "height         = 1600\n",
    "graph          = graph_expand(source, depth, link_types, height, show=False)\n",
    "all_issues     = graph.get_nodes_issues()\n",
    "\n",
    "timeline_tasks = []\n",
    "for key, val in all_issues.items():\n",
    "    if 'TASK' in key:\n",
    "        timeline_tasks.append(val)\n",
    "        \n",
    "res = [] \n",
    "for val in timeline_tasks: \n",
    "    if val != None : \n",
    "        res.append(val) \n",
    "        \n",
    "df  = pd.DataFrame(res)[['Key', 'Issue Links', 'Status', 'Summary']]\n",
    "df1 = pd.concat([df.drop('Issue Links', axis=1), pd.DataFrame(df['Issue Links'].tolist())], axis=1).set_index('Key')[['Status', 'Summary', 'is task of', 'is assigned to']]\n",
    "df1 = df1.astype('str')\n"
   ]
  }
 ],
 "metadata": {
  "kernelspec": {
   "display_name": "Python 3",
   "language": "python",
   "name": "python3"
  },
  "language_info": {
   "codemirror_mode": {
    "name": "ipython",
    "version": 3
   },
   "file_extension": ".py",
   "mimetype": "text/x-python",
   "name": "python",
   "nbconvert_exporter": "python",
   "pygments_lexer": "ipython3",
   "version": "3.7.3"
  }
 },
 "nbformat": 4,
 "nbformat_minor": 2
}
