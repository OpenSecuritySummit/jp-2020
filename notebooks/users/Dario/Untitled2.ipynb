{
 "cells": [
  {
   "cell_type": "code",
   "execution_count": 3,
   "metadata": {},
   "outputs": [
    {
     "ename": "ModuleNotFoundError",
     "evalue": "No module named 'heysummit'",
     "output_type": "error",
     "traceback": [
      "\u001b[0;31m---------------------------------------------------------------------------\u001b[0m",
      "\u001b[0;31mModuleNotFoundError\u001b[0m                       Traceback (most recent call last)",
      "\u001b[0;32m<ipython-input-3-aa1b54750d40>\u001b[0m in \u001b[0;36m<module>\u001b[0;34m\u001b[0m\n\u001b[1;32m      2\u001b[0m \u001b[0;32mimport\u001b[0m \u001b[0mpandas\u001b[0m \u001b[0;32mas\u001b[0m \u001b[0mpd\u001b[0m\u001b[0;34m\u001b[0m\u001b[0;34m\u001b[0m\u001b[0m\n\u001b[1;32m      3\u001b[0m \u001b[0;32mimport\u001b[0m \u001b[0margparse\u001b[0m\u001b[0;34m\u001b[0m\u001b[0;34m\u001b[0m\u001b[0m\n\u001b[0;32m----> 4\u001b[0;31m \u001b[0;32mfrom\u001b[0m \u001b[0mheysummit\u001b[0m\u001b[0;34m.\u001b[0m\u001b[0mapi\u001b[0m \u001b[0;32mimport\u001b[0m \u001b[0mHeySummit\u001b[0m\u001b[0;34m,\u001b[0m \u001b[0mHeySummitException\u001b[0m\u001b[0;34m\u001b[0m\u001b[0;34m\u001b[0m\u001b[0m\n\u001b[0m",
      "\u001b[0;31mModuleNotFoundError\u001b[0m: No module named 'heysummit'"
     ]
    }
   ],
   "source": [
    "#!pip install heysummit\n",
    "import pandas as pd\n",
    "import argparse\n",
    "from heysummit.api import HeySummit, HeySummitException"
   ]
  },
  {
   "cell_type": "code",
   "execution_count": 4,
   "metadata": {},
   "outputs": [
    {
     "name": "stdout",
     "output_type": "stream",
     "text": [
      "\u001b[33mWARNING: The directory '/home/jovyan/.cache/pip/http' or its parent directory is not owned by the current user and the cache has been disabled. Please check the permissions and owner of that directory. If executing pip with sudo, you may want sudo's -H flag.\u001b[0m\n",
      "\u001b[33mWARNING: The directory '/home/jovyan/.cache/pip' or its parent directory is not owned by the current user and caching wheels has been disabled. check the permissions and owner of that directory. If executing pip with sudo, you may want sudo's -H flag.\u001b[0m\n",
      "Collecting heysummit\n",
      "  Downloading https://files.pythonhosted.org/packages/1e/c5/bbfa65b06514a030a2efacdc8606e685c66fbbc53eac4ba533461008aec2/heysummit-0.1.4-py3-none-any.whl\n",
      "Collecting requests<3.0.0,>=2.23.0 (from heysummit)\n",
      "\u001b[?25l  Downloading https://files.pythonhosted.org/packages/1a/70/1935c770cb3be6e3a8b78ced23d7e0f3b187f5cbfab4749523ed65d7c9b1/requests-2.23.0-py2.py3-none-any.whl (58kB)\n",
      "\u001b[K     |████████████████████████████████| 61kB 12.1MB/s eta 0:00:01\n",
      "\u001b[?25hRequirement already satisfied: chardet<4,>=3.0.2 in /opt/conda/lib/python3.7/site-packages (from requests<3.0.0,>=2.23.0->heysummit) (3.0.4)\n",
      "Requirement already satisfied: certifi>=2017.4.17 in /opt/conda/lib/python3.7/site-packages (from requests<3.0.0,>=2.23.0->heysummit) (2019.3.9)\n",
      "Requirement already satisfied: idna<3,>=2.5 in /opt/conda/lib/python3.7/site-packages (from requests<3.0.0,>=2.23.0->heysummit) (2.8)\n",
      "Requirement already satisfied: urllib3!=1.25.0,!=1.25.1,<1.26,>=1.21.1 in /opt/conda/lib/python3.7/site-packages (from requests<3.0.0,>=2.23.0->heysummit) (1.24.2)\n",
      "\u001b[31mERROR: pbx-gs-python-utils 0.5.1 requires osbot-aws, which is not installed.\u001b[0m\n",
      "Installing collected packages: requests, heysummit\n",
      "  Found existing installation: requests 2.21.0\n",
      "    Uninstalling requests-2.21.0:\n",
      "      Successfully uninstalled requests-2.21.0\n",
      "Successfully installed heysummit-0.1.4 requests-2.23.0\n"
     ]
    }
   ],
   "source": [
    "!pip install heysummit"
   ]
  },
  {
   "cell_type": "code",
   "execution_count": null,
   "metadata": {},
   "outputs": [],
   "source": [
    "def list_attendees():\n",
    "attendees = hey.get_all_attendees()\n",
    "print(\"There are {n} attendees\\\".format(len(attendees)))\",\n",
    "for attendee in attendees:\",\n",
    "print(\\\"id: {id}, email: {email}\\\".format(\",\n",
    "id=attendee['id'], email=attendee['email']\\n\",\n",
    "\n",
    "def get_events():\\n\",\n",
    "events = hey.get_events(is_live=True)\\n\",\n",
    "for event in events:\\n\",\n",
    "print(event)\"\n",
    "talks = hey.get_talks(event=5573, is_active=True)\\n\",\n",
    "pd.DataFrame.from_dict(talks)\"\n",
    "      \n",
    "    # Pre Summit Training Sessions\\n\",\n",
    "hey = HeySummit(token='XXXXXX')\\n\",\n",
    "talks = hey.get_talks(event=5942, is_active=True)\\n\",\n",
    "pd.DataFrame.from_dict(talks)\""
   ]
  }
 ],
 "metadata": {
  "kernelspec": {
   "display_name": "Python 3",
   "language": "python",
   "name": "python3"
  },
  "language_info": {
   "codemirror_mode": {
    "name": "ipython",
    "version": 3
   },
   "file_extension": ".py",
   "mimetype": "text/x-python",
   "name": "python",
   "nbconvert_exporter": "python",
   "pygments_lexer": "ipython3",
   "version": "3.7.3"
  }
 },
 "nbformat": 4,
 "nbformat_minor": 2
}
