{
 "cells": [
  {
   "cell_type": "markdown",
   "metadata": {},
   "source": [
    "First we start by looking for the active jp servers.\n",
    "Did this by asking oss_bot for them, with the command \"jp servers\"\n",
    "\n",
    "<img src=\"https://github.com/didadida5555/ss/blob/master/1.%20oss_bot%20jp%20servers.PNG\" width=\"800px\">\n",
    "\n",
    "Next, "
   ]
  }
 ],
 "metadata": {
  "kernelspec": {
   "display_name": "Python 3",
   "language": "python",
   "name": "python3"
  },
  "language_info": {
   "codemirror_mode": {
    "name": "ipython",
    "version": 3
   },
   "file_extension": ".py",
   "mimetype": "text/x-python",
   "name": "python",
   "nbconvert_exporter": "python",
   "pygments_lexer": "ipython3",
   "version": "3.7.3"
  }
 },
 "nbformat": 4,
 "nbformat_minor": 2
}
