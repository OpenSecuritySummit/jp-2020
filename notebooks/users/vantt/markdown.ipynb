{
 "cells": [
  {
   "cell_type": "markdown",
   "metadata": {},
   "source": []
  },
  {
   "cell_type": "code",
   "execution_count": 1,
   "metadata": {
    "scrolled": true
   },
   "outputs": [
    {
     "data": {
      "application/javascript": [
       "$.('.container').width('95%')\n"
      ],
      "text/plain": [
       "<IPython.core.display.Javascript object>"
      ]
     },
     "metadata": {},
     "output_type": "display_data"
    }
   ],
   "source": [
    "%%javascript\n",
    "$.('.container').width('95%')"
   ]
  },
  {
   "cell_type": "code",
   "execution_count": null,
   "metadata": {},
   "outputs": [],
   "source": [
    "from IPython.display import display html, HTML, javascript,display\n",
    "from osbot_aws.apis.Lambda import Lambda\n",
    "\n",
    "def maps create(code):\n",
    "  aws_lambda=Lambda('osbot_browser.lambdas.lambda_browser')\n",
    "  params=[\"maps\", \"exec_js\"]\n",
    "  params.extend(code.split(' '))\n",
    "\n",
    "  payload={f\"params\": params,'data':{}}\n",
    "  png_data=aws_lambda.invoke(payload)\n",
    "  show_png(png_data)\n",
    "\n",
    "# maps create(map)\n",
    "def show_png(png_data,height-200):\n",
    "  html = img style=\"width: 100%; height: 800px; border: 1px solid black\" align-left\" src\n",
    "  ght,png_data)\n",
    "  display_html(html, raw True)\n",
    "  \"dataimage/png:base64(1)\"/>"
   ]
  },
  {
   "cell_type": "code",
   "execution_count": 2,
   "metadata": {},
   "outputs": [
    {
     "ename": "SyntaxError",
     "evalue": "invalid syntax (<ipython-input-2-0f1bc6629677>, line 2)",
     "output_type": "error",
     "traceback": [
      "\u001b[0;36m  File \u001b[0;32m\"<ipython-input-2-0f1bc6629677>\"\u001b[0;36m, line \u001b[0;32m2\u001b[0m\n\u001b[0;31m    from oss bot utils import\u001b[0m\n\u001b[0m               ^\u001b[0m\n\u001b[0;31mSyntaxError\u001b[0m\u001b[0;31m:\u001b[0m invalid syntax\n"
     ]
    }
   ],
   "source": [
    "%autoreload\n",
    "from oss_bot utils import\n",
    "map code\n",
    "add (\"Employer\" 31)\n",
    "add (\"Employee\" 3.4.1)\n",
    "add (\"Prosperity\" 3.2. 2)\n",
    "add (\"Goods\"\n",
    "add (\"Production\" 1.7,4)\n",
    "add (\"Implements 2.6,5)\n",
    "add (\"Science of Work\",4 8)\n",
    "2.3,3)\n",
    "link(\"Employer\" \"Prosperity\")\n",
    "link(\"Employee\" , \"Prosperity\")\n",
    "link (\"Prosperity\", \"Goods\" )\n",
    "link(\"Goods\" \"Production\" )\n",
    "link(\"Production\", \"Implements\" )\n",
    "link(\"Production\", \"Science of Work\")\n",
    "link(\"Implements\", \"Science of Work\")"
   ]
  }
 ],
 "metadata": {
  "kernelspec": {
   "display_name": "Python 3",
   "language": "python",
   "name": "python3"
  },
  "language_info": {
   "codemirror_mode": {
    "name": "ipython",
    "version": 3
   },
   "file_extension": ".py",
   "mimetype": "text/x-python",
   "name": "python",
   "nbconvert_exporter": "python",
   "pygments_lexer": "ipython3",
   "version": "3.7.3"
  }
 },
 "nbformat": 4,
 "nbformat_minor": 2
}
