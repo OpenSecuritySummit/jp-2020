{
 "cells": [
  {
   "cell_type": "markdown",
   "metadata": {},
   "source": [
    "%autoreload\n",
    "from oss bot utils import\n",
    "map code\n",
    "add (\"Employer\" 31)\n",
    "add (\"Employee\" 3.4.1)\n",
    "add (\"Prosperity\" 3.2. 2)\n",
    "add (\"Goods\"\n",
    "add (\"Production\" 1.7,4)\n",
    "add (\"Implements 2.6,5)\n",
    "add (\"Science of Work\",4 8)\n",
    "2.3,3)\n",
    "link(\"Employer\" \"Prosperity\")\n",
    "link(\"Employee\" , \"Prosperity\")\n",
    "link (\"Prosperity\", \"Goods\" )\n",
    "link(\"Goods\" \"Production\" )\n",
    "link(\"Production\", \"Implements\" )\n",
    "link(\"Production\", \"Science of Work\")\n",
    "link(\"Implements\", \"Science of Work\")"
   ]
  },
  {
   "cell_type": "code",
   "execution_count": null,
   "metadata": {},
   "outputs": [],
   "source": []
  }
 ],
 "metadata": {
  "kernelspec": {
   "display_name": "Python 3",
   "language": "python",
   "name": "python3"
  },
  "language_info": {
   "codemirror_mode": {
    "name": "ipython",
    "version": 3
   },
   "file_extension": ".py",
   "mimetype": "text/x-python",
   "name": "python",
   "nbconvert_exporter": "python",
   "pygments_lexer": "ipython3",
   "version": "3.7.3"
  }
 },
 "nbformat": 4,
 "nbformat_minor": 2
}
