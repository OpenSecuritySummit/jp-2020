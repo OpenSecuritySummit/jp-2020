{
 "cells": [
  {
   "cell_type": "markdown",
   "metadata": {},
   "source": [
    "# Security Challenges - Analysis, Analogies\n",
    "\n",
    "## Tuesday 4th June 2019, Session 2\n",
    "\n",
    "Characteristics to focus on:\n",
    "- Asymmetric between us and adversary\n",
    "- Auto-didacts - self-taught\n",
    "- Blame culture\n",
    "- Constant Evolution (speed of change)\n",
    "- Eternal, the game doesn't end\n",
    "- Expert driven, technical experts\n",
    "- Imposter syndrome\n",
    "- Lack of comparative data to judge who is winning or losing\n",
    "- Optimisation game\n",
    "\n",
    "Who should we learn from:\n",
    "- Counter-terrorism\n",
    "- Embryology\n",
    "- Anti-money"
   ]
  }
 ],
 "metadata": {
  "celltoolbar": "Slideshow",
  "kernelspec": {
   "display_name": "Python 3",
   "language": "python",
   "name": "python3"
  },
  "language_info": {
   "codemirror_mode": {
    "name": "ipython",
    "version": 3
   },
   "file_extension": ".py",
   "mimetype": "text/x-python",
   "name": "python",
   "nbconvert_exporter": "python",
   "pygments_lexer": "ipython3",
   "version": "3.7.3"
  }
 },
 "nbformat": 4,
 "nbformat_minor": 2
}
