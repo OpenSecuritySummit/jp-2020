{
 "cells": [
  {
   "cell_type": "markdown",
   "metadata": {},
   "source": [
    "# Agile Practices in Security Teams\n",
    "\n",
    "### Security Hierarchy of Needs\n",
    "How does security ensure that it is represented in development. What elements of security are included.\n",
    "\n",
    "Compliance and regulatory requirements are immutable and must be integrated.\n",
    "Everything below that is up for discussion.\n",
    "\n",
    "How do we get the conversation on to the risk decision?\n",
    "\n",
    "There is a quantified or quantifiable financial valuation on most pieces of work but this quantified element is not mature in security.\n",
    "\n",
    "Security in Agile vs Agile in Security\n",
    "\n",
    "AWS MSP: All items go into backl "
   ]
  }
 ],
 "metadata": {
  "kernelspec": {
   "display_name": "Python 3",
   "language": "python",
   "name": "python3"
  },
  "language_info": {
   "codemirror_mode": {
    "name": "ipython",
    "version": 3
   },
   "file_extension": ".py",
   "mimetype": "text/x-python",
   "name": "python",
   "nbconvert_exporter": "python",
   "pygments_lexer": "ipython3",
   "version": "3.7.3"
  }
 },
 "nbformat": 4,
 "nbformat_minor": 2
}
