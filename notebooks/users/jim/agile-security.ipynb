{
 "cells": [
  {
   "cell_type": "markdown",
   "metadata": {},
   "source": [
    "# Agile Practices in Security Teams\n",
    "\n",
    "### Security Hierarchy of Needs\n",
    "How does security ensure that it is represented in development. What elements of security are included.\n",
    "\n",
    "Compliance and regulatory requirements are immutable and must be integrated.\n",
    "Everything below that is up for discussion.\n",
    "\n",
    "How do we get the conversation on to the risk decision?\n",
    "\n",
    "There is a quantified or quantifiable financial valuation on most pieces of work but this quantified element is not mature in security.\n",
    "\n",
    "Security in Agile vs Agile in Security\n",
    "\n",
    "AWS MSP: All items go into backlog, security team decide on priorities. Backlog management is opaque - business can't necessarily challenge prioritisation.\n",
    "\n",
    "Cost against not doing an item (from risk and compliance) is allocated to each ticket item. If the cost of not doing it is higher than the cost of doing it then it must be signed off above the level of the product owner - that way visibility of the risk is ensured at a higher level. How to achieve that 'dollar value' of the risk?\n",
    "Who owns the risk? Is it the product owner or is it higher up the chain?"
   ]
  }
 ],
 "metadata": {
  "kernelspec": {
   "display_name": "Python 3",
   "language": "python",
   "name": "python3"
  },
  "language_info": {
   "codemirror_mode": {
    "name": "ipython",
    "version": 3
   },
   "file_extension": ".py",
   "mimetype": "text/x-python",
   "name": "python",
   "nbconvert_exporter": "python",
   "pygments_lexer": "ipython3",
   "version": "3.7.3"
  }
 },
 "nbformat": 4,
 "nbformat_minor": 2
}
