{
 "cells": [
  {
   "cell_type": "markdown",
   "metadata": {},
   "source": [
    "## Jupyter Notebooks\n",
    "\n",
    "### Test Notebook\n",
    "\n",
    "Simple plain text password match for testing and tinkering purposes."
   ]
  },
  {
   "cell_type": "code",
   "execution_count": 1,
   "metadata": {},
   "outputs": [],
   "source": [
    "# Dodgy password variable in a different cell\n",
    "dodgy_password = \"password123\""
   ]
  },
  {
   "cell_type": "code",
   "execution_count": 18,
   "metadata": {},
   "outputs": [
    {
     "name": "stdout",
     "output_type": "stream",
     "text": [
      "You found the pass at item 1084\n",
      "0.000255584716796875\n"
     ]
    }
   ],
   "source": [
    "import os, time\n",
    "\n",
    "# Get the contents of our password file into memory\n",
    "lines = [(line.rstrip('\\n')).lower() for line in open('top-ten-mil-passes.txt')]\n",
    "nf = True   # Variable to hold whether we found it or not\n",
    "\n",
    "# Get the timer started\n",
    "start = time.time()\n",
    "\n",
    "# Iterate through the list and check for the item. Break loop and exit if found\n",
    "for password in lines:\n",
    "    if password == dodgy_password:\n",
    "        print(\"You found the pass at item \" + str(lines.index(password)))\n",
    "        end = time.time()\n",
    "        print(end - start)\n",
    "        nf = False\n",
    "        break\n",
    "\n",
    "if nf == True:\n",
    "    print(\"Pass not found\")"
   ]
  },
  {
   "cell_type": "code",
   "execution_count": 17,
   "metadata": {},
   "outputs": [
    {
     "name": "stdout",
     "output_type": "stream",
     "text": [
      "jim-newman-test-workspace.ipynb  top-ten-mil-passes.txt\r\n"
     ]
    }
   ],
   "source": [
    "!ls"
   ]
  },
  {
   "cell_type": "code",
   "execution_count": null,
   "metadata": {},
   "outputs": [],
   "source": []
  }
 ],
 "metadata": {
  "kernelspec": {
   "display_name": "Python 3",
   "language": "python",
   "name": "python3"
  },
  "language_info": {
   "codemirror_mode": {
    "name": "ipython",
    "version": 3
   },
   "file_extension": ".py",
   "mimetype": "text/x-python",
   "name": "python",
   "nbconvert_exporter": "python",
   "pygments_lexer": "ipython3",
   "version": "3.7.3"
  }
 },
 "nbformat": 4,
 "nbformat_minor": 2
}
