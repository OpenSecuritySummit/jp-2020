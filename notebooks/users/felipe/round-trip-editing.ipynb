{
 "cells": [
  {
   "cell_type": "markdown",
   "metadata": {},
   "source": [
    "### RoundTrip Editing"
   ]
  },
  {
   "cell_type": "code",
   "execution_count": 1,
   "metadata": {},
   "outputs": [
    {
     "data": {
      "text/plain": [
       "True"
      ]
     },
     "execution_count": 1,
     "metadata": {},
     "output_type": "execute_result"
    }
   ],
   "source": [
    "from oss_hugo.OSS_Participant import OSS_Participant\n",
    "\n",
    "user = OSS_Participant('Dinis Cruz')"
   ]
  },
  {
   "cell_type": "code",
   "execution_count": 4,
   "metadata": {},
   "outputs": [
    {
     "data": {
      "text/plain": [
       "{'company': 'PhotoBox Group',\n",
       " 'image': 'https://pbs.twimg.com/profile_images/552850030105591808/x3i7zK5r_400x400.jpeg',\n",
       " 'job_title': 'CISO',\n",
       " 'linkedin': 'aaaaa',\n",
       " 'owasp_leadership': ['Board Member (20??-2011)',\n",
       "  'London Chapter',\n",
       "  'Portugal AppSec 20??',\n",
       "  'OWASP Seasons of Code',\n",
       "  'OWASP Books'],\n",
       " 'project_contributor': ['SAMM', 'Top 10'],\n",
       " 'project_leader': ['O2 Plattform', 'Maturity Models Tool', 'Summits'],\n",
       " 'project_user': ['ASVS'],\n",
       " 'sessions': ['Using Wardley Maps on SOC',\n",
       "  'Mapping boot camp',\n",
       "  'Wardley Mapping - Coordinating functions within a PST organisation',\n",
       "  'Wardley Mapping - Climatic Patterns and Using Doctrine',\n",
       "  'Using Wardley Maps and Cynefin for Security',\n",
       "  'Introduction to Cynefin Framework (Training Session)',\n",
       "  'Using Cynefin Framework making strategic security decisions'],\n",
       " 'status': 'done',\n",
       " 'title': 'Dinis Cruz',\n",
       " 'twitter': 'DinisCruz',\n",
       " 'type': 'participant',\n",
       " 'website': 'http://blog.diniscruz.com'}"
      ]
     },
     "execution_count": 4,
     "metadata": {},
     "output_type": "execute_result"
    }
   ],
   "source": [
    "user.metadata()"
   ]
  },
  {
   "cell_type": "code",
   "execution_count": 3,
   "metadata": {},
   "outputs": [
    {
     "data": {
      "text/plain": [
       "<oss_hugo.OSS_Participant.OSS_Participant at 0x7fc4b8566278>"
      ]
     },
     "execution_count": 3,
     "metadata": {},
     "output_type": "execute_result"
    }
   ],
   "source": [
    "df"
   ]
  },
  {
   "cell_type": "code",
   "execution_count": null,
   "metadata": {},
   "outputs": [],
   "source": []
  }
 ],
 "metadata": {
  "kernelspec": {
   "display_name": "Python 3",
   "language": "python",
   "name": "python3"
  },
  "language_info": {
   "codemirror_mode": {
    "name": "ipython",
    "version": 3
   },
   "file_extension": ".py",
   "mimetype": "text/x-python",
   "name": "python",
   "nbconvert_exporter": "python",
   "pygments_lexer": "ipython3",
   "version": "3.7.3"
  }
 },
 "nbformat": 4,
 "nbformat_minor": 2
}
