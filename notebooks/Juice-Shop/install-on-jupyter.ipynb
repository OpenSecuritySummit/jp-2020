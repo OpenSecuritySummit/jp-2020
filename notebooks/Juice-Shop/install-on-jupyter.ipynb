{
 "cells": [
  {
   "cell_type": "markdown",
   "metadata": {},
   "source": [
    "## Install on Jupyter\n",
    "\n",
    "Main repo: https://github.com/bkimminich/juice-shop"
   ]
  },
  {
   "cell_type": "markdown",
   "metadata": {},
   "source": [
    "### 1st) step clone the code as a submodule"
   ]
  },
  {
   "cell_type": "code",
   "execution_count": 1,
   "metadata": {},
   "outputs": [
    {
     "name": "stdout",
     "output_type": "stream",
     "text": [
      "'notebooks/Juice-Shop/juice-shop' already exists in the index\r\n"
     ]
    }
   ],
   "source": [
    "!git submodule add https://github.com/bkimminich/juice-shop.git"
   ]
  },
  {
   "cell_type": "markdown",
   "metadata": {},
   "source": [
    "2nd) install node version manager and node.js 10.x"
   ]
  },
  {
   "cell_type": "code",
   "execution_count": 2,
   "metadata": {},
   "outputs": [
    {
     "name": "stdout",
     "output_type": "stream",
     "text": [
      "=> nvm is already installed in /home/jovyan/.nvm, trying to update using git\n",
      "=> => Compressing and cleaning up git repository\n",
      "\n",
      "=> nvm source string already in /home/jovyan/.bashrc\n",
      "=> bash_completion source string already in /home/jovyan/.bashrc\n",
      "=> Close and reopen your terminal to start using nvm or run the following to use it now:\n",
      "\n",
      "export NVM_DIR=\"$HOME/.nvm\"\n",
      "[ -s \"$NVM_DIR/nvm.sh\" ] && \\. \"$NVM_DIR/nvm.sh\"  # This loads nvm\n",
      "[ -s \"$NVM_DIR/bash_completion\" ] && \\. \"$NVM_DIR/bash_completion\"  # This loads nvm bash_completion\n"
     ]
    }
   ],
   "source": [
    "!wget -qO- https://raw.githubusercontent.com/nvm-sh/nvm/v0.34.0/install.sh | bash"
   ]
  },
  {
   "cell_type": "code",
   "execution_count": null,
   "metadata": {},
   "outputs": [],
   "source": [
    "!export NVM_DIR=\"${XDG_CONFIG_HOME/:-$HOME/.}nvm\"\n",
    "[ -s \"$NVM_DIR/nvm.sh\" ] && \\. \"$NVM_DIR/nvm.sh\""
   ]
  },
  {
   "cell_type": "code",
   "execution_count": 3,
   "metadata": {},
   "outputs": [
    {
     "name": "stdout",
     "output_type": "stream",
     "text": [
      "/bin/sh: 1: nvm: not found\r\n",
      "/bin/sh: 1: nvm: not found\r\n",
      "/bin/sh: 1: nvm: not found\r\n"
     ]
    }
   ],
   "source": [
    "!nvm install 10 ; nvm alias default 10 ; nvm use 10"
   ]
  },
  {
   "cell_type": "code",
   "execution_count": null,
   "metadata": {},
   "outputs": [
    {
     "name": "stdout",
     "output_type": "stream",
     "text": [
      "app.js\t\t    docs\t      LICENSE\t\t  routes\r\n",
      "app.json\t    encryptionkeys    logs\t\t  screenshots\r\n",
      "CODE_OF_CONDUCT.md  frontend\t      models\t\t  SECURITY.md\r\n",
      "config\t\t    ftp\t\t      node_modules\t  server.js\r\n",
      "CONTRIBUTING.md     greenkeeper.json  package.json\t  swagger.yml\r\n",
      "crowdin.yaml\t    Gruntfile.js      package-lock.json   test\r\n",
      "ctf.key\t\t    HALL_OF_FAME.md   protractor.conf.js  uploads\r\n",
      "data\t\t    hooks\t      README.md\t\t  vagrant\r\n",
      "Dockerfile\t    lib\t\t      REFERENCES.md\t  views\r\n"
     ]
    }
   ],
   "source": [
    "!ls juice-shop"
   ]
  },
  {
   "cell_type": "code",
   "execution_count": null,
   "metadata": {},
   "outputs": [
    {
     "name": "stdout",
     "output_type": "stream",
     "text": [
      "[\u001b[7m            \u001b[27m\u001b[90m......\u001b[0m] - finalize:fsevents: \u001b[7msill\u001b[0m \u001b[35mfinalize\u001b[0m /codebuild/output/src66\u001b[0m\u001b[Km\u001b[K\r"
     ]
    }
   ],
   "source": [
    "!cd juice-shop ; npm install ; npm install sqlite3 ; npm postinstall"
   ]
  },
  {
   "cell_type": "code",
   "execution_count": null,
   "metadata": {},
   "outputs": [],
   "source": [
    "!npm start"
   ]
  }
 ],
 "metadata": {
  "kernelspec": {
   "display_name": "Python 3",
   "language": "python",
   "name": "python3"
  },
  "language_info": {
   "codemirror_mode": {
    "name": "ipython",
    "version": 3
   },
   "file_extension": ".py",
   "mimetype": "text/x-python",
   "name": "python",
   "nbconvert_exporter": "python",
   "pygments_lexer": "ipython3",
   "version": "3.7.3"
  }
 },
 "nbformat": 4,
 "nbformat_minor": 2
}
