{
 "cells": [
  {
   "cell_type": "markdown",
   "metadata": {},
   "source": [
    "## Install on Jupyter\n",
    "\n",
    "Main repo: https://github.com/bkimminich/juice-shop"
   ]
  },
  {
   "cell_type": "markdown",
   "metadata": {},
   "source": [
    "### 1st) step clone the code as a submodule"
   ]
  },
  {
   "cell_type": "code",
   "execution_count": 1,
   "metadata": {},
   "outputs": [
    {
     "name": "stdout",
     "output_type": "stream",
     "text": [
      "'notebooks/Juice-Shop/juice-shop' already exists in the index\r\n"
     ]
    }
   ],
   "source": [
    "!git submodule add https://github.com/bkimminich/juice-shop.git"
   ]
  },
  {
   "cell_type": "markdown",
   "metadata": {},
   "source": [
    "### 2nd) install node version manager and switch to node.js 10.x"
   ]
  },
  {
   "cell_type": "code",
   "execution_count": 2,
   "metadata": {},
   "outputs": [
    {
     "name": "stdout",
     "output_type": "stream",
     "text": [
      "=> nvm is already installed in /home/jovyan/.nvm, trying to update using git\n",
      "=> => Compressing and cleaning up git repository\n",
      "\n",
      "=> nvm source string already in /home/jovyan/.bashrc\n",
      "=> bash_completion source string already in /home/jovyan/.bashrc\n",
      "=> Close and reopen your terminal to start using nvm or run the following to use it now:\n",
      "\n",
      "export NVM_DIR=\"$HOME/.nvm\"\n",
      "[ -s \"$NVM_DIR/nvm.sh\" ] && \\. \"$NVM_DIR/nvm.sh\"  # This loads nvm\n",
      "[ -s \"$NVM_DIR/bash_completion\" ] && \\. \"$NVM_DIR/bash_completion\"  # This loads nvm bash_completion\n"
     ]
    }
   ],
   "source": [
    "!wget -qO- https://raw.githubusercontent.com/nvm-sh/nvm/v0.34.0/install.sh | bash"
   ]
  },
  {
   "cell_type": "code",
   "execution_count": 4,
   "metadata": {},
   "outputs": [
    {
     "name": "stdout",
     "output_type": "stream",
     "text": [
      "/bin/sh: 1: Bad substitution\r\n"
     ]
    }
   ],
   "source": [
    "!export NVM_DIR=\"${XDG_CONFIG_HOME/:-$HOME/.}nvm\"\n",
    "[ -s \"$NVM_DIR/nvm.sh\" ] && \\. \"$NVM_DIR/nvm.sh\""
   ]
  },
  {
   "cell_type": "code",
   "execution_count": 5,
   "metadata": {},
   "outputs": [
    {
     "name": "stdout",
     "output_type": "stream",
     "text": [
      "/bin/sh: 1: nvm: not found\r\n",
      "/bin/sh: 1: nvm: not found\r\n",
      "/bin/sh: 1: nvm: not found\r\n"
     ]
    }
   ],
   "source": [
    "!nvm install 10 ; nvm alias default 10 ; nvm use 10"
   ]
  },
  {
   "cell_type": "code",
   "execution_count": 6,
   "metadata": {},
   "outputs": [
    {
     "name": "stdout",
     "output_type": "stream",
     "text": [
      "app.js\t\t    docs\t      LICENSE\t\t  routes\r\n",
      "app.json\t    encryptionkeys    logs\t\t  screenshots\r\n",
      "CODE_OF_CONDUCT.md  frontend\t      models\t\t  SECURITY.md\r\n",
      "config\t\t    ftp\t\t      node_modules\t  server.js\r\n",
      "CONTRIBUTING.md     greenkeeper.json  package.json\t  swagger.yml\r\n",
      "crowdin.yaml\t    Gruntfile.js      package-lock.json   test\r\n",
      "ctf.key\t\t    HALL_OF_FAME.md   protractor.conf.js  uploads\r\n",
      "data\t\t    hooks\t      README.md\t\t  vagrant\r\n",
      "Dockerfile\t    lib\t\t      REFERENCES.md\t  views\r\n"
     ]
    }
   ],
   "source": [
    "!ls juice-shop"
   ]
  },
  {
   "cell_type": "markdown",
   "metadata": {},
   "source": [
    "### 3rd) install Juice Shop"
   ]
  },
  {
   "cell_type": "code",
   "execution_count": 7,
   "metadata": {},
   "outputs": [
    {
     "name": "stdout",
     "output_type": "stream",
     "text": [
      "\u001b[K\u001b[?25h        \u001b[27m\u001b[90m......\u001b[0m] \\ build:github-from-package: \u001b[7msill\u001b[0m \u001b[35mlinkStuff\u001b[0m github-from-pa\u001b[0m\u001b[Km\u001b[K\n",
      "> iltorb@1.3.10 install /codebuild/output/src664660047/src/github.com/OpenSecuritySummit/jp-tests/notebooks/Juice-Shop/juice-shop/node_modules/iltorb\n",
      "> detect-libc prebuild-install || node-gyp rebuild\n",
      "\n",
      "\u001b[37;40mprebuild-install\u001b[0m \u001b[0m\u001b[30;43mWARN\u001b[0m \u001b[0m\u001b[35minstall\u001b[0m No prebuilt binaries found (target=11.14.0 runtime=node arch=x64 platform=linux)\n",
      "\u001b[0m\u001b[37;40mgyp\u001b[0m \u001b[0m\u001b[31;40mERR!\u001b[0m \u001b[0m\u001b[35mconfigure error\u001b[0m \n",
      "\u001b[0m\u001b[37;40mgyp\u001b[0m \u001b[0m\u001b[31;40mERR!\u001b[0m \u001b[0m\u001b[35mstack\u001b[0m Error: Command failed: /opt/conda/bin/python -c import sys; print \"%s.%s.%s\" % sys.version_info[:3];\n",
      "\u001b[0m\u001b[37;40mgyp\u001b[0m \u001b[0m\u001b[31;40mERR!\u001b[0m \u001b[0m\u001b[35mstack\u001b[0m   File \"<string>\", line 1\n",
      "\u001b[0m\u001b[37;40mgyp\u001b[0m \u001b[0m\u001b[31;40mERR!\u001b[0m \u001b[0m\u001b[35mstack\u001b[0m     import sys; print \"%s.%s.%s\" % sys.version_info[:3];\n",
      "\u001b[0m\u001b[37;40mgyp\u001b[0m \u001b[0m\u001b[31;40mERR!\u001b[0m \u001b[0m\u001b[35mstack\u001b[0m                                ^\n",
      "\u001b[0m\u001b[37;40mgyp\u001b[0m \u001b[0m\u001b[31;40mERR!\u001b[0m \u001b[0m\u001b[35mstack\u001b[0m SyntaxError: invalid syntax\n",
      "\u001b[0m\u001b[37;40mgyp\u001b[0m \u001b[0m\u001b[31;40mERR!\u001b[0m \u001b[0m\u001b[35mstack\u001b[0m \n",
      "\u001b[0m\u001b[37;40mgyp\u001b[0m \u001b[0m\u001b[31;40mERR!\u001b[0m \u001b[0m\u001b[35mstack\u001b[0m     at ChildProcess.exithandler (child_process.js:299:12)\n",
      "\u001b[0m\u001b[37;40mgyp\u001b[0m \u001b[0m\u001b[31;40mERR!\u001b[0m \u001b[0m\u001b[35mstack\u001b[0m     at ChildProcess.emit (events.js:193:13)\n",
      "\u001b[0m\u001b[37;40mgyp\u001b[0m \u001b[0m\u001b[31;40mERR!\u001b[0m \u001b[0m\u001b[35mstack\u001b[0m     at maybeClose (internal/child_process.js:999:16)\n",
      "\u001b[0m\u001b[37;40mgyp\u001b[0m \u001b[0m\u001b[31;40mERR!\u001b[0m \u001b[0m\u001b[35mstack\u001b[0m     at Process.ChildProcess._handle.onexit (internal/child_process.js:266:5)\n",
      "\u001b[0m\u001b[37;40mgyp\u001b[0m \u001b[0m\u001b[31;40mERR!\u001b[0m \u001b[0m\u001b[35mSystem\u001b[0m Linux 4.14.114-83.126.amzn1.x86_64\n",
      "\u001b[0m\u001b[37;40mgyp\u001b[0m \u001b[0m\u001b[31;40mERR!\u001b[0m \u001b[0m\u001b[35mcommand\u001b[0m \"/opt/conda/bin/node\" \"/opt/conda/lib/node_modules/npm/node_modules/node-gyp/bin/node-gyp.js\" \"rebuild\"\n",
      "\u001b[0m\u001b[37;40mgyp\u001b[0m \u001b[0m\u001b[31;40mERR!\u001b[0m \u001b[0m\u001b[35mcwd\u001b[0m /codebuild/output/src664660047/src/github.com/OpenSecuritySummit/jp-tests/notebooks/Juice-Shop/juice-shop/node_modules/iltorb\n",
      "\u001b[0m\u001b[37;40mgyp\u001b[0m \u001b[0m\u001b[31;40mERR!\u001b[0m \u001b[0m\u001b[35mnode -v\u001b[0m v11.14.0\n",
      "\u001b[0m\u001b[37;40mgyp\u001b[0m \u001b[0m\u001b[31;40mERR!\u001b[0m \u001b[0m\u001b[35mnode-gyp -v\u001b[0m v3.8.0\n",
      "\u001b[0m\u001b[37;40mgyp\u001b[0m \u001b[0m\u001b[31;40mERR!\u001b[0m \u001b[0m\u001b[35mnot ok\u001b[0m \n",
      "\u001b[K\u001b[?25h\u001b[37;40mnpm\u001b[0m \u001b[0m\u001b[30;43mWARN\u001b[0m \u001b[0m\u001b[35mlifecycle\u001b[0m juice-shop@8.7.1~postinstall: cannot run in wd juice-shop@8.7.1 cd frontend && npm install && cd .. && npm run build (wd=/codebuild/output/src664660047/src/github.com/OpenSecuritySummit/jp-tests/notebooks/Juice-Shop/juice-shop)\n",
      "\u001b[K\u001b[?25h\u001b[37;40mnpm\u001b[0m \u001b[0m\u001b[30;43mWARN\u001b[0m\u001b[35m\u001b[0m acorn-jsx@5.0.1 requires a peer of acorn@^6.0.0 but none is installed. You must install peer dependencies yourself.\n",
      "\u001b[0m\u001b[37;40mnpm\u001b[0m \u001b[0m\u001b[30;43mWARN\u001b[0m\u001b[35m\u001b[0m sinon-chai@3.2.0 requires a peer of sinon@>=4.0.0 <7.0.0 but none is installed. You must install peer dependencies yourself.\n",
      "\u001b[0m\u001b[37;40mnpm\u001b[0m \u001b[0m\u001b[30;43mWARN\u001b[0m \u001b[0m\u001b[35moptional\u001b[0m SKIPPING OPTIONAL DEPENDENCY: fsevents@1.2.9 (node_modules/fsevents):\n",
      "\u001b[0m\u001b[37;40mnpm\u001b[0m \u001b[0m\u001b[30;43mWARN\u001b[0m \u001b[0m\u001b[35mnotsup\u001b[0m SKIPPING OPTIONAL DEPENDENCY: Unsupported platform for fsevents@1.2.9: wanted {\"os\":\"darwin\",\"arch\":\"any\"} (current: {\"os\":\"linux\",\"arch\":\"x64\"})\n",
      "\u001b[0m\u001b[37;40mnpm\u001b[0m \u001b[0m\u001b[30;43mWARN\u001b[0m \u001b[0m\u001b[35moptional\u001b[0m SKIPPING OPTIONAL DEPENDENCY: iltorb@1.3.10 (node_modules/iltorb):\n",
      "\u001b[0m\u001b[37;40mnpm\u001b[0m \u001b[0m\u001b[30;43mWARN\u001b[0m \u001b[0m\u001b[35moptional\u001b[0m SKIPPING OPTIONAL DEPENDENCY: iltorb@1.3.10 install: `detect-libc prebuild-install || node-gyp rebuild`\n",
      "\u001b[0m\u001b[37;40mnpm\u001b[0m \u001b[0m\u001b[30;43mWARN\u001b[0m \u001b[0m\u001b[35moptional\u001b[0m SKIPPING OPTIONAL DEPENDENCY: Exit status 1\n",
      "\u001b[0m\n",
      "audited 23886 packages in 12.987s\n",
      "found \u001b[91m75\u001b[0m vulnerabilities (67 \u001b[1mlow\u001b[0m, 6 \u001b[93mmoderate\u001b[0m, 1 \u001b[91mhigh\u001b[0m, 1 \u001b[95mcritical\u001b[0m)\n",
      "  run `npm audit fix` to fix them, or `npm audit` for details\n",
      "\u001b[K\u001b[?25h        \u001b[27m\u001b[90m......\u001b[0m] / build:which-pm-runs: \u001b[7msill\u001b[0m \u001b[35mlinkStuff\u001b[0m which-pm-runs@1.0.0\u001b[0m\u001b[KKm\u001b[K\n",
      "> iltorb@1.3.10 install /codebuild/output/src664660047/src/github.com/OpenSecuritySummit/jp-tests/notebooks/Juice-Shop/juice-shop/node_modules/iltorb\n",
      "> detect-libc prebuild-install || node-gyp rebuild\n",
      "\n",
      "\u001b[37;40mprebuild-install\u001b[0m \u001b[0m\u001b[30;43mWARN\u001b[0m \u001b[0m\u001b[35minstall\u001b[0m No prebuilt binaries found (target=11.14.0 runtime=node arch=x64 platform=linux)\n",
      "\u001b[0m\u001b[37;40mgyp\u001b[0m \u001b[0m\u001b[31;40mERR!\u001b[0m \u001b[0m\u001b[35mconfigure error\u001b[0m \n",
      "\u001b[0m\u001b[37;40mgyp\u001b[0m \u001b[0m\u001b[31;40mERR!\u001b[0m \u001b[0m\u001b[35mstack\u001b[0m Error: Command failed: /opt/conda/bin/python -c import sys; print \"%s.%s.%s\" % sys.version_info[:3];\n",
      "\u001b[0m\u001b[37;40mgyp\u001b[0m \u001b[0m\u001b[31;40mERR!\u001b[0m \u001b[0m\u001b[35mstack\u001b[0m   File \"<string>\", line 1\n",
      "\u001b[0m\u001b[37;40mgyp\u001b[0m \u001b[0m\u001b[31;40mERR!\u001b[0m \u001b[0m\u001b[35mstack\u001b[0m     import sys; print \"%s.%s.%s\" % sys.version_info[:3];\n",
      "\u001b[0m\u001b[37;40mgyp\u001b[0m \u001b[0m\u001b[31;40mERR!\u001b[0m \u001b[0m\u001b[35mstack\u001b[0m                                ^\n",
      "\u001b[0m\u001b[37;40mgyp\u001b[0m \u001b[0m\u001b[31;40mERR!\u001b[0m \u001b[0m\u001b[35mstack\u001b[0m SyntaxError: invalid syntax\n",
      "\u001b[0m\u001b[37;40mgyp\u001b[0m \u001b[0m\u001b[31;40mERR!\u001b[0m \u001b[0m\u001b[35mstack\u001b[0m \n",
      "\u001b[0m\u001b[37;40mgyp\u001b[0m \u001b[0m\u001b[31;40mERR!\u001b[0m \u001b[0m\u001b[35mstack\u001b[0m     at ChildProcess.exithandler (child_process.js:299:12)\n",
      "\u001b[0m\u001b[37;40mgyp\u001b[0m \u001b[0m\u001b[31;40mERR!\u001b[0m \u001b[0m\u001b[35mstack\u001b[0m     at ChildProcess.emit (events.js:193:13)\n",
      "\u001b[0m\u001b[37;40mgyp\u001b[0m \u001b[0m\u001b[31;40mERR!\u001b[0m \u001b[0m\u001b[35mstack\u001b[0m     at maybeClose (internal/child_process.js:999:16)\n",
      "\u001b[0m\u001b[37;40mgyp\u001b[0m \u001b[0m\u001b[31;40mERR!\u001b[0m \u001b[0m\u001b[35mstack\u001b[0m     at Process.ChildProcess._handle.onexit (internal/child_process.js:266:5)\n",
      "\u001b[0m\u001b[37;40mgyp\u001b[0m \u001b[0m\u001b[31;40mERR!\u001b[0m \u001b[0m\u001b[35mSystem\u001b[0m Linux 4.14.114-83.126.amzn1.x86_64\n",
      "\u001b[0m\u001b[37;40mgyp\u001b[0m \u001b[0m\u001b[31;40mERR!\u001b[0m \u001b[0m\u001b[35mcommand\u001b[0m \"/opt/conda/bin/node\" \"/opt/conda/lib/node_modules/npm/node_modules/node-gyp/bin/node-gyp.js\" \"rebuild\"\n",
      "\u001b[0m\u001b[37;40mgyp\u001b[0m \u001b[0m\u001b[31;40mERR!\u001b[0m \u001b[0m\u001b[35mcwd\u001b[0m /codebuild/output/src664660047/src/github.com/OpenSecuritySummit/jp-tests/notebooks/Juice-Shop/juice-shop/node_modules/iltorb\n",
      "\u001b[0m\u001b[37;40mgyp\u001b[0m \u001b[0m\u001b[31;40mERR!\u001b[0m \u001b[0m\u001b[35mnode -v\u001b[0m v11.14.0\n",
      "\u001b[0m\u001b[37;40mgyp\u001b[0m \u001b[0m\u001b[31;40mERR!\u001b[0m \u001b[0m\u001b[35mnode-gyp -v\u001b[0m v3.8.0\n",
      "\u001b[0m\u001b[37;40mgyp\u001b[0m \u001b[0m\u001b[31;40mERR!\u001b[0m \u001b[0m\u001b[35mnot ok\u001b[0m \n",
      "\u001b[0m\n",
      "> sqlite3@4.0.8 install /codebuild/output/src664660047/src/github.com/OpenSecuritySummit/jp-tests/notebooks/Juice-Shop/juice-shop/node_modules/sqlite3\n",
      "> node-pre-gyp install --fallback-to-build\n",
      "\n",
      "\u001b[37;40mnode-pre-gyp\u001b[0m \u001b[0m\u001b[30;43mWARN\u001b[0m \u001b[0m\u001b[35mUsing request for node-pre-gyp https download\u001b[0m \n",
      "\u001b[0m\u001b[37;40mnode-pre-gyp\u001b[0m \u001b[0m\u001b[30;43mWARN\u001b[0m \u001b[0m\u001b[35mPre-built binaries not installable for sqlite3@4.0.8 and node@11.14.0 (node-v67 ABI, glibc) (falling back to source compile with node-gyp)\u001b[0m \n",
      "\u001b[0m\u001b[37;40mnode-pre-gyp\u001b[0m \u001b[0m\u001b[30;43mWARN\u001b[0m \u001b[0m\u001b[35mHit error EACCES: permission denied, mkdir '/codebuild/output/src664660047/src/github.com/OpenSecuritySummit/jp-tests/notebooks/Juice-Shop/juice-shop/node_modules/sqlite3/lib/binding'\u001b[0m \n",
      "\u001b[0m\u001b[37;40mgyp\u001b[0m \u001b[0m\u001b[31;40mERR!\u001b[0m \u001b[0m\u001b[35mconfigure error\u001b[0m \n",
      "\u001b[0m\u001b[37;40mgyp\u001b[0m \u001b[0m\u001b[31;40mERR!\u001b[0m \u001b[0m\u001b[35mstack\u001b[0m Error: Command failed: /opt/conda/bin/python -c import sys; print \"%s.%s.%s\" % sys.version_info[:3];\n",
      "\u001b[0m\u001b[37;40mgyp\u001b[0m \u001b[0m\u001b[31;40mERR!\u001b[0m \u001b[0m\u001b[35mstack\u001b[0m   File \"<string>\", line 1\n",
      "\u001b[0m\u001b[37;40mgyp\u001b[0m \u001b[0m\u001b[31;40mERR!\u001b[0m \u001b[0m\u001b[35mstack\u001b[0m     import sys; print \"%s.%s.%s\" % sys.version_info[:3];\n",
      "\u001b[0m\u001b[37;40mgyp\u001b[0m \u001b[0m\u001b[31;40mERR!\u001b[0m \u001b[0m\u001b[35mstack\u001b[0m                                ^\n",
      "\u001b[0m\u001b[37;40mgyp\u001b[0m \u001b[0m\u001b[31;40mERR!\u001b[0m \u001b[0m\u001b[35mstack\u001b[0m SyntaxError: invalid syntax\n",
      "\u001b[0m\u001b[37;40mgyp\u001b[0m \u001b[0m\u001b[31;40mERR!\u001b[0m \u001b[0m\u001b[35mstack\u001b[0m \n",
      "\u001b[0m\u001b[37;40mgyp\u001b[0m \u001b[0m\u001b[31;40mERR!\u001b[0m \u001b[0m\u001b[35mstack\u001b[0m     at ChildProcess.exithandler (child_process.js:299:12)\n",
      "\u001b[0m\u001b[37;40mgyp\u001b[0m \u001b[0m\u001b[31;40mERR!\u001b[0m \u001b[0m\u001b[35mstack\u001b[0m     at ChildProcess.emit (events.js:193:13)\n",
      "\u001b[0m\u001b[37;40mgyp\u001b[0m \u001b[0m\u001b[31;40mERR!\u001b[0m \u001b[0m\u001b[35mstack\u001b[0m     at maybeClose (internal/child_process.js:999:16)\n",
      "\u001b[0m\u001b[37;40mgyp\u001b[0m \u001b[0m\u001b[31;40mERR!\u001b[0m \u001b[0m\u001b[35mstack\u001b[0m     at Process.ChildProcess._handle.onexit (internal/child_process.js:266:5)\n",
      "\u001b[0m\u001b[37;40mgyp\u001b[0m \u001b[0m\u001b[31;40mERR!\u001b[0m \u001b[0m\u001b[35mSystem\u001b[0m Linux 4.14.114-83.126.amzn1.x86_64\n",
      "\u001b[0m\u001b[37;40mgyp\u001b[0m \u001b[0m\u001b[31;40mERR!\u001b[0m \u001b[0m\u001b[35mcommand\u001b[0m \"/opt/conda/bin/node\" \"/opt/conda/lib/node_modules/npm/node_modules/node-gyp/bin/node-gyp.js\" \"configure\" \"--fallback-to-build\" \"--module=/codebuild/output/src664660047/src/github.com/OpenSecuritySummit/jp-tests/notebooks/Juice-Shop/juice-shop/node_modules/sqlite3/lib/binding/node-v67-linux-x64/node_sqlite3.node\" \"--module_name=node_sqlite3\" \"--module_path=/codebuild/output/src664660047/src/github.com/OpenSecuritySummit/jp-tests/notebooks/Juice-Shop/juice-shop/node_modules/sqlite3/lib/binding/node-v67-linux-x64\" \"--napi_version=4\" \"--node_abi_napi=napi\" \"--napi_build_version=0\" \"--node_napi_label=node-v67\"\n",
      "\u001b[0m\u001b[37;40mgyp\u001b[0m \u001b[0m\u001b[31;40mERR!\u001b[0m \u001b[0m\u001b[35mcwd\u001b[0m /codebuild/output/src664660047/src/github.com/OpenSecuritySummit/jp-tests/notebooks/Juice-Shop/juice-shop/node_modules/sqlite3\n",
      "\u001b[0m\u001b[37;40mgyp\u001b[0m \u001b[0m\u001b[31;40mERR!\u001b[0m \u001b[0m\u001b[35mnode -v\u001b[0m v11.14.0\n",
      "\u001b[0m\u001b[37;40mgyp\u001b[0m \u001b[0m\u001b[31;40mERR!\u001b[0m \u001b[0m\u001b[35mnode-gyp -v\u001b[0m v3.8.0\n",
      "\u001b[0m\u001b[37;40mgyp\u001b[0m \u001b[0m\u001b[31;40mERR!\u001b[0m \u001b[0m\u001b[35mnot ok\u001b[0m \n",
      "\u001b[0m\u001b[37;40mnode-pre-gyp\u001b[0m \u001b[0m\u001b[31;40mERR!\u001b[0m \u001b[0m\u001b[35mbuild error\u001b[0m \n",
      "\u001b[0m\u001b[37;40mnode-pre-gyp\u001b[0m \u001b[0m\u001b[31;40mERR!\u001b[0m \u001b[0m\u001b[35mstack\u001b[0m Error: Failed to execute '/opt/conda/bin/node /opt/conda/lib/node_modules/npm/node_modules/node-gyp/bin/node-gyp.js configure --fallback-to-build --module=/codebuild/output/src664660047/src/github.com/OpenSecuritySummit/jp-tests/notebooks/Juice-Shop/juice-shop/node_modules/sqlite3/lib/binding/node-v67-linux-x64/node_sqlite3.node --module_name=node_sqlite3 --module_path=/codebuild/output/src664660047/src/github.com/OpenSecuritySummit/jp-tests/notebooks/Juice-Shop/juice-shop/node_modules/sqlite3/lib/binding/node-v67-linux-x64 --napi_version=4 --node_abi_napi=napi --napi_build_version=0 --node_napi_label=node-v67' (1)\n",
      "\u001b[0m\u001b[37;40mnode-pre-gyp\u001b[0m \u001b[0m\u001b[31;40mERR!\u001b[0m \u001b[0m\u001b[35mstack\u001b[0m     at ChildProcess.<anonymous> (/codebuild/output/src664660047/src/github.com/OpenSecuritySummit/jp-tests/notebooks/Juice-Shop/juice-shop/node_modules/sqlite3/node_modules/node-pre-gyp/lib/util/compile.js:83:29)\n",
      "\u001b[0m\u001b[37;40mnode-pre-gyp\u001b[0m \u001b[0m\u001b[31;40mERR!\u001b[0m \u001b[0m\u001b[35mstack\u001b[0m     at ChildProcess.emit (events.js:193:13)\n",
      "\u001b[0m\u001b[37;40mnode-pre-gyp\u001b[0m \u001b[0m\u001b[31;40mERR!\u001b[0m \u001b[0m\u001b[35mstack\u001b[0m     at maybeClose (internal/child_process.js:999:16)\n",
      "\u001b[0m\u001b[37;40mnode-pre-gyp\u001b[0m \u001b[0m\u001b[31;40mERR!\u001b[0m \u001b[0m\u001b[35mstack\u001b[0m     at Process.ChildProcess._handle.onexit (internal/child_process.js:266:5)\n",
      "\u001b[0m\u001b[37;40mnode-pre-gyp\u001b[0m \u001b[0m\u001b[31;40mERR!\u001b[0m \u001b[0m\u001b[35mSystem\u001b[0m Linux 4.14.114-83.126.amzn1.x86_64\n",
      "\u001b[0m\u001b[37;40mnode-pre-gyp\u001b[0m \u001b[0m\u001b[31;40mERR!\u001b[0m \u001b[0m\u001b[35mcommand\u001b[0m \"/opt/conda/bin/node\" \"/codebuild/output/src664660047/src/github.com/OpenSecuritySummit/jp-tests/notebooks/Juice-Shop/juice-shop/node_modules/sqlite3/node_modules/.bin/node-pre-gyp\" \"install\" \"--fallback-to-build\"\n",
      "\u001b[0m\u001b[37;40mnode-pre-gyp\u001b[0m \u001b[0m\u001b[31;40mERR!\u001b[0m \u001b[0m\u001b[35mcwd\u001b[0m /codebuild/output/src664660047/src/github.com/OpenSecuritySummit/jp-tests/notebooks/Juice-Shop/juice-shop/node_modules/sqlite3\n",
      "\u001b[0m\u001b[37;40mnode-pre-gyp\u001b[0m \u001b[0m\u001b[31;40mERR!\u001b[0m \u001b[0m\u001b[35mnode -v\u001b[0m v11.14.0\n",
      "\u001b[0m\u001b[37;40mnode-pre-gyp\u001b[0m \u001b[0m\u001b[31;40mERR!\u001b[0m \u001b[0m\u001b[35mnode-pre-gyp -v\u001b[0m v0.11.0\n",
      "\u001b[0m\u001b[37;40mnode-pre-gyp\u001b[0m \u001b[0m\u001b[31;40mERR!\u001b[0m \u001b[0m\u001b[35mnot ok\u001b[0m \n",
      "\u001b[0mFailed to execute '/opt/conda/bin/node /opt/conda/lib/node_modules/npm/node_modules/node-gyp/bin/node-gyp.js configure --fallback-to-build --module=/codebuild/output/src664660047/src/github.com/OpenSecuritySummit/jp-tests/notebooks/Juice-Shop/juice-shop/node_modules/sqlite3/lib/binding/node-v67-linux-x64/node_sqlite3.node --module_name=node_sqlite3 --module_path=/codebuild/output/src664660047/src/github.com/OpenSecuritySummit/jp-tests/notebooks/Juice-Shop/juice-shop/node_modules/sqlite3/lib/binding/node-v67-linux-x64 --napi_version=4 --node_abi_napi=napi --napi_build_version=0 --node_napi_label=node-v67' (1)\n"
     ]
    },
    {
     "name": "stdout",
     "output_type": "stream",
     "text": [
      "\u001b[K\u001b[?25h\u001b[37;40mnpm\u001b[0m \u001b[0m\u001b[30;43mWARN\u001b[0m\u001b[35m\u001b[0m acorn-jsx@5.0.1 requires a peer of acorn@^6.0.0 but none is installed. You must install peer dependencies yourself.\n",
      "\u001b[0m\u001b[37;40mnpm\u001b[0m \u001b[0m\u001b[30;43mWARN\u001b[0m\u001b[35m\u001b[0m sinon-chai@3.2.0 requires a peer of sinon@>=4.0.0 <7.0.0 but none is installed. You must install peer dependencies yourself.\n",
      "\u001b[0m\u001b[37;40mnpm\u001b[0m \u001b[0m\u001b[30;43mWARN\u001b[0m \u001b[0m\u001b[35moptional\u001b[0m SKIPPING OPTIONAL DEPENDENCY: fsevents@1.2.9 (node_modules/fsevents):\n",
      "\u001b[0m\u001b[37;40mnpm\u001b[0m \u001b[0m\u001b[30;43mWARN\u001b[0m \u001b[0m\u001b[35mnotsup\u001b[0m SKIPPING OPTIONAL DEPENDENCY: Unsupported platform for fsevents@1.2.9: wanted {\"os\":\"darwin\",\"arch\":\"any\"} (current: {\"os\":\"linux\",\"arch\":\"x64\"})\n",
      "\u001b[0m\u001b[37;40mnpm\u001b[0m \u001b[0m\u001b[30;43mWARN\u001b[0m \u001b[0m\u001b[35moptional\u001b[0m SKIPPING OPTIONAL DEPENDENCY: iltorb@1.3.10 (node_modules/iltorb):\n",
      "\u001b[0m\u001b[37;40mnpm\u001b[0m \u001b[0m\u001b[30;43mWARN\u001b[0m \u001b[0m\u001b[35moptional\u001b[0m SKIPPING OPTIONAL DEPENDENCY: iltorb@1.3.10 install: `detect-libc prebuild-install || node-gyp rebuild`\n",
      "\u001b[0m\u001b[37;40mnpm\u001b[0m \u001b[0m\u001b[30;43mWARN\u001b[0m \u001b[0m\u001b[35moptional\u001b[0m SKIPPING OPTIONAL DEPENDENCY: Exit status 1\n",
      "\u001b[0m\n",
      "\u001b[37;40mnpm\u001b[0m \u001b[0m\u001b[31;40mERR!\u001b[0m \u001b[0m\u001b[35mcode\u001b[0m ELIFECYCLE\n",
      "\u001b[0m\u001b[37;40mnpm\u001b[0m \u001b[0m\u001b[31;40mERR!\u001b[0m \u001b[0m\u001b[35merrno\u001b[0m 1\n",
      "\u001b[0m\u001b[37;40mnpm\u001b[0m \u001b[0m\u001b[31;40mERR!\u001b[0m\u001b[35m\u001b[0m sqlite3@4.0.8 install: `node-pre-gyp install --fallback-to-build`\n",
      "\u001b[0m\u001b[37;40mnpm\u001b[0m \u001b[0m\u001b[31;40mERR!\u001b[0m\u001b[35m\u001b[0m Exit status 1\n",
      "\u001b[0m\u001b[37;40mnpm\u001b[0m \u001b[0m\u001b[31;40mERR!\u001b[0m\u001b[35m\u001b[0m \n",
      "\u001b[0m\u001b[37;40mnpm\u001b[0m \u001b[0m\u001b[31;40mERR!\u001b[0m\u001b[35m\u001b[0m Failed at the sqlite3@4.0.8 install script.\n",
      "\u001b[0m\u001b[37;40mnpm\u001b[0m \u001b[0m\u001b[31;40mERR!\u001b[0m\u001b[35m\u001b[0m This is probably not a problem with npm. There is likely additional logging output above.\n",
      "\u001b[0m\n",
      "\u001b[37;40mnpm\u001b[0m \u001b[0m\u001b[31;40mERR!\u001b[0m\u001b[35m\u001b[0m A complete log of this run can be found in:\n",
      "\u001b[0m\u001b[37;40mnpm\u001b[0m \u001b[0m\u001b[31;40mERR!\u001b[0m\u001b[35m\u001b[0m     /home/jovyan/.npm/_logs/2019-06-07T11_25_18_466Z-debug.log\n",
      "\u001b[0m\n",
      "Usage: npm <command>\n",
      "\n",
      "where <command> is one of:\n",
      "    access, adduser, audit, bin, bugs, c, cache, ci, cit,\n",
      "    clean-install, clean-install-test, completion, config,\n",
      "    create, ddp, dedupe, deprecate, dist-tag, docs, doctor,\n",
      "    edit, explore, get, help, help-search, hook, i, init,\n",
      "    install, install-ci-test, install-test, it, link, list, ln,\n",
      "    login, logout, ls, org, outdated, owner, pack, ping, prefix,\n",
      "    profile, prune, publish, rb, rebuild, repo, restart, root,\n",
      "    run, run-script, s, se, search, set, shrinkwrap, star,\n",
      "    stars, start, stop, t, team, test, token, tst, un,\n",
      "    uninstall, unpublish, unstar, up, update, v, version, view,\n",
      "    whoami\n",
      "\n",
      "npm <command> -h  quick help on <command>\n",
      "npm -l            display full usage info\n",
      "npm help <term>   search for help on <term>\n",
      "npm help npm      involved overview\n",
      "\n",
      "Specify configs in the ini-formatted file:\n",
      "    /home/jovyan/.npmrc\n",
      "or on the command line via: npm <command> --key value\n",
      "Config info can be viewed via: npm help config\n",
      "\n",
      "npm@6.7.0 /opt/conda/lib/node_modules/npm\n",
      "\n",
      "Did you mean one of these?\n",
      "    install\n",
      "    uninstall\n"
     ]
    }
   ],
   "source": [
    "!cd juice-shop ; npm install ; npm install sqlite3 ; npm postinstall"
   ]
  },
  {
   "cell_type": "markdown",
   "metadata": {},
   "source": [
    "### 4th) launch Juice Shop"
   ]
  },
  {
   "cell_type": "code",
   "execution_count": null,
   "metadata": {},
   "outputs": [],
   "source": [
    "!npm start"
   ]
  }
 ],
 "metadata": {
  "kernelspec": {
   "display_name": "Python 3",
   "language": "python",
   "name": "python3"
  },
  "language_info": {
   "codemirror_mode": {
    "name": "ipython",
    "version": 3
   },
   "file_extension": ".py",
   "mimetype": "text/x-python",
   "name": "python",
   "nbconvert_exporter": "python",
   "pygments_lexer": "ipython3",
   "version": "3.7.3"
  }
 },
 "nbformat": 4,
 "nbformat_minor": 2
}
