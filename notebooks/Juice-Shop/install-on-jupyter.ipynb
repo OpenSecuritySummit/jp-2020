{
 "cells": [
  {
   "cell_type": "markdown",
   "metadata": {},
   "source": [
    "## Install on Jupyter\n",
    "\n",
    "Main repo: https://github.com/bkimminich/juice-shop"
   ]
  },
  {
   "cell_type": "markdown",
   "metadata": {},
   "source": [
    "### 1st) step clone the code as a submodule"
   ]
  },
  {
   "cell_type": "code",
   "execution_count": 1,
   "metadata": {},
   "outputs": [
    {
     "name": "stdout",
     "output_type": "stream",
     "text": [
      "'notebooks/Juice-Shop/juice-shop' already exists in the index\r\n"
     ]
    }
   ],
   "source": [
    "!git submodule add https://github.com/bkimminich/juice-shop.git"
   ]
  },
  {
   "cell_type": "markdown",
   "metadata": {},
   "source": [
    "### 2nd) install node version manager and switch to node.js 10.x"
   ]
  },
  {
   "cell_type": "code",
   "execution_count": 2,
   "metadata": {},
   "outputs": [
    {
     "name": "stdout",
     "output_type": "stream",
     "text": [
      "=> Downloading nvm from git to '/home/jovyan/.nvm'\n",
      "=> Cloning into '/home/jovyan/.nvm'...\n",
      "remote: Enumerating objects: 278, done.\u001b[K\n",
      "remote: Counting objects: 100% (278/278), done.\u001b[K\n",
      "remote: Compressing objects: 100% (249/249), done.\u001b[K\n",
      "remote: Total 278 (delta 33), reused 88 (delta 16), pack-reused 0\u001b[K\n",
      "Receiving objects: 100% (278/278), 142.36 KiB | 771.00 KiB/s, done.\n",
      "Resolving deltas: 100% (33/33), done.\n",
      "=> Compressing and cleaning up git repository\n",
      "\n",
      "=> Appending nvm source string to /home/jovyan/.bashrc\n",
      "=> Appending bash_completion source string to /home/jovyan/.bashrc\n",
      "=> You currently have modules installed globally with `npm`. These will no\n",
      "=> longer be linked to the active version of Node when you install a new node\n",
      "=> with `nvm`; and they may (depending on how you construct your `$PATH`)\n",
      "=> override the binaries of modules installed with `nvm`:\n",
      "\n",
      "/opt/conda/lib\n",
      "├── configurable-http-proxy@1.3.0\n",
      "=> If you wish to uninstall them at a later point (or re-install them under your\n",
      "=> `nvm` Nodes), you can remove them from the system Node as follows:\n",
      "\n",
      "     $ nvm use system\n",
      "     $ npm uninstall -g a_module\n",
      "\n",
      "=> Close and reopen your terminal to start using nvm or run the following to use it now:\n",
      "\n",
      "export NVM_DIR=\"$HOME/.nvm\"\n",
      "[ -s \"$NVM_DIR/nvm.sh\" ] && \\. \"$NVM_DIR/nvm.sh\"  # This loads nvm\n",
      "[ -s \"$NVM_DIR/bash_completion\" ] && \\. \"$NVM_DIR/bash_completion\"  # This loads nvm bash_completion\n"
     ]
    }
   ],
   "source": [
    "!wget -qO- https://raw.githubusercontent.com/nvm-sh/nvm/v0.34.0/install.sh | bash"
   ]
  },
  {
   "cell_type": "code",
   "execution_count": 3,
   "metadata": {},
   "outputs": [],
   "source": [
    "!export NVM_DIR=\"$HOME/.nvm\"\n",
    "![ -s \"$NVM_DIR/nvm.sh\" ] && \\. \"$NVM_DIR/nvm.sh\"  # This loads nvm\n",
    "![ -s \"$NVM_DIR/bash_completion\" ] && \\. \"$NVM_DIR/bash_completion\"  # This loads nvm bash_completion"
   ]
  },
  {
   "cell_type": "code",
   "execution_count": null,
   "metadata": {},
   "outputs": [
    {
     "name": "stdout",
     "output_type": "stream",
     "text": [
      "/bin/sh: 1: nvm: not found\r\n",
      "/bin/sh: 1: nvm: not found\r\n",
      "/bin/sh: 1: nvm: not found\r\n"
     ]
    }
   ],
   "source": [
    "!nvm install 10 ; nvm alias default 10 ; nvm use 10"
   ]
  },
  {
   "cell_type": "markdown",
   "metadata": {},
   "source": [
    "### 3rd) install Juice Shop"
   ]
  },
  {
   "cell_type": "code",
   "execution_count": null,
   "metadata": {},
   "outputs": [
    {
     "name": "stdout",
     "output_type": "stream",
     "text": [
      "app.js\t\t    docs\t      LICENSE\t\t  server.js\r\n",
      "app.json\t    encryptionkeys    models\t\t  swagger.yml\r\n",
      "CODE_OF_CONDUCT.md  frontend\t      package.json\t  test\r\n",
      "config\t\t    ftp\t\t      protractor.conf.js  uploads\r\n",
      "CONTRIBUTING.md     greenkeeper.json  README.md\t\t  vagrant\r\n",
      "crowdin.yaml\t    Gruntfile.js      REFERENCES.md\t  views\r\n",
      "ctf.key\t\t    HALL_OF_FAME.md   routes\r\n",
      "data\t\t    hooks\t      screenshots\r\n",
      "Dockerfile\t    lib\t\t      SECURITY.md\r\n"
     ]
    }
   ],
   "source": [
    "!ls juice-shop"
   ]
  },
  {
   "cell_type": "code",
   "execution_count": null,
   "metadata": {},
   "outputs": [
    {
     "name": "stdout",
     "output_type": "stream",
     "text": [
      "\u001b[K\u001b[?25h\u001b[37;40mnpm\u001b[0m \u001b[0m\u001b[30;43mWARN\u001b[0m \u001b[0m\u001b[35mdeprecated\u001b[0m codeclimate-test-reporter@0.5.1: codeclimate-test-reporter has been deprecated in favor of our new unified test-reporter. Please visit https://docs.codeclimate.com/docs/configuring-test-coverage for details on setting up the new test-reporter.\n",
      "\u001b[K\u001b[?25h\u001b[37;40mnpm\u001b[0m \u001b[0m\u001b[30;43mWARN\u001b[0m \u001b[0m\u001b[35mdeprecated\u001b[0m jade@1.11.0: Jade has been renamed to pug, please install the latest version of pug instead of jade\n",
      "\u001b[K\u001b[?25h\u001b[37;40mnpm\u001b[0m \u001b[0m\u001b[30;43mWARN\u001b[0m \u001b[0m\u001b[35mdeprecated\u001b[0m joi@13.7.0: This version has been deprecated in accordance with the hapi support policy (hapi.im/support). Please upgrade to the latest version to get the best features, bug fixes, and security patches. If you are unable to upgrade at this time, paid support is available for older versions (hapi.im/commercial).\n",
      "\u001b[K\u001b[?25h\u001b[37;40mnpm\u001b[0m \u001b[0m\u001b[30;43mWARN\u001b[0m \u001b[0m\u001b[35mdeprecated\u001b[0m jsonwebtoken@0.1.0: Critical vulnerability fix in v5.0.0. See https://auth0.com/blog/2015/03/31/critical-vulnerabilities-in-json-web-token-libraries/\n",
      "\u001b[K\u001b[?25h7m\u001b[90m.................\u001b[0m] / fetchMetadata: \u001b[7msill\u001b[0m \u001b[35mpacote\u001b[0m version manifest for helmet-c\u001b[0m\u001b[K: Criti\u001b[0m\u001b[K\u001b[37;40mnpm\u001b[0m \u001b[0m\u001b[30;43mWARN\u001b[0m \u001b[0m\u001b[35mdeprecated\u001b[0m constantinople@3.0.2: Please update to at least constantinople 3.1.1\n",
      "\u001b[K\u001b[?25h\u001b[37;40mnpm\u001b[0m \u001b[0m\u001b[30;43mWARN\u001b[0m \u001b[0m\u001b[35mdeprecated\u001b[0m transformers@2.1.0: Deprecated, use jstransformer.0.2: Ple\u001b[0m\u001b[K\n",
      "\u001b[K\u001b[?25h\u001b[37;40mnpm\u001b[0m \u001b[0m\u001b[30;43mWARN\u001b[0m \u001b[0m\u001b[35mdeprecated\u001b[0m hoek@5.0.4: This version has been deprecated in accordance with the hapi support policy (hapi.im/support). Please upgrade to the latest version to get the best features, bug fixes, and security patches. If you are unable to upgrade at this time, paid support is available for older versions (hapi.im/commercial).\n",
      "\u001b[0m\u001b[37;40mnpm\u001b[0m \u001b[0m\u001b[30;43mWARN\u001b[0m \u001b[0m\u001b[35mdeprecated\u001b[0m topo@3.0.3: This module has moved and is now available at @hapi/topo. Please update your dependencies as this version is no longer maintained an may contain bugs and security issues.\n",
      "\u001b[K\u001b[?25h\u001b[37;40mnpm\u001b[0m \u001b[0m\u001b[30;43mWARN\u001b[0m \u001b[0m\u001b[35mdeprecated\u001b[0m jws@0.2.6: Security update: Versions below 3.0.0 are deprecated.\n",
      "\u001b[K\u001b[?25h\u001b[37;40mnpm\u001b[0m \u001b[0m\u001b[30;43mWARN\u001b[0m \u001b[0m\u001b[35mdeprecated\u001b[0m hoek@6.1.3: This module has moved and is now available at @hapi/hoek. Please update your dependencies as this version is no longer maintained an may contain bugs and security issues.\n",
      "\u001b[K\u001b[?25h\u001b[37;40mnpm\u001b[0m \u001b[0m\u001b[30;43mWARN\u001b[0m \u001b[0m\u001b[35mdeprecated\u001b[0m kleur@2.0.2: Please upgrade to kleur@3 or migrate to 'ansi-colors' if you prefer the old syntax. Visit <https://github.com/lukeed/kleur/releases/tag/v3.0.0\\> for migration path(s).\n",
      "\u001b[K\u001b[?25h\u001b[37;40mnpm\u001b[0m \u001b[0m\u001b[30;43mWARN\u001b[0m \u001b[0m\u001b[35mdeprecated\u001b[0m left-pad@1.3.0: use String.prototype.padStart()m\u001b[Km\u001b[K[0m\u001b[K\n",
      "\u001b[K\u001b[?25h\u001b[37;40mnpm\u001b[0m \u001b[0m\u001b[30;43mWARN\u001b[0m \u001b[0m\u001b[35mdeprecated\u001b[0m circular-json@0.3.3: CircularJSON is in maintenance only, flatted is its successor.\n",
      "[\u001b[7m         \u001b[27m\u001b[90m.........\u001b[0m] \\ extract:normalize-path: \u001b[7msill\u001b[0m \u001b[35mextract\u001b[0m ansi-regex@2.1.1\u001b[0m\u001b[K\u001b[Km\u001b[K[0m\u001b[K\r"
     ]
    }
   ],
   "source": [
    "!cd juice-shop ; npm install ; npm install sqlite3 ; npm postinstall"
   ]
  },
  {
   "cell_type": "markdown",
   "metadata": {},
   "source": [
    "### 4th) launch Juice Shop"
   ]
  },
  {
   "cell_type": "code",
   "execution_count": null,
   "metadata": {},
   "outputs": [],
   "source": [
    "!npm start"
   ]
  }
 ],
 "metadata": {
  "kernelspec": {
   "display_name": "Python 3",
   "language": "python",
   "name": "python3"
  },
  "language_info": {
   "codemirror_mode": {
    "name": "ipython",
    "version": 3
   },
   "file_extension": ".py",
   "mimetype": "text/x-python",
   "name": "python",
   "nbconvert_exporter": "python",
   "pygments_lexer": "ipython3",
   "version": "3.7.3"
  }
 },
 "nbformat": 4,
 "nbformat_minor": 2
}
