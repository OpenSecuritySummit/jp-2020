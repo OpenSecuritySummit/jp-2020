{
 "cells": [
  {
   "cell_type": "markdown",
   "metadata": {},
   "source": [
    "## Install on Jupyter\n",
    "\n",
    "Main repo: https://github.com/bkimminich/juice-shop"
   ]
  },
  {
   "cell_type": "markdown",
   "metadata": {},
   "source": [
    "### 1st) step clone the code as a submodule"
   ]
  },
  {
   "cell_type": "code",
   "execution_count": 1,
   "metadata": {},
   "outputs": [
    {
     "name": "stdout",
     "output_type": "stream",
     "text": [
      "Cloning into '/codebuild/output/src664660047/src/github.com/OpenSecuritySummit/jp-tests/notebooks/Juice-Shop/juice-shop'...\n",
      "remote: Enumerating objects: 191, done.\u001b[K\n",
      "remote: Counting objects: 100% (191/191), done.\u001b[K\n",
      "remote: Compressing objects: 100% (41/41), done.\u001b[K\n",
      "remote: Total 51202 (delta 162), reused 164 (delta 150), pack-reused 51011\u001b[K\n",
      "Receiving objects: 100% (51202/51202), 104.94 MiB | 32.91 MiB/s, done.\n",
      "Resolving deltas: 100% (36854/36854), done.\n"
     ]
    }
   ],
   "source": [
    "!git submodule add https://github.com/bkimminich/juice-shop.git"
   ]
  },
  {
   "cell_type": "code",
   "execution_count": null,
   "metadata": {},
   "outputs": [],
   "source": [
    "wget -qO- https://raw.githubusercontent.com/nvm-sh/nvm/v0.34.0/install.sh | bash"
   ]
  },
  {
   "cell_type": "code",
   "execution_count": 3,
   "metadata": {},
   "outputs": [
    {
     "name": "stdout",
     "output_type": "stream",
     "text": [
      "app.js\t\t    docs\t      LICENSE\t\t  server.js\n",
      "app.json\t    encryptionkeys    models\t\t  swagger.yml\n",
      "CODE_OF_CONDUCT.md  frontend\t      package.json\t  test\n",
      "config\t\t    ftp\t\t      protractor.conf.js  uploads\n",
      "CONTRIBUTING.md     greenkeeper.json  README.md\t\t  vagrant\n",
      "crowdin.yaml\t    Gruntfile.js      REFERENCES.md\t  views\n",
      "ctf.key\t\t    HALL_OF_FAME.md   routes\n",
      "data\t\t    hooks\t      screenshots\n",
      "Dockerfile\t    lib\t\t      SECURITY.md\n"
     ]
    }
   ],
   "source": [
    "!ls juice-shop"
   ]
  },
  {
   "cell_type": "code",
   "execution_count": 6,
   "metadata": {},
   "outputs": [
    {
     "name": "stdout",
     "output_type": "stream",
     "text": [
      "\u001b[K\u001b[?25h        \u001b[27m\u001b[90m......\u001b[0m] \\ refresh-package-json:github-from-package: \u001b[7msill\u001b[0m \u001b[35mrefresh-p\u001b[0m\u001b[Km\u001b[Km\u001b[K\n",
      "> iltorb@1.3.10 install /codebuild/output/src664660047/src/github.com/OpenSecuritySummit/jp-tests/notebooks/Juice-Shop/juice-shop/node_modules/iltorb\n",
      "> detect-libc prebuild-install || node-gyp rebuild\n",
      "\n",
      "\u001b[37;40mprebuild-install\u001b[0m \u001b[0m\u001b[30;43mWARN\u001b[0m \u001b[0m\u001b[35minstall\u001b[0m No prebuilt binaries found (target=11.14.0 runtime=node arch=x64 platform=linux)\n",
      "\u001b[0m\u001b[37;40mgyp\u001b[0m \u001b[0m\u001b[31;40mERR!\u001b[0m \u001b[0m\u001b[35mconfigure error\u001b[0m \n",
      "\u001b[0m\u001b[37;40mgyp\u001b[0m \u001b[0m\u001b[31;40mERR!\u001b[0m \u001b[0m\u001b[35mstack\u001b[0m Error: Command failed: /opt/conda/bin/python -c import sys; print \"%s.%s.%s\" % sys.version_info[:3];\n",
      "\u001b[0m\u001b[37;40mgyp\u001b[0m \u001b[0m\u001b[31;40mERR!\u001b[0m \u001b[0m\u001b[35mstack\u001b[0m   File \"<string>\", line 1\n",
      "\u001b[0m\u001b[37;40mgyp\u001b[0m \u001b[0m\u001b[31;40mERR!\u001b[0m \u001b[0m\u001b[35mstack\u001b[0m     import sys; print \"%s.%s.%s\" % sys.version_info[:3];\n",
      "\u001b[0m\u001b[37;40mgyp\u001b[0m \u001b[0m\u001b[31;40mERR!\u001b[0m \u001b[0m\u001b[35mstack\u001b[0m                                ^\n",
      "\u001b[0m\u001b[37;40mgyp\u001b[0m \u001b[0m\u001b[31;40mERR!\u001b[0m \u001b[0m\u001b[35mstack\u001b[0m SyntaxError: invalid syntax\n",
      "\u001b[0m\u001b[37;40mgyp\u001b[0m \u001b[0m\u001b[31;40mERR!\u001b[0m \u001b[0m\u001b[35mstack\u001b[0m \n",
      "\u001b[0m\u001b[37;40mgyp\u001b[0m \u001b[0m\u001b[31;40mERR!\u001b[0m \u001b[0m\u001b[35mstack\u001b[0m     at ChildProcess.exithandler (child_process.js:299:12)\n",
      "\u001b[0m\u001b[37;40mgyp\u001b[0m \u001b[0m\u001b[31;40mERR!\u001b[0m \u001b[0m\u001b[35mstack\u001b[0m     at ChildProcess.emit (events.js:193:13)\n",
      "\u001b[0m\u001b[37;40mgyp\u001b[0m \u001b[0m\u001b[31;40mERR!\u001b[0m \u001b[0m\u001b[35mstack\u001b[0m     at maybeClose (internal/child_process.js:999:16)\n",
      "\u001b[0m\u001b[37;40mgyp\u001b[0m \u001b[0m\u001b[31;40mERR!\u001b[0m \u001b[0m\u001b[35mstack\u001b[0m     at Process.ChildProcess._handle.onexit (internal/child_process.js:266:5)\n",
      "\u001b[0m\u001b[37;40mgyp\u001b[0m \u001b[0m\u001b[31;40mERR!\u001b[0m \u001b[0m\u001b[35mSystem\u001b[0m Linux 4.14.114-83.126.amzn1.x86_64\n",
      "\u001b[0m\u001b[37;40mgyp\u001b[0m \u001b[0m\u001b[31;40mERR!\u001b[0m \u001b[0m\u001b[35mcommand\u001b[0m \"/opt/conda/bin/node\" \"/opt/conda/lib/node_modules/npm/node_modules/node-gyp/bin/node-gyp.js\" \"rebuild\"\n",
      "\u001b[0m\u001b[37;40mgyp\u001b[0m \u001b[0m\u001b[31;40mERR!\u001b[0m \u001b[0m\u001b[35mcwd\u001b[0m /codebuild/output/src664660047/src/github.com/OpenSecuritySummit/jp-tests/notebooks/Juice-Shop/juice-shop/node_modules/iltorb\n",
      "\u001b[0m\u001b[37;40mgyp\u001b[0m \u001b[0m\u001b[31;40mERR!\u001b[0m \u001b[0m\u001b[35mnode -v\u001b[0m v11.14.0\n",
      "\u001b[0m\u001b[37;40mgyp\u001b[0m \u001b[0m\u001b[31;40mERR!\u001b[0m \u001b[0m\u001b[35mnode-gyp -v\u001b[0m v3.8.0\n",
      "\u001b[0m\u001b[37;40mgyp\u001b[0m \u001b[0m\u001b[31;40mERR!\u001b[0m \u001b[0m\u001b[35mnot ok\u001b[0m \n",
      "\u001b[0m\n",
      "> libxmljs2@0.21.3 install /codebuild/output/src664660047/src/github.com/OpenSecuritySummit/jp-tests/notebooks/Juice-Shop/juice-shop/node_modules/libxmljs2\n",
      "> node-pre-gyp install --fallback-to-build --loglevel http\n",
      "\n",
      "\u001b[37;40mnode-pre-gyp\u001b[0m \u001b[0m\u001b[30;43mWARN\u001b[0m \u001b[0m\u001b[35mUsing request for node-pre-gyp https download\u001b[0m \n",
      "\u001b[0m\u001b[37;40mnode-pre-gyp\u001b[0m \u001b[0m\u001b[30;43mWARN\u001b[0m \u001b[0m\u001b[35mPre-built binaries not installable for libxmljs2@0.21.3 and node@11.14.0 (node-v67 ABI, glibc) (falling back to source compile with node-gyp)\u001b[0m \n",
      "\u001b[0m\u001b[37;40mnode-pre-gyp\u001b[0m \u001b[0m\u001b[30;43mWARN\u001b[0m \u001b[0m\u001b[35mHit error EACCES: permission denied, mkdir '/codebuild/output/src664660047/src/github.com/OpenSecuritySummit/jp-tests/notebooks/Juice-Shop/juice-shop/node_modules/libxmljs2/build'\u001b[0m \n",
      "\u001b[0m\u001b[37;40mgyp\u001b[0m \u001b[0m\u001b[31;40mERR!\u001b[0m \u001b[0m\u001b[35mconfigure error\u001b[0m \n",
      "\u001b[0m\u001b[37;40mgyp\u001b[0m \u001b[0m\u001b[31;40mERR!\u001b[0m \u001b[0m\u001b[35mstack\u001b[0m Error: Command failed: /opt/conda/bin/python -c import sys; print \"%s.%s.%s\" % sys.version_info[:3];\n",
      "\u001b[0m\u001b[37;40mgyp\u001b[0m \u001b[0m\u001b[31;40mERR!\u001b[0m \u001b[0m\u001b[35mstack\u001b[0m   File \"<string>\", line 1\n",
      "\u001b[0m\u001b[37;40mgyp\u001b[0m \u001b[0m\u001b[31;40mERR!\u001b[0m \u001b[0m\u001b[35mstack\u001b[0m     import sys; print \"%s.%s.%s\" % sys.version_info[:3];\n",
      "\u001b[0m\u001b[37;40mgyp\u001b[0m \u001b[0m\u001b[31;40mERR!\u001b[0m \u001b[0m\u001b[35mstack\u001b[0m                                ^\n",
      "\u001b[0m\u001b[37;40mgyp\u001b[0m \u001b[0m\u001b[31;40mERR!\u001b[0m \u001b[0m\u001b[35mstack\u001b[0m SyntaxError: invalid syntax\n",
      "\u001b[0m\u001b[37;40mgyp\u001b[0m \u001b[0m\u001b[31;40mERR!\u001b[0m \u001b[0m\u001b[35mstack\u001b[0m \n",
      "\u001b[0m\u001b[37;40mgyp\u001b[0m \u001b[0m\u001b[31;40mERR!\u001b[0m \u001b[0m\u001b[35mstack\u001b[0m     at ChildProcess.exithandler (child_process.js:299:12)\n",
      "\u001b[0m\u001b[37;40mgyp\u001b[0m \u001b[0m\u001b[31;40mERR!\u001b[0m \u001b[0m\u001b[35mstack\u001b[0m     at ChildProcess.emit (events.js:193:13)\n",
      "\u001b[0m\u001b[37;40mgyp\u001b[0m \u001b[0m\u001b[31;40mERR!\u001b[0m \u001b[0m\u001b[35mstack\u001b[0m     at maybeClose (internal/child_process.js:999:16)\n",
      "\u001b[0m\u001b[37;40mgyp\u001b[0m \u001b[0m\u001b[31;40mERR!\u001b[0m \u001b[0m\u001b[35mstack\u001b[0m     at Process.ChildProcess._handle.onexit (internal/child_process.js:266:5)\n",
      "\u001b[0m\u001b[37;40mgyp\u001b[0m \u001b[0m\u001b[31;40mERR!\u001b[0m \u001b[0m\u001b[35mSystem\u001b[0m Linux 4.14.114-83.126.amzn1.x86_64\n",
      "\u001b[0m\u001b[37;40mgyp\u001b[0m \u001b[0m\u001b[31;40mERR!\u001b[0m \u001b[0m\u001b[35mcommand\u001b[0m \"/opt/conda/bin/node\" \"/opt/conda/lib/node_modules/npm/node_modules/node-gyp/bin/node-gyp.js\" \"configure\" \"--fallback-to-build\" \"--loglevel=http\" \"--module=/codebuild/output/src664660047/src/github.com/OpenSecuritySummit/jp-tests/notebooks/Juice-Shop/juice-shop/node_modules/libxmljs2/build/Release/xmljs.node\" \"--module_name=xmljs\" \"--module_path=/codebuild/output/src664660047/src/github.com/OpenSecuritySummit/jp-tests/notebooks/Juice-Shop/juice-shop/node_modules/libxmljs2/build/Release\" \"--napi_version=4\" \"--node_abi_napi=napi\" \"--napi_build_version=0\" \"--node_napi_label=node-v67\"\n",
      "\u001b[0m\u001b[37;40mgyp\u001b[0m \u001b[0m\u001b[31;40mERR!\u001b[0m \u001b[0m\u001b[35mcwd\u001b[0m /codebuild/output/src664660047/src/github.com/OpenSecuritySummit/jp-tests/notebooks/Juice-Shop/juice-shop/node_modules/libxmljs2\n",
      "\u001b[0m\u001b[37;40mgyp\u001b[0m \u001b[0m\u001b[31;40mERR!\u001b[0m \u001b[0m\u001b[35mnode -v\u001b[0m v11.14.0\n",
      "\u001b[0m\u001b[37;40mgyp\u001b[0m \u001b[0m\u001b[31;40mERR!\u001b[0m \u001b[0m\u001b[35mnode-gyp -v\u001b[0m v3.8.0\n",
      "\u001b[0m\u001b[37;40mgyp\u001b[0m \u001b[0m\u001b[31;40mERR!\u001b[0m \u001b[0m\u001b[35mnot ok\u001b[0m \n",
      "\u001b[0m\u001b[37;40mnode-pre-gyp\u001b[0m \u001b[0m\u001b[31;40mERR!\u001b[0m \u001b[0m\u001b[35mbuild error\u001b[0m \n",
      "\u001b[0m\u001b[37;40mnode-pre-gyp\u001b[0m \u001b[0m\u001b[31;40mERR!\u001b[0m \u001b[0m\u001b[35mstack\u001b[0m Error: Failed to execute '/opt/conda/bin/node /opt/conda/lib/node_modules/npm/node_modules/node-gyp/bin/node-gyp.js configure --fallback-to-build --loglevel=http --module=/codebuild/output/src664660047/src/github.com/OpenSecuritySummit/jp-tests/notebooks/Juice-Shop/juice-shop/node_modules/libxmljs2/build/Release/xmljs.node --module_name=xmljs --module_path=/codebuild/output/src664660047/src/github.com/OpenSecuritySummit/jp-tests/notebooks/Juice-Shop/juice-shop/node_modules/libxmljs2/build/Release --napi_version=4 --node_abi_napi=napi --napi_build_version=0 --node_napi_label=node-v67' (1)\n",
      "\u001b[0m\u001b[37;40mnode-pre-gyp\u001b[0m \u001b[0m\u001b[31;40mERR!\u001b[0m \u001b[0m\u001b[35mstack\u001b[0m     at ChildProcess.<anonymous> (/codebuild/output/src664660047/src/github.com/OpenSecuritySummit/jp-tests/notebooks/Juice-Shop/juice-shop/node_modules/node-pre-gyp/lib/util/compile.js:83:29)\n",
      "\u001b[0m\u001b[37;40mnode-pre-gyp\u001b[0m \u001b[0m\u001b[31;40mERR!\u001b[0m \u001b[0m\u001b[35mstack\u001b[0m     at ChildProcess.emit (events.js:193:13)\n",
      "\u001b[0m\u001b[37;40mnode-pre-gyp\u001b[0m \u001b[0m\u001b[31;40mERR!\u001b[0m \u001b[0m\u001b[35mstack\u001b[0m     at maybeClose (internal/child_process.js:999:16)\n",
      "\u001b[0m\u001b[37;40mnode-pre-gyp\u001b[0m \u001b[0m\u001b[31;40mERR!\u001b[0m \u001b[0m\u001b[35mstack\u001b[0m     at Process.ChildProcess._handle.onexit (internal/child_process.js:266:5)\n",
      "\u001b[0m\u001b[37;40mnode-pre-gyp\u001b[0m \u001b[0m\u001b[31;40mERR!\u001b[0m \u001b[0m\u001b[35mSystem\u001b[0m Linux 4.14.114-83.126.amzn1.x86_64\n",
      "\u001b[0m\u001b[37;40mnode-pre-gyp\u001b[0m \u001b[0m\u001b[31;40mERR!\u001b[0m \u001b[0m\u001b[35mcommand\u001b[0m \"/opt/conda/bin/node\" \"/codebuild/output/src664660047/src/github.com/OpenSecuritySummit/jp-tests/notebooks/Juice-Shop/juice-shop/node_modules/.bin/node-pre-gyp\" \"install\" \"--fallback-to-build\" \"--loglevel\" \"http\"\n",
      "\u001b[0m\u001b[37;40mnode-pre-gyp\u001b[0m \u001b[0m\u001b[31;40mERR!\u001b[0m \u001b[0m\u001b[35mcwd\u001b[0m /codebuild/output/src664660047/src/github.com/OpenSecuritySummit/jp-tests/notebooks/Juice-Shop/juice-shop/node_modules/libxmljs2\n",
      "\u001b[0m\u001b[37;40mnode-pre-gyp\u001b[0m \u001b[0m\u001b[31;40mERR!\u001b[0m \u001b[0m\u001b[35mnode -v\u001b[0m v11.14.0\n",
      "\u001b[0m\u001b[37;40mnode-pre-gyp\u001b[0m \u001b[0m\u001b[31;40mERR!\u001b[0m \u001b[0m\u001b[35mnode-pre-gyp -v\u001b[0m v0.13.0\n",
      "\u001b[0m\u001b[37;40mnode-pre-gyp\u001b[0m \u001b[0m\u001b[31;40mERR!\u001b[0m \u001b[0m\u001b[35mnot ok\u001b[0m \n",
      "\u001b[0mFailed to execute '/opt/conda/bin/node /opt/conda/lib/node_modules/npm/node_modules/node-gyp/bin/node-gyp.js configure --fallback-to-build --loglevel=http --module=/codebuild/output/src664660047/src/github.com/OpenSecuritySummit/jp-tests/notebooks/Juice-Shop/juice-shop/node_modules/libxmljs2/build/Release/xmljs.node --module_name=xmljs --module_path=/codebuild/output/src664660047/src/github.com/OpenSecuritySummit/jp-tests/notebooks/Juice-Shop/juice-shop/node_modules/libxmljs2/build/Release --napi_version=4 --node_abi_napi=napi --napi_build_version=0 --node_napi_label=node-v67' (1)\n"
     ]
    },
    {
     "name": "stdout",
     "output_type": "stream",
     "text": [
      "\u001b[K\u001b[?25h\u001b[37;40mnpm\u001b[0m \u001b[0m\u001b[30;43mWARN\u001b[0m\u001b[35m\u001b[0m acorn-jsx@5.0.1 requires a peer of acorn@^6.0.0 but none is installed. You must install peer dependencies yourself.\n",
      "\u001b[0m\u001b[37;40mnpm\u001b[0m \u001b[0m\u001b[30;43mWARN\u001b[0m\u001b[35m\u001b[0m sinon-chai@3.2.0 requires a peer of sinon@>=4.0.0 <7.0.0 but none is installed. You must install peer dependencies yourself.\n",
      "\u001b[0m\u001b[37;40mnpm\u001b[0m \u001b[0m\u001b[30;43mWARN\u001b[0m \u001b[0m\u001b[35moptional\u001b[0m SKIPPING OPTIONAL DEPENDENCY: fsevents@1.2.9 (node_modules/fsevents):\n",
      "\u001b[0m\u001b[37;40mnpm\u001b[0m \u001b[0m\u001b[30;43mWARN\u001b[0m \u001b[0m\u001b[35mnotsup\u001b[0m SKIPPING OPTIONAL DEPENDENCY: Unsupported platform for fsevents@1.2.9: wanted {\"os\":\"darwin\",\"arch\":\"any\"} (current: {\"os\":\"linux\",\"arch\":\"x64\"})\n",
      "\u001b[0m\u001b[37;40mnpm\u001b[0m \u001b[0m\u001b[30;43mWARN\u001b[0m \u001b[0m\u001b[35moptional\u001b[0m SKIPPING OPTIONAL DEPENDENCY: iltorb@1.3.10 (node_modules/iltorb):\n",
      "\u001b[0m\u001b[37;40mnpm\u001b[0m \u001b[0m\u001b[30;43mWARN\u001b[0m \u001b[0m\u001b[35moptional\u001b[0m SKIPPING OPTIONAL DEPENDENCY: iltorb@1.3.10 install: `detect-libc prebuild-install || node-gyp rebuild`\n",
      "\u001b[0m\u001b[37;40mnpm\u001b[0m \u001b[0m\u001b[30;43mWARN\u001b[0m \u001b[0m\u001b[35moptional\u001b[0m SKIPPING OPTIONAL DEPENDENCY: Exit status 1\n",
      "\u001b[0m\n",
      "\u001b[37;40mnpm\u001b[0m \u001b[0m\u001b[31;40mERR!\u001b[0m \u001b[0m\u001b[35mcode\u001b[0m ELIFECYCLE\n",
      "\u001b[0m\u001b[37;40mnpm\u001b[0m \u001b[0m\u001b[31;40mERR!\u001b[0m \u001b[0m\u001b[35merrno\u001b[0m 1\n",
      "\u001b[0m\u001b[37;40mnpm\u001b[0m \u001b[0m\u001b[31;40mERR!\u001b[0m\u001b[35m\u001b[0m libxmljs2@0.21.3 install: `node-pre-gyp install --fallback-to-build --loglevel http`\n",
      "\u001b[0m\u001b[37;40mnpm\u001b[0m \u001b[0m\u001b[31;40mERR!\u001b[0m\u001b[35m\u001b[0m Exit status 1\n",
      "\u001b[0m\u001b[37;40mnpm\u001b[0m \u001b[0m\u001b[31;40mERR!\u001b[0m\u001b[35m\u001b[0m \n",
      "\u001b[0m\u001b[37;40mnpm\u001b[0m \u001b[0m\u001b[31;40mERR!\u001b[0m\u001b[35m\u001b[0m Failed at the libxmljs2@0.21.3 install script.\n",
      "\u001b[0m\u001b[37;40mnpm\u001b[0m \u001b[0m\u001b[31;40mERR!\u001b[0m\u001b[35m\u001b[0m This is probably not a problem with npm. There is likely additional logging output above.\n",
      "\u001b[0m\n",
      "\u001b[37;40mnpm\u001b[0m \u001b[0m\u001b[31;40mERR!\u001b[0m\u001b[35m\u001b[0m A complete log of this run can be found in:\n",
      "\u001b[0m\u001b[37;40mnpm\u001b[0m \u001b[0m\u001b[31;40mERR!\u001b[0m\u001b[35m\u001b[0m     /home/jovyan/.npm/_logs/2019-06-07T10_29_24_995Z-debug.log\n",
      "\u001b[0m"
     ]
    }
   ],
   "source": [
    "!cd juice-shop ; npm install"
   ]
  },
  {
   "cell_type": "code",
   "execution_count": null,
   "metadata": {},
   "outputs": [],
   "source": [
    "!node -version"
   ]
  }
 ],
 "metadata": {
  "kernelspec": {
   "display_name": "Python 3",
   "language": "python",
   "name": "python3"
  },
  "language_info": {
   "codemirror_mode": {
    "name": "ipython",
    "version": 3
   },
   "file_extension": ".py",
   "mimetype": "text/x-python",
   "name": "python",
   "nbconvert_exporter": "python",
   "pygments_lexer": "ipython3",
   "version": "3.7.3"
  }
 },
 "nbformat": 4,
 "nbformat_minor": 2
}
