{
 "cells": [
  {
   "cell_type": "markdown",
   "metadata": {},
   "source": [
    "## Install on Jupyter\n",
    "\n",
    "Main repo: https://github.com/bkimminich/juice-shop"
   ]
  },
  {
   "cell_type": "markdown",
   "metadata": {},
   "source": [
    "### 1st) step clone the code as a submodule"
   ]
  },
  {
   "cell_type": "code",
   "execution_count": 1,
   "metadata": {},
   "outputs": [
    {
     "name": "stdout",
     "output_type": "stream",
     "text": [
      "Cloning into '/codebuild/output/src664660047/src/github.com/OpenSecuritySummit/jp-tests/notebooks/Juice-Shop/juice-shop'...\n",
      "remote: Enumerating objects: 191, done.\u001b[K\n",
      "remote: Counting objects: 100% (191/191), done.\u001b[K\n",
      "remote: Compressing objects: 100% (41/41), done.\u001b[K\n",
      "remote: Total 51202 (delta 162), reused 164 (delta 150), pack-reused 51011\u001b[K\n",
      "Receiving objects: 100% (51202/51202), 104.94 MiB | 32.91 MiB/s, done.\n",
      "Resolving deltas: 100% (36854/36854), done.\n"
     ]
    }
   ],
   "source": [
    "!git submodule add https://github.com/bkimminich/juice-shop.git"
   ]
  },
  {
   "cell_type": "code",
   "execution_count": null,
   "metadata": {},
   "outputs": [],
   "source": []
  }
 ],
 "metadata": {
  "kernelspec": {
   "display_name": "Python 3",
   "language": "python",
   "name": "python3"
  },
  "language_info": {
   "codemirror_mode": {
    "name": "ipython",
    "version": 3
   },
   "file_extension": ".py",
   "mimetype": "text/x-python",
   "name": "python",
   "nbconvert_exporter": "python",
   "pygments_lexer": "ipython3",
   "version": "3.7.3"
  }
 },
 "nbformat": 4,
 "nbformat_minor": 2
}
