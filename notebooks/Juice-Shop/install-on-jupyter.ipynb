{
 "cells": [
  {
   "cell_type": "markdown",
   "metadata": {},
   "source": [
    "## Install on Jupyter\n",
    "\n",
    "Main repo: https://github.com/bkimminich/juice-shop"
   ]
  },
  {
   "cell_type": "markdown",
   "metadata": {},
   "source": [
    "### 1st) step clone the code as a submodule"
   ]
  },
  {
   "cell_type": "code",
   "execution_count": 1,
   "metadata": {},
   "outputs": [
    {
     "name": "stdout",
     "output_type": "stream",
     "text": [
      "'notebooks/Juice-Shop/juice-shop' already exists in the index\r\n"
     ]
    }
   ],
   "source": [
    "!git submodule add https://github.com/bkimminich/juice-shop.git"
   ]
  },
  {
   "cell_type": "markdown",
   "metadata": {},
   "source": [
    "### 2nd) install node version manager and switch to node.js 10.x"
   ]
  },
  {
   "cell_type": "code",
   "execution_count": 2,
   "metadata": {},
   "outputs": [
    {
     "name": "stdout",
     "output_type": "stream",
     "text": [
      "=> Downloading nvm from git to '/home/jovyan/.nvm'\n",
      "=> Cloning into '/home/jovyan/.nvm'...\n",
      "remote: Enumerating objects: 278, done.\u001b[K\n",
      "remote: Counting objects: 100% (278/278), done.\u001b[K\n",
      "remote: Compressing objects: 100% (249/249), done.\u001b[K\n",
      "remote: Total 278 (delta 33), reused 88 (delta 16), pack-reused 0\u001b[K\n",
      "Receiving objects: 100% (278/278), 142.36 KiB | 771.00 KiB/s, done.\n",
      "Resolving deltas: 100% (33/33), done.\n",
      "=> Compressing and cleaning up git repository\n",
      "\n",
      "=> Appending nvm source string to /home/jovyan/.bashrc\n",
      "=> Appending bash_completion source string to /home/jovyan/.bashrc\n",
      "=> You currently have modules installed globally with `npm`. These will no\n",
      "=> longer be linked to the active version of Node when you install a new node\n",
      "=> with `nvm`; and they may (depending on how you construct your `$PATH`)\n",
      "=> override the binaries of modules installed with `nvm`:\n",
      "\n",
      "/opt/conda/lib\n",
      "├── configurable-http-proxy@1.3.0\n",
      "=> If you wish to uninstall them at a later point (or re-install them under your\n",
      "=> `nvm` Nodes), you can remove them from the system Node as follows:\n",
      "\n",
      "     $ nvm use system\n",
      "     $ npm uninstall -g a_module\n",
      "\n",
      "=> Close and reopen your terminal to start using nvm or run the following to use it now:\n",
      "\n",
      "export NVM_DIR=\"$HOME/.nvm\"\n",
      "[ -s \"$NVM_DIR/nvm.sh\" ] && \\. \"$NVM_DIR/nvm.sh\"  # This loads nvm\n",
      "[ -s \"$NVM_DIR/bash_completion\" ] && \\. \"$NVM_DIR/bash_completion\"  # This loads nvm bash_completion\n"
     ]
    }
   ],
   "source": [
    "!wget -qO- https://raw.githubusercontent.com/nvm-sh/nvm/v0.34.0/install.sh | bash"
   ]
  },
  {
   "cell_type": "code",
   "execution_count": null,
   "metadata": {},
   "outputs": [],
   "source": [
    "!export NVM_DIR=\"$HOME/.nvm\"\n",
    "![ -s \"$NVM_DIR/nvm.sh\" ] && \\. \"$NVM_DIR/nvm.sh\"  # This loads nvm\n",
    "![ -s \"$NVM_DIR/bash_completion\" ] && \\. \"$NVM_DIR/bash_completion\"  # This loads nvm bash_completion"
   ]
  },
  {
   "cell_type": "code",
   "execution_count": 4,
   "metadata": {},
   "outputs": [
    {
     "name": "stdout",
     "output_type": "stream",
     "text": [
      "/bin/sh: 1: nvm: not found\r\n",
      "/bin/sh: 1: nvm: not found\r\n",
      "/bin/sh: 1: nvm: not found\r\n"
     ]
    }
   ],
   "source": [
    "!nvm install 10 ; nvm alias default 10 ; nvm use 10"
   ]
  },
  {
   "cell_type": "markdown",
   "metadata": {},
   "source": [
    "### 3rd) install Juice Shop"
   ]
  },
  {
   "cell_type": "code",
   "execution_count": 5,
   "metadata": {},
   "outputs": [
    {
     "name": "stdout",
     "output_type": "stream",
     "text": [
      "app.js\t\t    docs\t      LICENSE\t\t  server.js\r\n",
      "app.json\t    encryptionkeys    models\t\t  swagger.yml\r\n",
      "CODE_OF_CONDUCT.md  frontend\t      package.json\t  test\r\n",
      "config\t\t    ftp\t\t      protractor.conf.js  uploads\r\n",
      "CONTRIBUTING.md     greenkeeper.json  README.md\t\t  vagrant\r\n",
      "crowdin.yaml\t    Gruntfile.js      REFERENCES.md\t  views\r\n",
      "ctf.key\t\t    HALL_OF_FAME.md   routes\r\n",
      "data\t\t    hooks\t      screenshots\r\n",
      "Dockerfile\t    lib\t\t      SECURITY.md\r\n"
     ]
    }
   ],
   "source": [
    "!ls juice-shop"
   ]
  },
  {
   "cell_type": "code",
   "execution_count": 6,
   "metadata": {},
   "outputs": [
    {
     "name": "stdout",
     "output_type": "stream",
     "text": [
      "\u001b[K\u001b[?25h\u001b[37;40mnpm\u001b[0m \u001b[0m\u001b[30;43mWARN\u001b[0m \u001b[0m\u001b[35mdeprecated\u001b[0m codeclimate-test-reporter@0.5.1: codeclimate-test-reporter has been deprecated in favor of our new unified test-reporter. Please visit https://docs.codeclimate.com/docs/configuring-test-coverage for details on setting up the new test-reporter.\n",
      "\u001b[K\u001b[?25h\u001b[37;40mnpm\u001b[0m \u001b[0m\u001b[30;43mWARN\u001b[0m \u001b[0m\u001b[35mdeprecated\u001b[0m jade@1.11.0: Jade has been renamed to pug, please install the latest version of pug instead of jade\n",
      "\u001b[K\u001b[?25h\u001b[37;40mnpm\u001b[0m \u001b[0m\u001b[30;43mWARN\u001b[0m \u001b[0m\u001b[35mdeprecated\u001b[0m joi@13.7.0: This version has been deprecated in accordance with the hapi support policy (hapi.im/support). Please upgrade to the latest version to get the best features, bug fixes, and security patches. If you are unable to upgrade at this time, paid support is available for older versions (hapi.im/commercial).\n",
      "\u001b[K\u001b[?25h\u001b[37;40mnpm\u001b[0m \u001b[0m\u001b[30;43mWARN\u001b[0m \u001b[0m\u001b[35mdeprecated\u001b[0m jsonwebtoken@0.1.0: Critical vulnerability fix in v5.0.0. See https://auth0.com/blog/2015/03/31/critical-vulnerabilities-in-json-web-token-libraries/\n",
      "\u001b[K\u001b[?25h7m\u001b[90m.................\u001b[0m] / fetchMetadata: \u001b[7msill\u001b[0m \u001b[35mpacote\u001b[0m version manifest for helmet-c\u001b[0m\u001b[K: Criti\u001b[0m\u001b[K\u001b[37;40mnpm\u001b[0m \u001b[0m\u001b[30;43mWARN\u001b[0m \u001b[0m\u001b[35mdeprecated\u001b[0m constantinople@3.0.2: Please update to at least constantinople 3.1.1\n",
      "\u001b[K\u001b[?25h\u001b[37;40mnpm\u001b[0m \u001b[0m\u001b[30;43mWARN\u001b[0m \u001b[0m\u001b[35mdeprecated\u001b[0m transformers@2.1.0: Deprecated, use jstransformer.0.2: Ple\u001b[0m\u001b[K\n",
      "\u001b[K\u001b[?25h\u001b[37;40mnpm\u001b[0m \u001b[0m\u001b[30;43mWARN\u001b[0m \u001b[0m\u001b[35mdeprecated\u001b[0m hoek@5.0.4: This version has been deprecated in accordance with the hapi support policy (hapi.im/support). Please upgrade to the latest version to get the best features, bug fixes, and security patches. If you are unable to upgrade at this time, paid support is available for older versions (hapi.im/commercial).\n",
      "\u001b[0m\u001b[37;40mnpm\u001b[0m \u001b[0m\u001b[30;43mWARN\u001b[0m \u001b[0m\u001b[35mdeprecated\u001b[0m topo@3.0.3: This module has moved and is now available at @hapi/topo. Please update your dependencies as this version is no longer maintained an may contain bugs and security issues.\n",
      "\u001b[K\u001b[?25h\u001b[37;40mnpm\u001b[0m \u001b[0m\u001b[30;43mWARN\u001b[0m \u001b[0m\u001b[35mdeprecated\u001b[0m jws@0.2.6: Security update: Versions below 3.0.0 are deprecated.\n",
      "\u001b[K\u001b[?25h\u001b[37;40mnpm\u001b[0m \u001b[0m\u001b[30;43mWARN\u001b[0m \u001b[0m\u001b[35mdeprecated\u001b[0m hoek@6.1.3: This module has moved and is now available at @hapi/hoek. Please update your dependencies as this version is no longer maintained an may contain bugs and security issues.\n",
      "\u001b[K\u001b[?25h\u001b[37;40mnpm\u001b[0m \u001b[0m\u001b[30;43mWARN\u001b[0m \u001b[0m\u001b[35mdeprecated\u001b[0m kleur@2.0.2: Please upgrade to kleur@3 or migrate to 'ansi-colors' if you prefer the old syntax. Visit <https://github.com/lukeed/kleur/releases/tag/v3.0.0\\> for migration path(s).\n",
      "\u001b[K\u001b[?25h\u001b[37;40mnpm\u001b[0m \u001b[0m\u001b[30;43mWARN\u001b[0m \u001b[0m\u001b[35mdeprecated\u001b[0m left-pad@1.3.0: use String.prototype.padStart()m\u001b[Km\u001b[K[0m\u001b[K\n",
      "\u001b[K\u001b[?25h\u001b[37;40mnpm\u001b[0m \u001b[0m\u001b[30;43mWARN\u001b[0m \u001b[0m\u001b[35mdeprecated\u001b[0m circular-json@0.3.3: CircularJSON is in maintenance only, flatted is its successor.\n",
      "\u001b[K\u001b[?25h        \u001b[27m\u001b[90m......\u001b[0m] | install:window-size: \u001b[32minfo\u001b[0m \u001b[35mlifecycle\u001b[0m window-size@0.1.0~in\u001b[0m\u001b[K\u001b[K[0m\u001b[K\n",
      "> iltorb@1.3.10 install /codebuild/output/src793550612/src/github.com/OpenSecuritySummit/jp-tests/notebooks/Juice-Shop/juice-shop/node_modules/iltorb\n",
      "> detect-libc prebuild-install || node-gyp rebuild\n",
      "\n",
      "\u001b[37;40mprebuild-install\u001b[0m \u001b[0m\u001b[30;43mWARN\u001b[0m \u001b[0m\u001b[35minstall\u001b[0m EACCES: permission denied, access '/home/jovyan/.npm'\n",
      "\u001b[0m\u001b[37;40mgyp\u001b[0m \u001b[0m\u001b[31;40mERR!\u001b[0m \u001b[0m\u001b[35mconfigure error\u001b[0m \n",
      "\u001b[0m\u001b[37;40mgyp\u001b[0m \u001b[0m\u001b[31;40mERR!\u001b[0m \u001b[0m\u001b[35mstack\u001b[0m Error: Command failed: /opt/conda/bin/python -c import sys; print \"%s.%s.%s\" % sys.version_info[:3];\n",
      "\u001b[0m\u001b[37;40mgyp\u001b[0m \u001b[0m\u001b[31;40mERR!\u001b[0m \u001b[0m\u001b[35mstack\u001b[0m   File \"<string>\", line 1\n",
      "\u001b[0m\u001b[37;40mgyp\u001b[0m \u001b[0m\u001b[31;40mERR!\u001b[0m \u001b[0m\u001b[35mstack\u001b[0m     import sys; print \"%s.%s.%s\" % sys.version_info[:3];\n",
      "\u001b[0m\u001b[37;40mgyp\u001b[0m \u001b[0m\u001b[31;40mERR!\u001b[0m \u001b[0m\u001b[35mstack\u001b[0m                                ^\n",
      "\u001b[0m\u001b[37;40mgyp\u001b[0m \u001b[0m\u001b[31;40mERR!\u001b[0m \u001b[0m\u001b[35mstack\u001b[0m SyntaxError: invalid syntax\n",
      "\u001b[0m\u001b[37;40mgyp\u001b[0m \u001b[0m\u001b[31;40mERR!\u001b[0m \u001b[0m\u001b[35mstack\u001b[0m \n",
      "\u001b[0m\u001b[37;40mgyp\u001b[0m \u001b[0m\u001b[31;40mERR!\u001b[0m \u001b[0m\u001b[35mstack\u001b[0m     at ChildProcess.exithandler (child_process.js:299:12)\n",
      "\u001b[0m\u001b[37;40mgyp\u001b[0m \u001b[0m\u001b[31;40mERR!\u001b[0m \u001b[0m\u001b[35mstack\u001b[0m     at ChildProcess.emit (events.js:193:13)\n",
      "\u001b[0m\u001b[37;40mgyp\u001b[0m \u001b[0m\u001b[31;40mERR!\u001b[0m \u001b[0m\u001b[35mstack\u001b[0m     at maybeClose (internal/child_process.js:999:16)\n",
      "\u001b[0m\u001b[37;40mgyp\u001b[0m \u001b[0m\u001b[31;40mERR!\u001b[0m \u001b[0m\u001b[35mstack\u001b[0m     at Process.ChildProcess._handle.onexit (internal/child_process.js:266:5)\n",
      "\u001b[0m\u001b[37;40mgyp\u001b[0m \u001b[0m\u001b[31;40mERR!\u001b[0m \u001b[0m\u001b[35mSystem\u001b[0m Linux 4.14.114-83.126.amzn1.x86_64\n",
      "\u001b[0m\u001b[37;40mgyp\u001b[0m \u001b[0m\u001b[31;40mERR!\u001b[0m \u001b[0m\u001b[35mcommand\u001b[0m \"/opt/conda/bin/node\" \"/opt/conda/lib/node_modules/npm/node_modules/node-gyp/bin/node-gyp.js\" \"rebuild\"\n",
      "\u001b[0m\u001b[37;40mgyp\u001b[0m \u001b[0m\u001b[31;40mERR!\u001b[0m \u001b[0m\u001b[35mcwd\u001b[0m /codebuild/output/src793550612/src/github.com/OpenSecuritySummit/jp-tests/notebooks/Juice-Shop/juice-shop/node_modules/iltorb\n",
      "\u001b[0m\u001b[37;40mgyp\u001b[0m \u001b[0m\u001b[31;40mERR!\u001b[0m \u001b[0m\u001b[35mnode -v\u001b[0m v11.14.0\n",
      "\u001b[0m\u001b[37;40mgyp\u001b[0m \u001b[0m\u001b[31;40mERR!\u001b[0m \u001b[0m\u001b[35mnode-gyp -v\u001b[0m v3.8.0\n",
      "\u001b[0m\u001b[37;40mgyp\u001b[0m \u001b[0m\u001b[31;40mERR!\u001b[0m \u001b[0m\u001b[35mnot ok\u001b[0m \n",
      "\u001b[0m\n",
      "> libxmljs2@0.21.3 install /codebuild/output/src793550612/src/github.com/OpenSecuritySummit/jp-tests/notebooks/Juice-Shop/juice-shop/node_modules/libxmljs2\n",
      "> node-pre-gyp install --fallback-to-build --loglevel http\n",
      "\n",
      "\u001b[37;40mnode-pre-gyp\u001b[0m \u001b[0m\u001b[30;43mWARN\u001b[0m \u001b[0m\u001b[35mUsing request for node-pre-gyp https download\u001b[0m \n",
      "\u001b[0m\u001b[37;40mnode-pre-gyp\u001b[0m \u001b[0m\u001b[30;43mWARN\u001b[0m \u001b[0m\u001b[35mPre-built binaries not installable for libxmljs2@0.21.3 and node@11.14.0 (node-v67 ABI, glibc) (falling back to source compile with node-gyp)\u001b[0m \n",
      "\u001b[0m\u001b[37;40mnode-pre-gyp\u001b[0m \u001b[0m\u001b[30;43mWARN\u001b[0m \u001b[0m\u001b[35mHit error EACCES: permission denied, mkdir '/codebuild/output/src793550612/src/github.com/OpenSecuritySummit/jp-tests/notebooks/Juice-Shop/juice-shop/node_modules/libxmljs2/build'\u001b[0m \n",
      "\u001b[0m\u001b[37;40mgyp\u001b[0m \u001b[0m\u001b[31;40mERR!\u001b[0m \u001b[0m\u001b[35mconfigure error\u001b[0m \n",
      "\u001b[0m\u001b[37;40mgyp\u001b[0m \u001b[0m\u001b[31;40mERR!\u001b[0m \u001b[0m\u001b[35mstack\u001b[0m Error: Command failed: /opt/conda/bin/python -c import sys; print \"%s.%s.%s\" % sys.version_info[:3];\n",
      "\u001b[0m\u001b[37;40mgyp\u001b[0m \u001b[0m\u001b[31;40mERR!\u001b[0m \u001b[0m\u001b[35mstack\u001b[0m   File \"<string>\", line 1\n",
      "\u001b[0m\u001b[37;40mgyp\u001b[0m \u001b[0m\u001b[31;40mERR!\u001b[0m \u001b[0m\u001b[35mstack\u001b[0m     import sys; print \"%s.%s.%s\" % sys.version_info[:3];\n",
      "\u001b[0m\u001b[37;40mgyp\u001b[0m \u001b[0m\u001b[31;40mERR!\u001b[0m \u001b[0m\u001b[35mstack\u001b[0m                                ^\n",
      "\u001b[0m\u001b[37;40mgyp\u001b[0m \u001b[0m\u001b[31;40mERR!\u001b[0m \u001b[0m\u001b[35mstack\u001b[0m SyntaxError: invalid syntax\n",
      "\u001b[0m\u001b[37;40mgyp\u001b[0m \u001b[0m\u001b[31;40mERR!\u001b[0m \u001b[0m\u001b[35mstack\u001b[0m \n",
      "\u001b[0m\u001b[37;40mgyp\u001b[0m \u001b[0m\u001b[31;40mERR!\u001b[0m \u001b[0m\u001b[35mstack\u001b[0m     at ChildProcess.exithandler (child_process.js:299:12)\n",
      "\u001b[0m\u001b[37;40mgyp\u001b[0m \u001b[0m\u001b[31;40mERR!\u001b[0m \u001b[0m\u001b[35mstack\u001b[0m     at ChildProcess.emit (events.js:193:13)\n",
      "\u001b[0m\u001b[37;40mgyp\u001b[0m \u001b[0m\u001b[31;40mERR!\u001b[0m \u001b[0m\u001b[35mstack\u001b[0m     at maybeClose (internal/child_process.js:999:16)\n",
      "\u001b[0m\u001b[37;40mgyp\u001b[0m \u001b[0m\u001b[31;40mERR!\u001b[0m \u001b[0m\u001b[35mstack\u001b[0m     at Process.ChildProcess._handle.onexit (internal/child_process.js:266:5)\n",
      "\u001b[0m\u001b[37;40mgyp\u001b[0m \u001b[0m\u001b[31;40mERR!\u001b[0m \u001b[0m\u001b[35mSystem\u001b[0m Linux 4.14.114-83.126.amzn1.x86_64\n",
      "\u001b[0m\u001b[37;40mgyp\u001b[0m \u001b[0m\u001b[31;40mERR!\u001b[0m \u001b[0m\u001b[35mcommand\u001b[0m \"/opt/conda/bin/node\" \"/opt/conda/lib/node_modules/npm/node_modules/node-gyp/bin/node-gyp.js\" \"configure\" \"--fallback-to-build\" \"--loglevel=http\" \"--module=/codebuild/output/src793550612/src/github.com/OpenSecuritySummit/jp-tests/notebooks/Juice-Shop/juice-shop/node_modules/libxmljs2/build/Release/xmljs.node\" \"--module_name=xmljs\" \"--module_path=/codebuild/output/src793550612/src/github.com/OpenSecuritySummit/jp-tests/notebooks/Juice-Shop/juice-shop/node_modules/libxmljs2/build/Release\" \"--napi_version=4\" \"--node_abi_napi=napi\" \"--napi_build_version=0\" \"--node_napi_label=node-v67\"\n",
      "\u001b[0m\u001b[37;40mgyp\u001b[0m \u001b[0m\u001b[31;40mERR!\u001b[0m \u001b[0m\u001b[35mcwd\u001b[0m /codebuild/output/src793550612/src/github.com/OpenSecuritySummit/jp-tests/notebooks/Juice-Shop/juice-shop/node_modules/libxmljs2\n",
      "\u001b[0m\u001b[37;40mgyp\u001b[0m \u001b[0m\u001b[31;40mERR!\u001b[0m \u001b[0m\u001b[35mnode -v\u001b[0m v11.14.0\n",
      "\u001b[0m\u001b[37;40mgyp\u001b[0m \u001b[0m\u001b[31;40mERR!\u001b[0m \u001b[0m\u001b[35mnode-gyp -v\u001b[0m v3.8.0\n",
      "\u001b[0m\u001b[37;40mgyp\u001b[0m \u001b[0m\u001b[31;40mERR!\u001b[0m \u001b[0m\u001b[35mnot ok\u001b[0m \n",
      "\u001b[0m\u001b[37;40mnode-pre-gyp\u001b[0m \u001b[0m\u001b[31;40mERR!\u001b[0m \u001b[0m\u001b[35mbuild error\u001b[0m \n",
      "\u001b[0m\u001b[37;40mnode-pre-gyp\u001b[0m \u001b[0m\u001b[31;40mERR!\u001b[0m \u001b[0m\u001b[35mstack\u001b[0m Error: Failed to execute '/opt/conda/bin/node /opt/conda/lib/node_modules/npm/node_modules/node-gyp/bin/node-gyp.js configure --fallback-to-build --loglevel=http --module=/codebuild/output/src793550612/src/github.com/OpenSecuritySummit/jp-tests/notebooks/Juice-Shop/juice-shop/node_modules/libxmljs2/build/Release/xmljs.node --module_name=xmljs --module_path=/codebuild/output/src793550612/src/github.com/OpenSecuritySummit/jp-tests/notebooks/Juice-Shop/juice-shop/node_modules/libxmljs2/build/Release --napi_version=4 --node_abi_napi=napi --napi_build_version=0 --node_napi_label=node-v67' (1)\n",
      "\u001b[0m\u001b[37;40mnode-pre-gyp\u001b[0m \u001b[0m\u001b[31;40mERR!\u001b[0m \u001b[0m\u001b[35mstack\u001b[0m     at ChildProcess.<anonymous> (/codebuild/output/src793550612/src/github.com/OpenSecuritySummit/jp-tests/notebooks/Juice-Shop/juice-shop/node_modules/node-pre-gyp/lib/util/compile.js:83:29)\n",
      "\u001b[0m\u001b[37;40mnode-pre-gyp\u001b[0m \u001b[0m\u001b[31;40mERR!\u001b[0m \u001b[0m\u001b[35mstack\u001b[0m     at ChildProcess.emit (events.js:193:13)\n",
      "\u001b[0m\u001b[37;40mnode-pre-gyp\u001b[0m \u001b[0m\u001b[31;40mERR!\u001b[0m \u001b[0m\u001b[35mstack\u001b[0m     at maybeClose (internal/child_process.js:999:16)\n",
      "\u001b[0m\u001b[37;40mnode-pre-gyp\u001b[0m \u001b[0m\u001b[31;40mERR!\u001b[0m \u001b[0m\u001b[35mstack\u001b[0m     at Process.ChildProcess._handle.onexit (internal/child_process.js:266:5)\n",
      "\u001b[0m\u001b[37;40mnode-pre-gyp\u001b[0m \u001b[0m\u001b[31;40mERR!\u001b[0m \u001b[0m\u001b[35mSystem\u001b[0m Linux 4.14.114-83.126.amzn1.x86_64\n",
      "\u001b[0m\u001b[37;40mnode-pre-gyp\u001b[0m \u001b[0m\u001b[31;40mERR!\u001b[0m \u001b[0m\u001b[35mcommand\u001b[0m \"/opt/conda/bin/node\" \"/codebuild/output/src793550612/src/github.com/OpenSecuritySummit/jp-tests/notebooks/Juice-Shop/juice-shop/node_modules/.bin/node-pre-gyp\" \"install\" \"--fallback-to-build\" \"--loglevel\" \"http\"\n",
      "\u001b[0m\u001b[37;40mnode-pre-gyp\u001b[0m \u001b[0m\u001b[31;40mERR!\u001b[0m \u001b[0m\u001b[35mcwd\u001b[0m /codebuild/output/src793550612/src/github.com/OpenSecuritySummit/jp-tests/notebooks/Juice-Shop/juice-shop/node_modules/libxmljs2\n",
      "\u001b[0m\u001b[37;40mnode-pre-gyp\u001b[0m \u001b[0m\u001b[31;40mERR!\u001b[0m \u001b[0m\u001b[35mnode -v\u001b[0m v11.14.0\n",
      "\u001b[0m\u001b[37;40mnode-pre-gyp\u001b[0m \u001b[0m\u001b[31;40mERR!\u001b[0m \u001b[0m\u001b[35mnode-pre-gyp -v\u001b[0m v0.13.0\n",
      "\u001b[0m\u001b[37;40mnode-pre-gyp\u001b[0m \u001b[0m\u001b[31;40mERR!\u001b[0m \u001b[0m\u001b[35mnot ok\u001b[0m \n",
      "\u001b[0mFailed to execute '/opt/conda/bin/node /opt/conda/lib/node_modules/npm/node_modules/node-gyp/bin/node-gyp.js configure --fallback-to-build --loglevel=http --module=/codebuild/output/src793550612/src/github.com/OpenSecuritySummit/jp-tests/notebooks/Juice-Shop/juice-shop/node_modules/libxmljs2/build/Release/xmljs.node --module_name=xmljs --module_path=/codebuild/output/src793550612/src/github.com/OpenSecuritySummit/jp-tests/notebooks/Juice-Shop/juice-shop/node_modules/libxmljs2/build/Release --napi_version=4 --node_abi_napi=napi --napi_build_version=0 --node_napi_label=node-v67' (1)\n"
     ]
    },
    {
     "name": "stdout",
     "output_type": "stream",
     "text": [
      "\u001b[K\u001b[?25h\u001b[37;40mnpm\u001b[0m \u001b[0m\u001b[30;43mWARN\u001b[0m\u001b[35m\u001b[0m sinon-chai@3.2.0 requires a peer of sinon@>=4.0.0 <7.0.0 but none is installed. You must install peer dependencies yourself.\n",
      "\u001b[0m\u001b[37;40mnpm\u001b[0m \u001b[0m\u001b[30;43mWARN\u001b[0m\u001b[35m\u001b[0m acorn-jsx@5.0.1 requires a peer of acorn@^6.0.0 but none is installed. You must install peer dependencies yourself.\n",
      "\u001b[0m\u001b[37;40mnpm\u001b[0m \u001b[0m\u001b[30;43mWARN\u001b[0m \u001b[0m\u001b[35moptional\u001b[0m SKIPPING OPTIONAL DEPENDENCY: fsevents@1.2.9 (node_modules/fsevents):\n",
      "\u001b[0m\u001b[37;40mnpm\u001b[0m \u001b[0m\u001b[30;43mWARN\u001b[0m \u001b[0m\u001b[35mnotsup\u001b[0m SKIPPING OPTIONAL DEPENDENCY: Unsupported platform for fsevents@1.2.9: wanted {\"os\":\"darwin\",\"arch\":\"any\"} (current: {\"os\":\"linux\",\"arch\":\"x64\"})\n",
      "\u001b[0m\u001b[37;40mnpm\u001b[0m \u001b[0m\u001b[30;43mWARN\u001b[0m \u001b[0m\u001b[35moptional\u001b[0m SKIPPING OPTIONAL DEPENDENCY: iltorb@1.3.10 (node_modules/iltorb):\n",
      "\u001b[0m\u001b[37;40mnpm\u001b[0m \u001b[0m\u001b[30;43mWARN\u001b[0m \u001b[0m\u001b[35moptional\u001b[0m SKIPPING OPTIONAL DEPENDENCY: iltorb@1.3.10 install: `detect-libc prebuild-install || node-gyp rebuild`\n",
      "\u001b[0m\u001b[37;40mnpm\u001b[0m \u001b[0m\u001b[30;43mWARN\u001b[0m \u001b[0m\u001b[35moptional\u001b[0m SKIPPING OPTIONAL DEPENDENCY: Exit status 1\n",
      "\u001b[0m\n",
      "\u001b[37;40mnpm\u001b[0m \u001b[0m\u001b[31;40mERR!\u001b[0m \u001b[0m\u001b[35mcode\u001b[0m ELIFECYCLE\n",
      "\u001b[0m\u001b[37;40mnpm\u001b[0m \u001b[0m\u001b[31;40mERR!\u001b[0m \u001b[0m\u001b[35merrno\u001b[0m 1\n",
      "\u001b[0m\u001b[37;40mnpm\u001b[0m \u001b[0m\u001b[31;40mERR!\u001b[0m\u001b[35m\u001b[0m libxmljs2@0.21.3 install: `node-pre-gyp install --fallback-to-build --loglevel http`\n",
      "\u001b[0m\u001b[37;40mnpm\u001b[0m \u001b[0m\u001b[31;40mERR!\u001b[0m\u001b[35m\u001b[0m Exit status 1\n",
      "\u001b[0m\u001b[37;40mnpm\u001b[0m \u001b[0m\u001b[31;40mERR!\u001b[0m\u001b[35m\u001b[0m \n",
      "\u001b[0m\u001b[37;40mnpm\u001b[0m \u001b[0m\u001b[31;40mERR!\u001b[0m\u001b[35m\u001b[0m Failed at the libxmljs2@0.21.3 install script.\n",
      "\u001b[0m\u001b[37;40mnpm\u001b[0m \u001b[0m\u001b[31;40mERR!\u001b[0m\u001b[35m\u001b[0m This is probably not a problem with npm. There is likely additional logging output above.\n",
      "\u001b[0m\n",
      "\u001b[37;40mnpm\u001b[0m \u001b[0m\u001b[31;40mERR!\u001b[0m\u001b[35m\u001b[0m A complete log of this run can be found in:\n",
      "\u001b[0m\u001b[37;40mnpm\u001b[0m \u001b[0m\u001b[31;40mERR!\u001b[0m\u001b[35m\u001b[0m     /home/jovyan/.npm/_logs/2019-06-08T10_14_09_475Z-debug.log\n",
      "\u001b[K\u001b[?25h        \u001b[27m\u001b[90m......\u001b[0m] / refresh-package-json:needle: \u001b[7msill\u001b[0m \u001b[35mrefresh-package-json\u001b[0m /\u001b[0m\u001b[Km\u001b[KK\n",
      "> iltorb@1.3.10 install /codebuild/output/src793550612/src/github.com/OpenSecuritySummit/jp-tests/notebooks/Juice-Shop/juice-shop/node_modules/iltorb\n",
      "> detect-libc prebuild-install || node-gyp rebuild\n",
      "\n",
      "\u001b[37;40mprebuild-install\u001b[0m \u001b[0m\u001b[30;43mWARN\u001b[0m \u001b[0m\u001b[35minstall\u001b[0m EACCES: permission denied, access '/home/jovyan/.npm'\n",
      "\u001b[0m\u001b[37;40mgyp\u001b[0m \u001b[0m\u001b[31;40mERR!\u001b[0m \u001b[0m\u001b[35mconfigure error\u001b[0m \n",
      "\u001b[0m\u001b[37;40mgyp\u001b[0m \u001b[0m\u001b[31;40mERR!\u001b[0m \u001b[0m\u001b[35mstack\u001b[0m Error: Command failed: /opt/conda/bin/python -c import sys; print \"%s.%s.%s\" % sys.version_info[:3];\n",
      "\u001b[0m\u001b[37;40mgyp\u001b[0m \u001b[0m\u001b[31;40mERR!\u001b[0m \u001b[0m\u001b[35mstack\u001b[0m   File \"<string>\", line 1\n",
      "\u001b[0m\u001b[37;40mgyp\u001b[0m \u001b[0m\u001b[31;40mERR!\u001b[0m \u001b[0m\u001b[35mstack\u001b[0m     import sys; print \"%s.%s.%s\" % sys.version_info[:3];\n",
      "\u001b[0m\u001b[37;40mgyp\u001b[0m \u001b[0m\u001b[31;40mERR!\u001b[0m \u001b[0m\u001b[35mstack\u001b[0m                                ^\n",
      "\u001b[0m\u001b[37;40mgyp\u001b[0m \u001b[0m\u001b[31;40mERR!\u001b[0m \u001b[0m\u001b[35mstack\u001b[0m SyntaxError: invalid syntax\n",
      "\u001b[0m\u001b[37;40mgyp\u001b[0m \u001b[0m\u001b[31;40mERR!\u001b[0m \u001b[0m\u001b[35mstack\u001b[0m \n",
      "\u001b[0m\u001b[37;40mgyp\u001b[0m \u001b[0m\u001b[31;40mERR!\u001b[0m \u001b[0m\u001b[35mstack\u001b[0m     at ChildProcess.exithandler (child_process.js:299:12)\n",
      "\u001b[0m\u001b[37;40mgyp\u001b[0m \u001b[0m\u001b[31;40mERR!\u001b[0m \u001b[0m\u001b[35mstack\u001b[0m     at ChildProcess.emit (events.js:193:13)\n",
      "\u001b[0m\u001b[37;40mgyp\u001b[0m \u001b[0m\u001b[31;40mERR!\u001b[0m \u001b[0m\u001b[35mstack\u001b[0m     at maybeClose (internal/child_process.js:999:16)\n",
      "\u001b[0m\u001b[37;40mgyp\u001b[0m \u001b[0m\u001b[31;40mERR!\u001b[0m \u001b[0m\u001b[35mstack\u001b[0m     at Process.ChildProcess._handle.onexit (internal/child_process.js:266:5)\n",
      "\u001b[0m\u001b[37;40mgyp\u001b[0m \u001b[0m\u001b[31;40mERR!\u001b[0m \u001b[0m\u001b[35mSystem\u001b[0m Linux 4.14.114-83.126.amzn1.x86_64\n",
      "\u001b[0m\u001b[37;40mgyp\u001b[0m \u001b[0m\u001b[31;40mERR!\u001b[0m \u001b[0m\u001b[35mcommand\u001b[0m \"/opt/conda/bin/node\" \"/opt/conda/lib/node_modules/npm/node_modules/node-gyp/bin/node-gyp.js\" \"rebuild\"\n",
      "\u001b[0m\u001b[37;40mgyp\u001b[0m \u001b[0m\u001b[31;40mERR!\u001b[0m \u001b[0m\u001b[35mcwd\u001b[0m /codebuild/output/src793550612/src/github.com/OpenSecuritySummit/jp-tests/notebooks/Juice-Shop/juice-shop/node_modules/iltorb\n",
      "\u001b[0m\u001b[37;40mgyp\u001b[0m \u001b[0m\u001b[31;40mERR!\u001b[0m \u001b[0m\u001b[35mnode -v\u001b[0m v11.14.0\n",
      "\u001b[0m\u001b[37;40mgyp\u001b[0m \u001b[0m\u001b[31;40mERR!\u001b[0m \u001b[0m\u001b[35mnode-gyp -v\u001b[0m v3.8.0\n",
      "\u001b[0m\u001b[37;40mgyp\u001b[0m \u001b[0m\u001b[31;40mERR!\u001b[0m \u001b[0m\u001b[35mnot ok\u001b[0m \n",
      "\u001b[0m\n",
      "> sqlite3@4.0.8 install /codebuild/output/src793550612/src/github.com/OpenSecuritySummit/jp-tests/notebooks/Juice-Shop/juice-shop/node_modules/sqlite3\n",
      "> node-pre-gyp install --fallback-to-build\n",
      "\n",
      "\u001b[37;40mnode-pre-gyp\u001b[0m \u001b[0m\u001b[30;43mWARN\u001b[0m \u001b[0m\u001b[35mUsing request for node-pre-gyp https download\u001b[0m \n",
      "\u001b[0m\u001b[37;40mnode-pre-gyp\u001b[0m \u001b[0m\u001b[30;43mWARN\u001b[0m \u001b[0m\u001b[35mPre-built binaries not installable for sqlite3@4.0.8 and node@11.14.0 (node-v67 ABI, glibc) (falling back to source compile with node-gyp)\u001b[0m \n",
      "\u001b[0m\u001b[37;40mnode-pre-gyp\u001b[0m \u001b[0m\u001b[30;43mWARN\u001b[0m \u001b[0m\u001b[35mHit error EACCES: permission denied, mkdir '/codebuild/output/src793550612/src/github.com/OpenSecuritySummit/jp-tests/notebooks/Juice-Shop/juice-shop/node_modules/sqlite3/lib/binding'\u001b[0m \n",
      "\u001b[0m\u001b[37;40mgyp\u001b[0m \u001b[0m\u001b[31;40mERR!\u001b[0m \u001b[0m\u001b[35mconfigure error\u001b[0m \n",
      "\u001b[0m\u001b[37;40mgyp\u001b[0m \u001b[0m\u001b[31;40mERR!\u001b[0m \u001b[0m\u001b[35mstack\u001b[0m Error: Command failed: /opt/conda/bin/python -c import sys; print \"%s.%s.%s\" % sys.version_info[:3];\n",
      "\u001b[0m\u001b[37;40mgyp\u001b[0m \u001b[0m\u001b[31;40mERR!\u001b[0m \u001b[0m\u001b[35mstack\u001b[0m   File \"<string>\", line 1\n",
      "\u001b[0m\u001b[37;40mgyp\u001b[0m \u001b[0m\u001b[31;40mERR!\u001b[0m \u001b[0m\u001b[35mstack\u001b[0m     import sys; print \"%s.%s.%s\" % sys.version_info[:3];\n",
      "\u001b[0m\u001b[37;40mgyp\u001b[0m \u001b[0m\u001b[31;40mERR!\u001b[0m \u001b[0m\u001b[35mstack\u001b[0m                                ^\n",
      "\u001b[0m\u001b[37;40mgyp\u001b[0m \u001b[0m\u001b[31;40mERR!\u001b[0m \u001b[0m\u001b[35mstack\u001b[0m SyntaxError: invalid syntax\n",
      "\u001b[0m\u001b[37;40mgyp\u001b[0m \u001b[0m\u001b[31;40mERR!\u001b[0m \u001b[0m\u001b[35mstack\u001b[0m \n",
      "\u001b[0m\u001b[37;40mgyp\u001b[0m \u001b[0m\u001b[31;40mERR!\u001b[0m \u001b[0m\u001b[35mstack\u001b[0m     at ChildProcess.exithandler (child_process.js:299:12)\n",
      "\u001b[0m\u001b[37;40mgyp\u001b[0m \u001b[0m\u001b[31;40mERR!\u001b[0m \u001b[0m\u001b[35mstack\u001b[0m     at ChildProcess.emit (events.js:193:13)\n",
      "\u001b[0m\u001b[37;40mgyp\u001b[0m \u001b[0m\u001b[31;40mERR!\u001b[0m \u001b[0m\u001b[35mstack\u001b[0m     at maybeClose (internal/child_process.js:999:16)\n",
      "\u001b[0m\u001b[37;40mgyp\u001b[0m \u001b[0m\u001b[31;40mERR!\u001b[0m \u001b[0m\u001b[35mstack\u001b[0m     at Process.ChildProcess._handle.onexit (internal/child_process.js:266:5)\n",
      "\u001b[0m\u001b[37;40mgyp\u001b[0m \u001b[0m\u001b[31;40mERR!\u001b[0m \u001b[0m\u001b[35mSystem\u001b[0m Linux 4.14.114-83.126.amzn1.x86_64\n",
      "\u001b[0m\u001b[37;40mgyp\u001b[0m \u001b[0m\u001b[31;40mERR!\u001b[0m \u001b[0m\u001b[35mcommand\u001b[0m \"/opt/conda/bin/node\" \"/opt/conda/lib/node_modules/npm/node_modules/node-gyp/bin/node-gyp.js\" \"configure\" \"--fallback-to-build\" \"--module=/codebuild/output/src793550612/src/github.com/OpenSecuritySummit/jp-tests/notebooks/Juice-Shop/juice-shop/node_modules/sqlite3/lib/binding/node-v67-linux-x64/node_sqlite3.node\" \"--module_name=node_sqlite3\" \"--module_path=/codebuild/output/src793550612/src/github.com/OpenSecuritySummit/jp-tests/notebooks/Juice-Shop/juice-shop/node_modules/sqlite3/lib/binding/node-v67-linux-x64\" \"--napi_version=4\" \"--node_abi_napi=napi\" \"--napi_build_version=0\" \"--node_napi_label=node-v67\"\n",
      "\u001b[0m\u001b[37;40mgyp\u001b[0m \u001b[0m\u001b[31;40mERR!\u001b[0m \u001b[0m\u001b[35mcwd\u001b[0m /codebuild/output/src793550612/src/github.com/OpenSecuritySummit/jp-tests/notebooks/Juice-Shop/juice-shop/node_modules/sqlite3\n",
      "\u001b[0m\u001b[37;40mgyp\u001b[0m \u001b[0m\u001b[31;40mERR!\u001b[0m \u001b[0m\u001b[35mnode -v\u001b[0m v11.14.0\n",
      "\u001b[0m\u001b[37;40mgyp\u001b[0m \u001b[0m\u001b[31;40mERR!\u001b[0m \u001b[0m\u001b[35mnode-gyp -v\u001b[0m v3.8.0\n",
      "\u001b[0m\u001b[37;40mgyp\u001b[0m \u001b[0m\u001b[31;40mERR!\u001b[0m \u001b[0m\u001b[35mnot ok\u001b[0m \n",
      "\u001b[0m\u001b[37;40mnode-pre-gyp\u001b[0m \u001b[0m\u001b[31;40mERR!\u001b[0m \u001b[0m\u001b[35mbuild error\u001b[0m \n",
      "\u001b[0m\u001b[37;40mnode-pre-gyp\u001b[0m \u001b[0m\u001b[31;40mERR!\u001b[0m \u001b[0m\u001b[35mstack\u001b[0m Error: Failed to execute '/opt/conda/bin/node /opt/conda/lib/node_modules/npm/node_modules/node-gyp/bin/node-gyp.js configure --fallback-to-build --module=/codebuild/output/src793550612/src/github.com/OpenSecuritySummit/jp-tests/notebooks/Juice-Shop/juice-shop/node_modules/sqlite3/lib/binding/node-v67-linux-x64/node_sqlite3.node --module_name=node_sqlite3 --module_path=/codebuild/output/src793550612/src/github.com/OpenSecuritySummit/jp-tests/notebooks/Juice-Shop/juice-shop/node_modules/sqlite3/lib/binding/node-v67-linux-x64 --napi_version=4 --node_abi_napi=napi --napi_build_version=0 --node_napi_label=node-v67' (1)\n",
      "\u001b[0m\u001b[37;40mnode-pre-gyp\u001b[0m \u001b[0m\u001b[31;40mERR!\u001b[0m \u001b[0m\u001b[35mstack\u001b[0m     at ChildProcess.<anonymous> (/codebuild/output/src793550612/src/github.com/OpenSecuritySummit/jp-tests/notebooks/Juice-Shop/juice-shop/node_modules/sqlite3/node_modules/node-pre-gyp/lib/util/compile.js:83:29)\n",
      "\u001b[0m\u001b[37;40mnode-pre-gyp\u001b[0m \u001b[0m\u001b[31;40mERR!\u001b[0m \u001b[0m\u001b[35mstack\u001b[0m     at ChildProcess.emit (events.js:193:13)\n",
      "\u001b[0m\u001b[37;40mnode-pre-gyp\u001b[0m \u001b[0m\u001b[31;40mERR!\u001b[0m \u001b[0m\u001b[35mstack\u001b[0m     at maybeClose (internal/child_process.js:999:16)\n",
      "\u001b[0m\u001b[37;40mnode-pre-gyp\u001b[0m \u001b[0m\u001b[31;40mERR!\u001b[0m \u001b[0m\u001b[35mstack\u001b[0m     at Process.ChildProcess._handle.onexit (internal/child_process.js:266:5)\n",
      "\u001b[0m\u001b[37;40mnode-pre-gyp\u001b[0m \u001b[0m\u001b[31;40mERR!\u001b[0m \u001b[0m\u001b[35mSystem\u001b[0m Linux 4.14.114-83.126.amzn1.x86_64\n",
      "\u001b[0m\u001b[37;40mnode-pre-gyp\u001b[0m \u001b[0m\u001b[31;40mERR!\u001b[0m \u001b[0m\u001b[35mcommand\u001b[0m \"/opt/conda/bin/node\" \"/codebuild/output/src793550612/src/github.com/OpenSecuritySummit/jp-tests/notebooks/Juice-Shop/juice-shop/node_modules/sqlite3/node_modules/.bin/node-pre-gyp\" \"install\" \"--fallback-to-build\"\n",
      "\u001b[0m\u001b[37;40mnode-pre-gyp\u001b[0m \u001b[0m\u001b[31;40mERR!\u001b[0m \u001b[0m\u001b[35mcwd\u001b[0m /codebuild/output/src793550612/src/github.com/OpenSecuritySummit/jp-tests/notebooks/Juice-Shop/juice-shop/node_modules/sqlite3\n",
      "\u001b[0m\u001b[37;40mnode-pre-gyp\u001b[0m \u001b[0m\u001b[31;40mERR!\u001b[0m \u001b[0m\u001b[35mnode -v\u001b[0m v11.14.0\n",
      "\u001b[0m\u001b[37;40mnode-pre-gyp\u001b[0m \u001b[0m\u001b[31;40mERR!\u001b[0m \u001b[0m\u001b[35mnode-pre-gyp -v\u001b[0m v0.11.0\n",
      "\u001b[0m\u001b[37;40mnode-pre-gyp\u001b[0m \u001b[0m\u001b[31;40mERR!\u001b[0m \u001b[0m\u001b[35mnot ok\u001b[0m \n",
      "\u001b[0mFailed to execute '/opt/conda/bin/node /opt/conda/lib/node_modules/npm/node_modules/node-gyp/bin/node-gyp.js configure --fallback-to-build --module=/codebuild/output/src793550612/src/github.com/OpenSecuritySummit/jp-tests/notebooks/Juice-Shop/juice-shop/node_modules/sqlite3/lib/binding/node-v67-linux-x64/node_sqlite3.node --module_name=node_sqlite3 --module_path=/codebuild/output/src793550612/src/github.com/OpenSecuritySummit/jp-tests/notebooks/Juice-Shop/juice-shop/node_modules/sqlite3/lib/binding/node-v67-linux-x64 --napi_version=4 --node_abi_napi=napi --napi_build_version=0 --node_napi_label=node-v67' (1)\n"
     ]
    },
    {
     "name": "stdout",
     "output_type": "stream",
     "text": [
      "\u001b[K\u001b[?25h\u001b[37;40mnpm\u001b[0m \u001b[0m\u001b[30;43mWARN\u001b[0m\u001b[35m\u001b[0m acorn-jsx@5.0.1 requires a peer of acorn@^6.0.0 but none is installed. You must install peer dependencies yourself.\n",
      "\u001b[0m\u001b[37;40mnpm\u001b[0m \u001b[0m\u001b[30;43mWARN\u001b[0m\u001b[35m\u001b[0m sinon-chai@3.2.0 requires a peer of sinon@>=4.0.0 <7.0.0 but none is installed. You must install peer dependencies yourself.\n",
      "\u001b[0m\u001b[37;40mnpm\u001b[0m \u001b[0m\u001b[30;43mWARN\u001b[0m \u001b[0m\u001b[35moptional\u001b[0m SKIPPING OPTIONAL DEPENDENCY: fsevents@1.2.9 (node_modules/fsevents):\n",
      "\u001b[0m\u001b[37;40mnpm\u001b[0m \u001b[0m\u001b[30;43mWARN\u001b[0m \u001b[0m\u001b[35mnotsup\u001b[0m SKIPPING OPTIONAL DEPENDENCY: Unsupported platform for fsevents@1.2.9: wanted {\"os\":\"darwin\",\"arch\":\"any\"} (current: {\"os\":\"linux\",\"arch\":\"x64\"})\n",
      "\u001b[0m\u001b[37;40mnpm\u001b[0m \u001b[0m\u001b[30;43mWARN\u001b[0m \u001b[0m\u001b[35moptional\u001b[0m SKIPPING OPTIONAL DEPENDENCY: iltorb@1.3.10 (node_modules/iltorb):\n",
      "\u001b[0m\u001b[37;40mnpm\u001b[0m \u001b[0m\u001b[30;43mWARN\u001b[0m \u001b[0m\u001b[35moptional\u001b[0m SKIPPING OPTIONAL DEPENDENCY: iltorb@1.3.10 install: `detect-libc prebuild-install || node-gyp rebuild`\n",
      "\u001b[0m\u001b[37;40mnpm\u001b[0m \u001b[0m\u001b[30;43mWARN\u001b[0m \u001b[0m\u001b[35moptional\u001b[0m SKIPPING OPTIONAL DEPENDENCY: Exit status 1\n",
      "\u001b[0m\n",
      "\u001b[37;40mnpm\u001b[0m \u001b[0m\u001b[31;40mERR!\u001b[0m \u001b[0m\u001b[35mcode\u001b[0m ELIFECYCLE\n",
      "\u001b[0m\u001b[37;40mnpm\u001b[0m \u001b[0m\u001b[31;40mERR!\u001b[0m \u001b[0m\u001b[35merrno\u001b[0m 1\n",
      "\u001b[0m\u001b[37;40mnpm\u001b[0m \u001b[0m\u001b[31;40mERR!\u001b[0m\u001b[35m\u001b[0m sqlite3@4.0.8 install: `node-pre-gyp install --fallback-to-build`\n",
      "\u001b[0m\u001b[37;40mnpm\u001b[0m \u001b[0m\u001b[31;40mERR!\u001b[0m\u001b[35m\u001b[0m Exit status 1\n",
      "\u001b[0m\u001b[37;40mnpm\u001b[0m \u001b[0m\u001b[31;40mERR!\u001b[0m\u001b[35m\u001b[0m \n",
      "\u001b[0m\u001b[37;40mnpm\u001b[0m \u001b[0m\u001b[31;40mERR!\u001b[0m\u001b[35m\u001b[0m Failed at the sqlite3@4.0.8 install script.\n",
      "\u001b[0m\u001b[37;40mnpm\u001b[0m \u001b[0m\u001b[31;40mERR!\u001b[0m\u001b[35m\u001b[0m This is probably not a problem with npm. There is likely additional logging output above.\n",
      "\u001b[0m\n",
      "\u001b[37;40mnpm\u001b[0m \u001b[0m\u001b[31;40mERR!\u001b[0m\u001b[35m\u001b[0m A complete log of this run can be found in:\n",
      "\u001b[0m\u001b[37;40mnpm\u001b[0m \u001b[0m\u001b[31;40mERR!\u001b[0m\u001b[35m\u001b[0m     /home/jovyan/.npm/_logs/2019-06-08T10_14_24_562Z-debug.log\n",
      "\u001b[0m\n",
      "Usage: npm <command>\n",
      "\n",
      "where <command> is one of:\n",
      "    access, adduser, audit, bin, bugs, c, cache, ci, cit,\n",
      "    clean-install, clean-install-test, completion, config,\n",
      "    create, ddp, dedupe, deprecate, dist-tag, docs, doctor,\n",
      "    edit, explore, get, help, help-search, hook, i, init,\n",
      "    install, install-ci-test, install-test, it, link, list, ln,\n",
      "    login, logout, ls, org, outdated, owner, pack, ping, prefix,\n",
      "    profile, prune, publish, rb, rebuild, repo, restart, root,\n",
      "    run, run-script, s, se, search, set, shrinkwrap, star,\n",
      "    stars, start, stop, t, team, test, token, tst, un,\n",
      "    uninstall, unpublish, unstar, up, update, v, version, view,\n",
      "    whoami\n",
      "\n",
      "npm <command> -h  quick help on <command>\n",
      "npm -l            display full usage info\n",
      "npm help <term>   search for help on <term>\n",
      "npm help npm      involved overview\n",
      "\n",
      "Specify configs in the ini-formatted file:\n",
      "    /home/jovyan/.npmrc\n",
      "or on the command line via: npm <command> --key value\n",
      "Config info can be viewed via: npm help config\n",
      "\n",
      "npm@6.7.0 /opt/conda/lib/node_modules/npm\n",
      "\n",
      "Did you mean one of these?\n",
      "    install\n",
      "    uninstall\n"
     ]
    }
   ],
   "source": [
    "!cd juice-shop ; npm install ; npm install sqlite3 ; npm postinstall"
   ]
  },
  {
   "cell_type": "markdown",
   "metadata": {},
   "source": [
    "### 4th) launch Juice Shop"
   ]
  },
  {
   "cell_type": "code",
   "execution_count": 7,
   "metadata": {},
   "outputs": [
    {
     "name": "stdout",
     "output_type": "stream",
     "text": [
      "\u001b[37;40mnpm\u001b[0m \u001b[0m\u001b[31;40mERR!\u001b[0m \u001b[0m\u001b[35mpath\u001b[0m /codebuild/output/src793550612/src/github.com/OpenSecuritySummit/jp-tests/notebooks/Juice-Shop/package.json\r\n",
      "\u001b[0m\u001b[37;40mnpm\u001b[0m \u001b[0m\u001b[31;40mERR!\u001b[0m \u001b[0m\u001b[35mcode\u001b[0m ENOENT\r\n",
      "\u001b[0m\u001b[37;40mnpm\u001b[0m \u001b[0m\u001b[31;40mERR!\u001b[0m \u001b[0m\u001b[35merrno\u001b[0m -2\r\n",
      "\u001b[0m\u001b[37;40mnpm\u001b[0m \u001b[0m\u001b[31;40mERR!\u001b[0m \u001b[0m\u001b[35msyscall\u001b[0m open\r\n",
      "\u001b[0m\u001b[37;40mnpm\u001b[0m \u001b[0m\u001b[31;40mERR!\u001b[0m \u001b[0m\u001b[35menoent\u001b[0m ENOENT: no such file or directory, open '/codebuild/output/src793550612/src/github.com/OpenSecuritySummit/jp-tests/notebooks/Juice-Shop/package.json'\r\n",
      "\u001b[0m\u001b[37;40mnpm\u001b[0m \u001b[0m\u001b[31;40mERR!\u001b[0m \u001b[0m\u001b[35menoent\u001b[0m This is related to npm not being able to find a file.\r\n",
      "\u001b[0m\u001b[37;40mnpm\u001b[0m \u001b[0m\u001b[31;40mERR!\u001b[0m \u001b[0m\u001b[35menoent\u001b[0m \r\n",
      "\u001b[0m\r\n",
      "\u001b[37;40mnpm\u001b[0m \u001b[0m\u001b[31;40mERR!\u001b[0m\u001b[35m\u001b[0m A complete log of this run can be found in:\r\n",
      "\u001b[0m\u001b[37;40mnpm\u001b[0m \u001b[0m\u001b[31;40mERR!\u001b[0m\u001b[35m\u001b[0m     /home/jovyan/.npm/_logs/2019-06-08T10_14_26_390Z-debug.log\r\n",
      "\u001b[0m"
     ]
    }
   ],
   "source": [
    "!npm start"
   ]
  }
 ],
 "metadata": {
  "kernelspec": {
   "display_name": "Python 3",
   "language": "python",
   "name": "python3"
  },
  "language_info": {
   "codemirror_mode": {
    "name": "ipython",
    "version": 3
   },
   "file_extension": ".py",
   "mimetype": "text/x-python",
   "name": "python",
   "nbconvert_exporter": "python",
   "pygments_lexer": "ipython3",
   "version": "3.7.3"
  }
 },
 "nbformat": 4,
 "nbformat_minor": 2
}
