{
 "cells": [
  {
   "cell_type": "markdown",
   "metadata": {},
   "source": [
    "# Markdown cheatsheet for Jupyter"
   ]
  },
  {
   "cell_type": "markdown",
   "metadata": {},
   "source": [
    "... add intro...\n",
    "\n",
    "... add more examples .. and references\n",
    "\n",
    "**note:** some of the functionality (like the alerts) doesn't work in the Jupyter `/lab` environment UI, it only works on the `tree` UI (which is the default one)\n",
    "\n",
    "#### some examples\n",
    "\n",
    "\n",
    "(the first examples below are based on code samples from https://www.ibm.com/support/knowledgecenter/en/SSGNPV_1.1.3/dsx/markd-jupyter.html)\n",
    "\n",
    "<div class=\"alert alert-block alert-info\">\n",
    "<b>Tip:</b> Use blue boxes (alert-info) for tips and notes. \n",
    "If it’s a note, you don’t have to include the word “Note”.\n",
    "</div>\n",
    "\n",
    "\n",
    "> some indented text\n",
    "> goes here\n",
    "\n",
    "<div class=\"alert alert-block alert-success\">\n",
    "<b>Up to you:</b> Use green boxes sparingly, and only for some specific \n",
    "purpose that the other boxes can't cover. For example, if you have a lot \n",
    "of related content to link to, maybe you decide to use green boxes for \n",
    "related links from each section of a notebook.\n",
    "</div>\n",
    "\n",
    " - and now a red box\n",
    " \n",
    "<div class=\"alert alert-block alert-danger\">\n",
    "<b>Just don't:</b> In general, avoid the red boxes. These should only be\n",
    "used for actions that might cause data loss or another major issue.\n",
    "</div>\n",
    "\n",
    "\n",
    "&#9658; **Geometric shapes** &#9668; : &#9677; &#9635; &#9645; &#9672; &#9682; \n",
    "\n",
    "(see full list Geometric shapes here: https://www.w3schools.com/charsets/ref_utf_geometric.asp )\n",
    "\n",
    "\n"
   ]
  },
  {
   "cell_type": "markdown",
   "metadata": {},
   "source": [
    "#### testing how to show it in preview\n",
    "\n",
    "The examples above have the examples all in one cell of markdown\n",
    "\n",
    "The example below has two markdown cells with same content (one executed and one not executed)"
   ]
  },
  {
   "cell_type": "markdown",
   "metadata": {},
   "source": [
    "<div class=\"alert alert-block alert-info\">\n",
    "<b>Tip:</b> Use blue boxes (alert-info) for tips and notes. \n",
    "If it’s a note, you don’t have to include the word “Note”.\n",
    "</div>"
   ]
  },
  {
   "cell_type": "markdown",
   "metadata": {},
   "source": [
    "<div class=\"alert alert-block alert-info\">\n",
    "<b>Tip:</b> Use blue boxes (alert-info) for tips and notes. \n",
    "If it’s a note, you don’t have to include the word “Note”.\n",
    "</div>"
   ]
  },
  {
   "cell_type": "markdown",
   "metadata": {},
   "source": [
    "**note** the workflow above doesn't seem to work \n",
    "\n",
    "This next example uses the ```%%markdown``` magic command so the cell is actually a code cell but will be rendered as Markdown"
   ]
  },
  {
   "cell_type": "code",
   "execution_count": 9,
   "metadata": {
    "collapsed": true
   },
   "outputs": [
    {
     "data": {
      "text/markdown": [
       "<div class=\"alert alert-block alert-info\">\n",
       "<b>Tip:</b> Use blue boxes (alert-info) for tips and notes. \n",
       "If it’s a note, you don’t have to include the word “Note”.\n",
       "</div>\n"
      ],
      "text/plain": [
       "<IPython.core.display.Markdown object>"
      ]
     },
     "metadata": {},
     "output_type": "display_data"
    }
   ],
   "source": [
    "%%markdown\n",
    "<div class=\"alert alert-block alert-info\">\n",
    "<b>Tip:</b> Use blue boxes (alert-info) for tips and notes. \n",
    "If it’s a note, you don’t have to include the word “Note”.\n",
    "</div>"
   ]
  },
  {
   "cell_type": "code",
   "execution_count": null,
   "metadata": {},
   "outputs": [],
   "source": [
    "Images\n",
    "Here's our logo (hover to see the title text):\n",
    "\n",
    "Inline-style: \n",
    "![alt text](https://github.com/adam-p/markdown-here/raw/master/src/common/images/icon48.png \"Logo Title Text 1\")\n",
    "\n",
    "Reference-style: \n",
    "![alt text][logo]\n",
    "\n",
    "[logo]: https://github.com/adam-p/markdown-here/raw/master/src/common/images/icon48.png \"Logo Title Text 2\"\n",
    "Here's our logo (hover to see the title text):\n",
    "\n",
    "Inline-style: alt text\n",
    "\n",
    "Reference-style: alt text"
   ]
  }
 ],
 "metadata": {
  "kernelspec": {
   "display_name": "Python 3",
   "language": "python",
   "name": "python3"
  },
  "language_info": {
   "codemirror_mode": {
    "name": "ipython",
    "version": 3
   },
   "file_extension": ".py",
   "mimetype": "text/x-python",
   "name": "python",
   "nbconvert_exporter": "python",
   "pygments_lexer": "ipython3",
   "version": "3.7.3"
  }
 },
 "nbformat": 4,
 "nbformat_minor": 2
}
